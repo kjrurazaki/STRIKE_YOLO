{
 "cells": [
  {
   "cell_type": "markdown",
   "metadata": {},
   "source": [
    "# YOLO DS-IE method analysis and final errors for DS-II\n",
    "- Notebook of predictions, labelling and training is performed in the other one"
   ]
  },
  {
   "cell_type": "code",
   "execution_count": null,
   "metadata": {
    "colab": {
     "base_uri": "https://localhost:8080/"
    },
    "executionInfo": {
     "elapsed": 8677,
     "status": "ok",
     "timestamp": 1699737634168,
     "user": {
      "displayName": "Kenji Urazaki Junior",
      "userId": "11704701621463640642"
     },
     "user_tz": -60
    },
    "id": "q1a3GS3mpBol",
    "outputId": "e80cf3af-24b3-45c3-db8b-6a586def81ef"
   },
   "outputs": [],
   "source": [
    "NOTEBOOK_CONFIG = {\n",
    "    \"label_mode\": True,\n",
    "    \"train_mode\": True,\n",
    "    \"IMG_LENGTH\": 180,\n",
    "    \"IMG_WIDTH\": 72,\n",
    "    \"IMG_XDIM\": 72,\n",
    "    \"IMG_YDIM\": 180,\n",
    "    \"image_ranges\": [(0, 72), (0, 180)],\n",
    "    \"image_size\": [72, 180],\n",
    "    \"labels_type\": \"Labelsv0_T80kenji_detect\",\n",
    "    \"task\": \"detect\",\n",
    "    \"model_name\": \"YOLOv0_E12_detect\",\n",
    "}"
   ]
  },
  {
   "cell_type": "code",
   "execution_count": 2,
   "metadata": {
    "executionInfo": {
     "elapsed": 10194,
     "status": "ok",
     "timestamp": 1699737644356,
     "user": {
      "displayName": "Kenji Urazaki Junior",
      "userId": "11704701621463640642"
     },
     "user_tz": -60
    },
    "id": "II9lJmkmmig0"
   },
   "outputs": [],
   "source": [
    "# Folders\n",
    "# Location of images\n",
    "images_folder = f\"docs/Data/Images_T80kenji/\"\n",
    "# Locations of yolo's datasets\n",
    "yolo_folder = f\"docs/Models/{NOTEBOOK_CONFIG['yolo_type']}/datasets/\"\n",
    "# Location of labels\n",
    "labels_folder = f\"docs/Data/{NOTEBOOK_CONFIG['labels_type']}/\"\n",
    "# Location of trained models\n",
    "model_folder = f\"docs/Models/{NOTEBOOK_CONFIG['yolo_type']}/\""
   ]
  },
  {
   "cell_type": "code",
   "execution_count": 3,
   "metadata": {
    "executionInfo": {
     "elapsed": 11771,
     "status": "ok",
     "timestamp": 1699737656123,
     "user": {
      "displayName": "Kenji Urazaki Junior",
      "userId": "11704701621463640642"
     },
     "user_tz": -60
    },
    "id": "s6ocr0nrozCg"
   },
   "outputs": [],
   "source": [
    "# Path for sample image\n",
    "n_image = 109\n",
    "image_path = f\"docs/Data/Images_T80kenji/gaussian_{n_image}.png\"\n",
    "label_path = f\"docs/Data/{NOTEBOOK_CONFIG['labels_type']}/gaussian_{n_image}.txt\""
   ]
  },
  {
   "cell_type": "code",
   "execution_count": 4,
   "metadata": {
    "colab": {
     "base_uri": "https://localhost:8080/"
    },
    "executionInfo": {
     "elapsed": 25927,
     "status": "ok",
     "timestamp": 1699737682041,
     "user": {
      "displayName": "Kenji Urazaki Junior",
      "userId": "11704701621463640642"
     },
     "user_tz": -60
    },
    "id": "GP6pRte35--M",
    "outputId": "12df38f9-2a58-494e-fac4-326024576678"
   },
   "outputs": [
    {
     "name": "stdout",
     "output_type": "stream",
     "text": [
      "Mounted at /content/gdrive\n"
     ]
    }
   ],
   "source": [
    "from google.colab import drive\n",
    "\n",
    "drive.mount(\"/content/gdrive\")"
   ]
  },
  {
   "cell_type": "code",
   "execution_count": 5,
   "metadata": {
    "executionInfo": {
     "elapsed": 7,
     "status": "ok",
     "timestamp": 1699737682042,
     "user": {
      "displayName": "Kenji Urazaki Junior",
      "userId": "11704701621463640642"
     },
     "user_tz": -60
    },
    "id": "_wBlzIsERI6x"
   },
   "outputs": [],
   "source": [
    "import h5py\n",
    "import os\n",
    "import pandas as pd\n",
    "import numpy as np\n",
    "\n",
    "from datetime import datetime\n",
    "import scipy.io\n",
    "\n",
    "from matplotlib import pyplot as plt\n",
    "from adjustText import adjust_text"
   ]
  },
  {
   "cell_type": "code",
   "execution_count": 6,
   "metadata": {
    "executionInfo": {
     "elapsed": 5,
     "status": "ok",
     "timestamp": 1699737682042,
     "user": {
      "displayName": "Kenji Urazaki Junior",
      "userId": "11704701621463640642"
     },
     "user_tz": -60
    },
    "id": "mascjIaVjxNJ"
   },
   "outputs": [],
   "source": [
    "from ultralytics import YOLO\n",
    "import cv2\n",
    "from PIL import Image"
   ]
  },
  {
   "cell_type": "markdown",
   "metadata": {
    "id": "3AmV3H7duMnF"
   },
   "source": [
    "# Load modules"
   ]
  },
  {
   "cell_type": "code",
   "execution_count": 15,
   "metadata": {
    "executionInfo": {
     "elapsed": 3491,
     "status": "ok",
     "timestamp": 1699737704588,
     "user": {
      "displayName": "Kenji Urazaki Junior",
      "userId": "11704701621463640642"
     },
     "user_tz": -60
    },
    "id": "QCSF28uNp5Ix"
   },
   "outputs": [],
   "source": [
    "# Training runs (best)\n",
    "bst_run = {\n",
    "    \"YOLOv0_detect\": \"2023-07-26_18-50-24\",\n",
    "    \"YOLOv0_E2_detect\": \"2023-08-21_09-27-11\",\n",
    "    \"YOLOv0_E3_detect\": \"2023-08-21_10-25-30\",\n",
    "    \"YOLOv0_E4_detect\": \"2023-08-21_14-37-58\",\n",
    "    \"YOLOv0_E12_detect\": \"2023-08-21_13-57-46\",\n",
    "    \"YOLOv0_T80kenji_detect\": \"2023-09-04_11-19-43\",\n",
    "}"
   ]
  },
  {
   "cell_type": "code",
   "execution_count": null,
   "metadata": {
    "colab": {
     "base_uri": "https://localhost:8080/"
    },
    "executionInfo": {
     "elapsed": 245,
     "status": "ok",
     "timestamp": 1699737704825,
     "user": {
      "displayName": "Kenji Urazaki Junior",
      "userId": "11704701621463640642"
     },
     "user_tz": -60
    },
    "id": "h3Ap154FjzsI",
    "outputId": "4e1de4bb-cd57-4b32-a4fb-04bc8189c087"
   },
   "outputs": [],
   "source": [
    "# Load custom model\n",
    "base_path = \"docs/Models\"\n",
    "model_path = (f\"{NOTEBOOK_CONFIG['model_name']}/runs/\n",
    "              {bst_run[NOTEBOOK_CONFIG['model_name']]}/\n",
    "              {NOTEBOOK_CONFIG['task']}\")\n",
    "\n",
    "model = YOLO(f\"{base_path}/{model_path}/train/weights/best.pt\")"
   ]
  },
  {
   "cell_type": "code",
   "execution_count": null,
   "metadata": {},
   "outputs": [],
   "source": [
    "import sys\n",
    "\n",
    "sys.path.append(\"..\")"
   ]
  },
  {
   "cell_type": "code",
   "execution_count": null,
   "metadata": {},
   "outputs": [],
   "source": [
    "from helpers.gaussian_generator import generate_grid\n",
    "from helpers.auxiliary_functions import parameters_extract, checkpoint_error\n",
    "from helpers.aux_plotter import (\n",
    "    plot_boxes,\n",
    "    plot_boxes_gmm,\n",
    "    gaussians_labelled,\n",
    "    plot_grayscale,\n",
    "    plot_box_labels,\n",
    ")\n",
    "from pipelines.pipelines import (\n",
    "    ppl_fit_gaussians,\n",
    "    ppl_error_estimation,\n",
    "    ppl_yolo_predict_gaussians,\n",
    "    ppl_yolo_px_predict_gaussians,\n",
    "    ppl_ensemble_predict_gaussians,\n",
    ")\n",
    "from helpers.error_estimation import compute_error_per_gaussian"
   ]
  },
  {
   "cell_type": "markdown",
   "metadata": {
    "id": "ITUeQub8Q9we"
   },
   "source": [
    "# Data from CNR"
   ]
  },
  {
   "cell_type": "markdown",
   "metadata": {
    "id": "GonBVBEbQi5d"
   },
   "source": [
    "## Load\n",
    "- Real size of the tile is roughly equal to 2 pixel / mm"
   ]
  },
  {
   "cell_type": "code",
   "execution_count": 17,
   "metadata": {
    "colab": {
     "base_uri": "https://localhost:8080/"
    },
    "executionInfo": {
     "elapsed": 1327,
     "status": "ok",
     "timestamp": 1699737706150,
     "user": {
      "displayName": "Kenji Urazaki Junior",
      "userId": "11704701621463640642"
     },
     "user_tz": -60
    },
    "id": "gX1pUEjDRQaa",
    "outputId": "dac490c5-5a9d-4911-fd64-5bfc1af95a5f"
   },
   "outputs": [
    {
     "name": "stdout",
     "output_type": "stream",
     "text": [
      "['T2fit', 'val_fit']\n"
     ]
    }
   ],
   "source": [
    "filename = \"docs/Data/T80_kenji.mat\"\n",
    "mat = {}\n",
    "with h5py.File(filename, \"r\") as f:\n",
    "    # Print all keys in the file\n",
    "    print(list(f.keys()))\n",
    "    for i_key in f.keys():\n",
    "        mat.update({i_key: f[i_key][:]})"
   ]
  },
  {
   "cell_type": "code",
   "execution_count": 18,
   "metadata": {
    "executionInfo": {
     "elapsed": 8,
     "status": "ok",
     "timestamp": 1699737706151,
     "user": {
      "displayName": "Kenji Urazaki Junior",
      "userId": "11704701621463640642"
     },
     "user_tz": -60
    },
    "id": "YxQ-jQKnS2Fh"
   },
   "outputs": [],
   "source": [
    "# Renaming as the previous data\n",
    "mat[\"F_data\"] = mat[\"T2fit\"]\n",
    "mat[\"Fit_flux\"] = mat[\"val_fit\"]\n",
    "del mat[\"T2fit\"]\n",
    "del mat[\"val_fit\"]"
   ]
  },
  {
   "cell_type": "code",
   "execution_count": 19,
   "metadata": {
    "executionInfo": {
     "elapsed": 7,
     "status": "ok",
     "timestamp": 1699737706151,
     "user": {
      "displayName": "Kenji Urazaki Junior",
      "userId": "11704701621463640642"
     },
     "user_tz": -60
    },
    "id": "cLEOLh-ga12B"
   },
   "outputs": [],
   "source": [
    "# Transposing to match the organization of the previous database\n",
    "mat[\"F_data\"] = mat[\"F_data\"].T\n",
    "mat[\"Fit_flux\"] = mat[\"Fit_flux\"].T"
   ]
  },
  {
   "cell_type": "code",
   "execution_count": 20,
   "metadata": {
    "executionInfo": {
     "elapsed": 6,
     "status": "ok",
     "timestamp": 1699737706151,
     "user": {
      "displayName": "Kenji Urazaki Junior",
      "userId": "11704701621463640642"
     },
     "user_tz": -60
    },
    "id": "aksjWoZzRcw1"
   },
   "outputs": [],
   "source": [
    "# Generate GRID\n",
    "width = mat[\"F_data\"].shape[1]\n",
    "length = mat[\"F_data\"].shape[0]\n",
    "x, y = generate_grid(\n",
    "    (0, width), (0, length), mat[\"F_data\"].shape[1], mat[\"F_data\"].shape[0]\n",
    ")"
   ]
  },
  {
   "cell_type": "code",
   "execution_count": 21,
   "metadata": {
    "colab": {
     "base_uri": "https://localhost:8080/"
    },
    "executionInfo": {
     "elapsed": 6,
     "status": "ok",
     "timestamp": 1699737706151,
     "user": {
      "displayName": "Kenji Urazaki Junior",
      "userId": "11704701621463640642"
     },
     "user_tz": -60
    },
    "id": "PkLCd9bWJp_N",
    "outputId": "3baa8e79-4897-40df-fd0c-8602a9a32f4f"
   },
   "outputs": [
    {
     "name": "stdout",
     "output_type": "stream",
     "text": [
      "(180, 72, 400)\n",
      "(180, 72)\n",
      "(180, 72)\n"
     ]
    }
   ],
   "source": [
    "print(mat[\"F_data\"].shape)\n",
    "print(x.shape)\n",
    "print(y.shape)"
   ]
  },
  {
   "cell_type": "code",
   "execution_count": 22,
   "metadata": {
    "colab": {
     "base_uri": "https://localhost:8080/",
     "height": 855
    },
    "executionInfo": {
     "elapsed": 1736,
     "status": "ok",
     "timestamp": 1699737707883,
     "user": {
      "displayName": "Kenji Urazaki Junior",
      "userId": "11704701621463640642"
     },
     "user_tz": -60
    },
    "id": "6jQBAhhiSlpN",
    "outputId": "b04fa55c-41cb-4133-80b3-f520986d4791"
   },
   "outputs": [
    {
     "data": {
      "image/png": "[encoded data removed]",
      "text/plain": [
       "<Figure size 1500x1000 with 2 Axes>"
      ]
     },
     "metadata": {},
     "output_type": "display_data"
    }
   ],
   "source": [
    "fig, ax = plt.subplots(figsize=(15, 10))\n",
    "plot_grayscale(x, y, mat[\"F_data\"][:, :, 0], ax=ax)"
   ]
  },
  {
   "cell_type": "markdown",
   "metadata": {
    "id": "A8N4i_NK5Oxq"
   },
   "source": [
    "# [ESTIMATION PART I and II]\n",
    "- Images: 400\n",
    "- predict_T80kenji"
   ]
  },
  {
   "cell_type": "markdown",
   "metadata": {
    "id": "jh0WK3kh4wSL"
   },
   "source": [
    "## [ESTIMATION] Pipeline ppl_Yolo DS-IE"
   ]
  },
  {
   "cell_type": "code",
   "execution_count": 42,
   "metadata": {
    "colab": {
     "base_uri": "https://localhost:8080/"
    },
    "executionInfo": {
     "elapsed": 2916,
     "status": "ok",
     "timestamp": 1699740573578,
     "user": {
      "displayName": "Kenji Urazaki Junior",
      "userId": "11704701621463640642"
     },
     "user_tz": -60
    },
    "id": "xpR5YWwJ4X_M",
    "outputId": "9120ceb6-b077-428c-97a9-12b3c9df9a59"
   },
   "outputs": [
    {
     "name": "stderr",
     "output_type": "stream",
     "text": [
      "\n",
      "0: 640x256 91 gaussians, 569.0ms\n",
      "Speed: 2.0ms preprocess, 569.0ms inference, 1.9ms postprocess per image at shape (1, 3, 640, 256)\n"
     ]
    }
   ],
   "source": [
    "# Make the prediction\n",
    "img = cv2.imread(image_path)\n",
    "results = model.predict(img)\n",
    "\n",
    "# class 0 boxes\n",
    "tensor_boxes = results[0].boxes.xyxy\n",
    "\n",
    "# Centers\n",
    "means_yolo = [\n",
    "    (float(x), float(y))\n",
    "    for x, y in zip(\n",
    "        results[0].boxes.xywhn[:, 0] * NOTEBOOK_CONFIG[\"image_size\"][0],\n",
    "        results[0].boxes.xywhn[:, 1] * NOTEBOOK_CONFIG[\"image_size\"][1],\n",
    "    )\n",
    "]"
   ]
  },
  {
   "cell_type": "code",
   "execution_count": null,
   "metadata": {},
   "outputs": [],
   "source": [
    "# Estimate Gaussian - Final prediction\n",
    "image = [x, y, mat[\"F_data\"][:, :, n_image]]\n",
    "(means, covariances, angles, amplitudes) = ppl_fit_gaussians(\n",
    "    image,\n",
    "    means_init=\"laplace\",\n",
    "    peak_method=\"laplace\",\n",
    "    em_iterations=1000,\n",
    "    covariance_gaussians_type=\"diag\",\n",
    "    n_gaussians=None,\n",
    "    image_ranges=NOTEBOOK_CONFIG[\"image_ranges\"],\n",
    "    image_size=NOTEBOOK_CONFIG[\"image_size\"],\n",
    "    fig_size=(10, 8),\n",
    "    plot=True,\n",
    "    plot_points=True,\n",
    ")"
   ]
  },
  {
   "cell_type": "code",
   "execution_count": null,
   "metadata": {
    "colab": {
     "base_uri": "https://localhost:8080/",
     "height": 1000
    },
    "executionInfo": {
     "elapsed": 2970,
     "status": "error",
     "timestamp": 1699737854878,
     "user": {
      "displayName": "Kenji Urazaki Junior",
      "userId": "11704701621463640642"
     },
     "user_tz": -60
    },
    "id": "7Kvvu1qQ5AU5",
    "outputId": "3f494587-7851-4c87-aa3c-33777e7f6c8b"
   },
   "outputs": [],
   "source": [
    "# Open the image file\n",
    "im = Image.open(image_path)\n",
    "\n",
    "# Create figure and axes\n",
    "fig, axs = plt.subplots(1, 4, figsize=(15, 20))\n",
    "\n",
    "# Display the image and plot predicted centers GMM\n",
    "axs[2].imshow(im)\n",
    "plot_boxes_gmm(\n",
    "    means=means, covariances=covariances, ax=axs[2], beta=3, edge_color=\"#0343DF\"\n",
    ")\n",
    "axs[2].set_ylim(ax.get_ylim()[::-1])\n",
    "axs[2].scatter(means[:, 0] * 1000, means[:, 1] * 1000, s=1)\n",
    "# axs[3].axis('off')\n",
    "axs[2].set_xlim(0, NOTEBOOK_CONFIG[\"IMG_XDIM\"])\n",
    "axs[2].set_ylim(0, NOTEBOOK_CONFIG[\"IMG_YDIM\"])\n",
    "\n",
    "\n",
    "# Display the image and plot predicted centers\n",
    "axs[3].imshow(im)\n",
    "plot_boxes(tensor_boxes, axs[3], edge_color=\"g\")\n",
    "axs[3].set_ylim(axs[2].get_ylim()[::-1])\n",
    "axs[3].scatter(np.array(means_yolo)[:, 0], np.array(means_yolo)[:, 1], s=1)\n",
    "# axs[2].axis('off')\n",
    "axs[3].set_xlim(0, NOTEBOOK_CONFIG[\"IMG_XDIM\"])\n",
    "axs[3].set_ylim(0, NOTEBOOK_CONFIG[\"IMG_YDIM\"])\n",
    "\n",
    "# axs[2].set_title(\"Prediction\")\n",
    "\n",
    "# Labelling\n",
    "x, y, z = gaussians_labelled(\n",
    "    image_path,\n",
    "    label_path,\n",
    "    axs[1],\n",
    "    task=NOTEBOOK_CONFIG[\"task\"],\n",
    "    colorbar=False,\n",
    "    plot_centers=True,\n",
    ")\n",
    "# axs[1].axis('off')\n",
    "axs[1].set_xlim(0, NOTEBOOK_CONFIG[\"IMG_WIDTH\"])\n",
    "axs[1].set_ylim(0, NOTEBOOK_CONFIG[\"IMG_LENGTH\"])\n",
    "# axs[1].set_title(\"Ground Truth\")\n",
    "\n",
    "# Image\n",
    "plot_grayscale(x, y, z, colorbar=False, ax=axs[0])\n",
    "# axs[0].axis('off')\n",
    "axs[0].set_xlim(0, NOTEBOOK_CONFIG[\"IMG_WIDTH\"])\n",
    "axs[0].set_ylim(0, NOTEBOOK_CONFIG[\"IMG_LENGTH\"])\n",
    "\n",
    "\n",
    "for ax in axs:\n",
    "    ax.xaxis.label.set_text(\"\")\n",
    "    ax.yaxis.label.set_text(\"\")\n",
    "\n",
    "    ax.set_xticks([])\n",
    "    ax.set_yticks([])\n",
    "    # Change the color of the axis spines (borders)\n",
    "    for spine in ax.spines.values():\n",
    "        spine.set_edgecolor(\"gray\")\n",
    "        spine.set_linewidth(1)\n",
    "\n",
    "plt.subplots_adjust(wspace=0.08)\n",
    "plt.show()"
   ]
  },
  {
   "cell_type": "markdown",
   "metadata": {
    "id": "dWEtgEdRKjVp"
   },
   "source": [
    "### Error evaluation"
   ]
  },
  {
   "cell_type": "code",
   "execution_count": null,
   "metadata": {
    "id": "Xy6c20QnKnAI"
   },
   "outputs": [],
   "source": [
    "# Get number of images that need to be evaluated - YOLO test set\n",
    "images_test = os.listdir(\n",
    "    f\"docs/Models/{NOTEBOOK_CONFIG['model_name']}/datasets/test/images/\"\n",
    ")\n",
    "eval_images = [\n",
    "    int(i.split(\"_\")[1].split(\".\")[0]) for i in images_test\n",
    "]  # Use the same images of the test from YOLO"
   ]
  },
  {
   "cell_type": "code",
   "execution_count": null,
   "metadata": {
    "colab": {
     "base_uri": "https://localhost:8080/"
    },
    "executionInfo": {
     "elapsed": 4,
     "status": "ok",
     "timestamp": 1697907455717,
     "user": {
      "displayName": "Kenji Urazaki Junior",
      "userId": "11704701621463640642"
     },
     "user_tz": -120
    },
    "id": "0RTCzFKSK5V9",
    "outputId": "7d199b6b-ff37-4f53-cf38-4bb4938d3780"
   },
   "outputs": [
    {
     "name": "stdout",
     "output_type": "stream",
     "text": [
      "[208, 304, 262, 288, 77, 230, 45, 115, 172, 188, 93, 323, 371, 8, 285, 200, 383, 365, 297, 31, 28, 193, 322, 144, 286, 191, 155, 291, 109, 194, 97, 209, 310, 301, 70, 324, 4, 357, 57, 242]\n"
     ]
    }
   ],
   "source": [
    "print(eval_images)"
   ]
  },
  {
   "cell_type": "code",
   "execution_count": null,
   "metadata": {
    "colab": {
     "base_uri": "https://localhost:8080/"
    },
    "executionInfo": {
     "elapsed": 25886,
     "status": "ok",
     "timestamp": 1697908198732,
     "user": {
      "displayName": "Kenji Urazaki Junior",
      "userId": "11704701621463640642"
     },
     "user_tz": -120
    },
    "id": "vDKn10CIKqdP",
    "outputId": "b4a971da-530b-4455-ffd5-7e6ab94e3977"
   },
   "outputs": [
    {
     "name": "stderr",
     "output_type": "stream",
     "text": [
      "\n",
      "0: 640x256 88 gaussians, 373.1ms\n",
      "Speed: 1.3ms preprocess, 373.1ms inference, 1.2ms postprocess per image at shape (1, 3, 640, 256)\n"
     ]
    },
    {
     "name": "stdout",
     "output_type": "stream",
     "text": [
      "covariances [[[     9.8104           0]\n",
      "  [          0      5.8108]]]\n",
      "covariances true [[[     5.3991           0]\n",
      "  [          0      5.3336]]]\n"
     ]
    },
    {
     "name": "stderr",
     "output_type": "stream",
     "text": [
      "\n",
      "0: 640x256 92 gaussians, 536.7ms\n",
      "Speed: 1.7ms preprocess, 536.7ms inference, 1.1ms postprocess per image at shape (1, 3, 640, 256)\n"
     ]
    },
    {
     "name": "stdout",
     "output_type": "stream",
     "text": [
      "covariances [[[      8.157           0]\n",
      "  [          0      5.7845]]]\n",
      "covariances true [[[     5.3992           0]\n",
      "  [          0      3.9359]]]\n"
     ]
    },
    {
     "name": "stderr",
     "output_type": "stream",
     "text": [
      "\n",
      "0: 640x256 78 gaussians, 1192.6ms\n",
      "Speed: 1.1ms preprocess, 1192.6ms inference, 14.5ms postprocess per image at shape (1, 3, 640, 256)\n"
     ]
    },
    {
     "name": "stdout",
     "output_type": "stream",
     "text": [
      "covariances [[[     8.5336           0]\n",
      "  [          0      7.0598]]]\n",
      "covariances true [[[     5.8366           0]\n",
      "  [          0      5.4095]]]\n"
     ]
    },
    {
     "name": "stderr",
     "output_type": "stream",
     "text": [
      "\n",
      "0: 640x256 72 gaussians, 411.6ms\n",
      "Speed: 1.2ms preprocess, 411.6ms inference, 1.3ms postprocess per image at shape (1, 3, 640, 256)\n"
     ]
    },
    {
     "name": "stdout",
     "output_type": "stream",
     "text": [
      "covariances [[[     7.7912           0]\n",
      "  [          0      5.4697]]]\n",
      "covariances true [[[     5.3771           0]\n",
      "  [          0       3.654]]]\n"
     ]
    },
    {
     "name": "stderr",
     "output_type": "stream",
     "text": [
      "\n",
      "0: 640x256 87 gaussians, 343.4ms\n",
      "Speed: 1.7ms preprocess, 343.4ms inference, 1.1ms postprocess per image at shape (1, 3, 640, 256)\n"
     ]
    },
    {
     "name": "stdout",
     "output_type": "stream",
     "text": [
      "covariances [[[     8.2322           0]\n",
      "  [          0      5.7359]]]\n",
      "covariances true [[[     5.5201           0]\n",
      "  [          0      3.8042]]]\n"
     ]
    },
    {
     "name": "stderr",
     "output_type": "stream",
     "text": [
      "\n",
      "0: 640x256 91 gaussians, 273.2ms\n",
      "Speed: 1.3ms preprocess, 273.2ms inference, 1.1ms postprocess per image at shape (1, 3, 640, 256)\n"
     ]
    },
    {
     "name": "stdout",
     "output_type": "stream",
     "text": [
      "covariances [[[     8.1826           0]\n",
      "  [          0      5.7682]]]\n",
      "covariances true [[[      5.442           0]\n",
      "  [          0      4.5346]]]\n"
     ]
    },
    {
     "name": "stderr",
     "output_type": "stream",
     "text": [
      "\n",
      "0: 640x256 79 gaussians, 183.4ms\n",
      "Speed: 5.6ms preprocess, 183.4ms inference, 0.9ms postprocess per image at shape (1, 3, 640, 256)\n"
     ]
    },
    {
     "name": "stdout",
     "output_type": "stream",
     "text": [
      "covariances [[[     7.7738           0]\n",
      "  [          0      5.2778]]]\n",
      "covariances true [[[     5.5298           0]\n",
      "  [          0      3.6782]]]\n"
     ]
    },
    {
     "name": "stderr",
     "output_type": "stream",
     "text": [
      "\n",
      "0: 640x256 90 gaussians, 176.5ms\n",
      "Speed: 2.5ms preprocess, 176.5ms inference, 0.8ms postprocess per image at shape (1, 3, 640, 256)\n"
     ]
    },
    {
     "name": "stdout",
     "output_type": "stream",
     "text": [
      "covariances [[[     7.3068           0]\n",
      "  [          0      5.6921]]]\n",
      "covariances true [[[      5.109           0]\n",
      "  [          0      3.9206]]]\n"
     ]
    },
    {
     "name": "stderr",
     "output_type": "stream",
     "text": [
      "\n",
      "0: 640x256 91 gaussians, 179.9ms\n",
      "Speed: 1.2ms preprocess, 179.9ms inference, 0.9ms postprocess per image at shape (1, 3, 640, 256)\n"
     ]
    },
    {
     "name": "stdout",
     "output_type": "stream",
     "text": [
      "covariances [[[     6.7295           0]\n",
      "  [          0      6.2175]]]\n",
      "covariances true [[[     4.6205           0]\n",
      "  [          0      4.1786]]]\n"
     ]
    },
    {
     "name": "stderr",
     "output_type": "stream",
     "text": [
      "\n",
      "0: 640x256 88 gaussians, 178.5ms\n",
      "Speed: 1.6ms preprocess, 178.5ms inference, 0.8ms postprocess per image at shape (1, 3, 640, 256)\n"
     ]
    },
    {
     "name": "stdout",
     "output_type": "stream",
     "text": [
      "covariances [[[      8.068           0]\n",
      "  [          0      6.0308]]]\n",
      "covariances true [[[     5.2537           0]\n",
      "  [          0      4.1029]]]\n"
     ]
    },
    {
     "name": "stderr",
     "output_type": "stream",
     "text": [
      "\n",
      "0: 640x256 87 gaussians, 181.3ms\n",
      "Speed: 7.6ms preprocess, 181.3ms inference, 0.8ms postprocess per image at shape (1, 3, 640, 256)\n",
      "\n"
     ]
    },
    {
     "name": "stdout",
     "output_type": "stream",
     "text": [
      "covariances [[[     7.2979           0]\n",
      "  [          0      6.1802]]]\n",
      "covariances true [[[     5.1254           0]\n",
      "  [          0      4.3112]]]\n"
     ]
    },
    {
     "name": "stderr",
     "output_type": "stream",
     "text": [
      "0: 640x256 91 gaussians, 186.1ms\n",
      "Speed: 1.1ms preprocess, 186.1ms inference, 0.8ms postprocess per image at shape (1, 3, 640, 256)\n"
     ]
    },
    {
     "name": "stdout",
     "output_type": "stream",
     "text": [
      "covariances [[[     6.4053           0]\n",
      "  [          0      5.3382]]]\n",
      "covariances true [[[     4.2379           0]\n",
      "  [          0      3.6142]]]\n"
     ]
    },
    {
     "name": "stderr",
     "output_type": "stream",
     "text": [
      "\n",
      "0: 640x256 88 gaussians, 173.8ms\n",
      "Speed: 2.0ms preprocess, 173.8ms inference, 0.7ms postprocess per image at shape (1, 3, 640, 256)\n"
     ]
    },
    {
     "name": "stdout",
     "output_type": "stream",
     "text": [
      "covariances [[[     7.7239           0]\n",
      "  [          0      5.2335]]]\n",
      "covariances true [[[     5.4315           0]\n",
      "  [          0      3.6159]]]\n"
     ]
    },
    {
     "name": "stderr",
     "output_type": "stream",
     "text": [
      "\n",
      "0: 640x256 83 gaussians, 193.0ms\n",
      "Speed: 1.5ms preprocess, 193.0ms inference, 0.8ms postprocess per image at shape (1, 3, 640, 256)\n"
     ]
    },
    {
     "name": "stdout",
     "output_type": "stream",
     "text": [
      "covariances [[[     10.221           0]\n",
      "  [          0      6.2099]]]\n",
      "covariances true [[[     6.2112           0]\n",
      "  [          0      4.1014]]]\n"
     ]
    },
    {
     "name": "stderr",
     "output_type": "stream",
     "text": [
      "\n",
      "0: 640x256 87 gaussians, 179.7ms\n",
      "Speed: 1.9ms preprocess, 179.7ms inference, 0.8ms postprocess per image at shape (1, 3, 640, 256)\n"
     ]
    },
    {
     "name": "stdout",
     "output_type": "stream",
     "text": [
      "covariances [[[     8.1263           0]\n",
      "  [          0      6.1469]]]\n",
      "covariances true [[[     5.7158           0]\n",
      "  [          0       4.362]]]\n"
     ]
    },
    {
     "name": "stderr",
     "output_type": "stream",
     "text": [
      "\n",
      "0: 640x256 84 gaussians, 171.7ms\n",
      "Speed: 1.6ms preprocess, 171.7ms inference, 0.8ms postprocess per image at shape (1, 3, 640, 256)\n"
     ]
    },
    {
     "name": "stdout",
     "output_type": "stream",
     "text": [
      "covariances [[[     9.7909           0]\n",
      "  [          0      6.1112]]]\n",
      "covariances true [[[     6.0482           0]\n",
      "  [          0      4.2614]]]\n"
     ]
    },
    {
     "name": "stderr",
     "output_type": "stream",
     "text": [
      "\n",
      "0: 640x256 89 gaussians, 179.7ms\n",
      "Speed: 2.1ms preprocess, 179.7ms inference, 1.1ms postprocess per image at shape (1, 3, 640, 256)\n"
     ]
    },
    {
     "name": "stdout",
     "output_type": "stream",
     "text": [
      "covariances [[[     8.1559           0]\n",
      "  [          0      5.9759]]]\n",
      "covariances true [[[     5.7356           0]\n",
      "  [          0      3.8975]]]\n"
     ]
    },
    {
     "name": "stderr",
     "output_type": "stream",
     "text": [
      "\n",
      "0: 640x256 91 gaussians, 184.5ms\n",
      "Speed: 1.4ms preprocess, 184.5ms inference, 0.9ms postprocess per image at shape (1, 3, 640, 256)\n"
     ]
    },
    {
     "name": "stdout",
     "output_type": "stream",
     "text": [
      "covariances [[[      8.643           0]\n",
      "  [          0      6.1916]]]\n",
      "covariances true [[[     4.7311           0]\n",
      "  [          0      4.1403]]]\n"
     ]
    },
    {
     "name": "stderr",
     "output_type": "stream",
     "text": [
      "\n",
      "0: 640x256 93 gaussians, 182.9ms\n",
      "Speed: 1.2ms preprocess, 182.9ms inference, 0.9ms postprocess per image at shape (1, 3, 640, 256)\n"
     ]
    },
    {
     "name": "stdout",
     "output_type": "stream",
     "text": [
      "covariances [[[     11.189           0]\n",
      "  [          0      5.3595]]]\n",
      "covariances true [[[     6.3647           0]\n",
      "  [          0      4.6011]]]\n"
     ]
    },
    {
     "name": "stderr",
     "output_type": "stream",
     "text": [
      "\n",
      "0: 640x256 107 gaussians, 177.0ms\n",
      "Speed: 4.1ms preprocess, 177.0ms inference, 0.9ms postprocess per image at shape (1, 3, 640, 256)\n"
     ]
    },
    {
     "name": "stdout",
     "output_type": "stream",
     "text": [
      "covariances [[[     8.1706           0]\n",
      "  [          0      6.3047]]]\n",
      "covariances true [[[     5.5911           0]\n",
      "  [          0      4.5893]]]\n"
     ]
    },
    {
     "name": "stderr",
     "output_type": "stream",
     "text": [
      "\n",
      "0: 640x256 88 gaussians, 182.8ms\n",
      "Speed: 1.7ms preprocess, 182.8ms inference, 0.8ms postprocess per image at shape (1, 3, 640, 256)\n"
     ]
    },
    {
     "name": "stdout",
     "output_type": "stream",
     "text": [
      "covariances [[[     6.9572           0]\n",
      "  [          0      6.1164]]]\n",
      "covariances true [[[     4.9467           0]\n",
      "  [          0      4.3504]]]\n"
     ]
    },
    {
     "name": "stderr",
     "output_type": "stream",
     "text": [
      "\n",
      "0: 640x256 87 gaussians, 205.7ms\n",
      "Speed: 3.5ms preprocess, 205.7ms inference, 1.2ms postprocess per image at shape (1, 3, 640, 256)\n"
     ]
    },
    {
     "name": "stdout",
     "output_type": "stream",
     "text": [
      "covariances [[[     7.6858           0]\n",
      "  [          0       5.316]]]\n",
      "covariances true [[[     5.2259           0]\n",
      "  [          0      3.6808]]]\n"
     ]
    },
    {
     "name": "stderr",
     "output_type": "stream",
     "text": [
      "\n",
      "0: 640x256 98 gaussians, 246.2ms\n",
      "Speed: 1.1ms preprocess, 246.2ms inference, 1.1ms postprocess per image at shape (1, 3, 640, 256)\n"
     ]
    },
    {
     "name": "stdout",
     "output_type": "stream",
     "text": [
      "covariances [[[     10.154           0]\n",
      "  [          0      6.1785]]]\n",
      "covariances true [[[     5.0186           0]\n",
      "  [          0      3.8209]]]\n"
     ]
    },
    {
     "name": "stderr",
     "output_type": "stream",
     "text": [
      "\n",
      "0: 640x256 85 gaussians, 255.1ms\n",
      "Speed: 3.1ms preprocess, 255.1ms inference, 1.0ms postprocess per image at shape (1, 3, 640, 256)\n"
     ]
    },
    {
     "name": "stdout",
     "output_type": "stream",
     "text": [
      "covariances [[[     7.5492           0]\n",
      "  [          0      5.7806]]]\n",
      "covariances true [[[     5.5562           0]\n",
      "  [          0      4.1562]]]\n"
     ]
    },
    {
     "name": "stderr",
     "output_type": "stream",
     "text": [
      "\n",
      "0: 640x256 86 gaussians, 237.7ms\n",
      "Speed: 1.2ms preprocess, 237.7ms inference, 1.1ms postprocess per image at shape (1, 3, 640, 256)\n"
     ]
    },
    {
     "name": "stdout",
     "output_type": "stream",
     "text": [
      "covariances [[[     7.4809           0]\n",
      "  [          0      5.3339]]]\n",
      "covariances true [[[     5.2638           0]\n",
      "  [          0      3.6291]]]\n"
     ]
    },
    {
     "name": "stderr",
     "output_type": "stream",
     "text": [
      "\n",
      "0: 640x256 85 gaussians, 247.5ms\n",
      "Speed: 1.3ms preprocess, 247.5ms inference, 1.3ms postprocess per image at shape (1, 3, 640, 256)\n"
     ]
    },
    {
     "name": "stdout",
     "output_type": "stream",
     "text": [
      "covariances [[[     7.4258           0]\n",
      "  [          0      5.8276]]]\n",
      "covariances true [[[     5.2157           0]\n",
      "  [          0      4.2721]]]\n"
     ]
    },
    {
     "name": "stderr",
     "output_type": "stream",
     "text": [
      "\n",
      "0: 640x256 92 gaussians, 171.7ms\n",
      "Speed: 1.0ms preprocess, 171.7ms inference, 0.8ms postprocess per image at shape (1, 3, 640, 256)\n"
     ]
    },
    {
     "name": "stdout",
     "output_type": "stream",
     "text": [
      "covariances [[[     9.9835           0]\n",
      "  [          0      6.4455]]]\n",
      "covariances true [[[     5.6168           0]\n",
      "  [          0      5.6125]]]\n"
     ]
    },
    {
     "name": "stderr",
     "output_type": "stream",
     "text": [
      "\n",
      "0: 640x256 76 gaussians, 174.7ms\n",
      "Speed: 0.9ms preprocess, 174.7ms inference, 0.8ms postprocess per image at shape (1, 3, 640, 256)\n"
     ]
    },
    {
     "name": "stdout",
     "output_type": "stream",
     "text": [
      "covariances [[[     6.2705           0]\n",
      "  [          0      5.4942]]]\n",
      "covariances true [[[     4.2782           0]\n",
      "  [          0      3.6208]]]\n"
     ]
    },
    {
     "name": "stderr",
     "output_type": "stream",
     "text": [
      "\n",
      "0: 640x256 91 gaussians, 174.0ms\n",
      "Speed: 1.2ms preprocess, 174.0ms inference, 1.1ms postprocess per image at shape (1, 3, 640, 256)\n"
     ]
    },
    {
     "name": "stdout",
     "output_type": "stream",
     "text": [
      "covariances [[[     8.8811           0]\n",
      "  [          0      6.7322]]]\n",
      "covariances true [[[     4.9199           0]\n",
      "  [          0       4.536]]]\n"
     ]
    },
    {
     "name": "stderr",
     "output_type": "stream",
     "text": [
      "\n",
      "0: 640x256 78 gaussians, 169.2ms\n",
      "Speed: 1.2ms preprocess, 169.2ms inference, 0.8ms postprocess per image at shape (1, 3, 640, 256)\n"
     ]
    },
    {
     "name": "stdout",
     "output_type": "stream",
     "text": [
      "covariances [[[     7.7891           0]\n",
      "  [          0      5.4017]]]\n",
      "covariances true [[[      5.504           0]\n",
      "  [          0      3.7813]]]\n"
     ]
    },
    {
     "name": "stderr",
     "output_type": "stream",
     "text": [
      "\n",
      "0: 640x256 80 gaussians, 182.7ms\n",
      "Speed: 1.6ms preprocess, 182.7ms inference, 0.8ms postprocess per image at shape (1, 3, 640, 256)\n"
     ]
    },
    {
     "name": "stdout",
     "output_type": "stream",
     "text": [
      "covariances [[[     9.9819           0]\n",
      "  [          0      5.5732]]]\n",
      "covariances true [[[     6.5822           0]\n",
      "  [          0      3.7686]]]\n"
     ]
    },
    {
     "name": "stderr",
     "output_type": "stream",
     "text": [
      "\n",
      "0: 640x256 102 gaussians, 182.8ms\n",
      "Speed: 1.8ms preprocess, 182.8ms inference, 0.9ms postprocess per image at shape (1, 3, 640, 256)\n"
     ]
    },
    {
     "name": "stdout",
     "output_type": "stream",
     "text": [
      "covariances [[[     9.6116           0]\n",
      "  [          0      5.7899]]]\n",
      "covariances true [[[     5.6826           0]\n",
      "  [          0      5.3656]]]\n"
     ]
    },
    {
     "name": "stderr",
     "output_type": "stream",
     "text": [
      "\n",
      "0: 640x256 84 gaussians, 188.1ms\n",
      "Speed: 1.5ms preprocess, 188.1ms inference, 0.8ms postprocess per image at shape (1, 3, 640, 256)\n"
     ]
    },
    {
     "name": "stdout",
     "output_type": "stream",
     "text": [
      "covariances [[[     6.7707           0]\n",
      "  [          0      5.6576]]]\n",
      "covariances true [[[     4.7404           0]\n",
      "  [          0      3.9342]]]\n"
     ]
    },
    {
     "name": "stderr",
     "output_type": "stream",
     "text": [
      "\n",
      "0: 640x256 85 gaussians, 177.1ms\n",
      "Speed: 1.6ms preprocess, 177.1ms inference, 0.8ms postprocess per image at shape (1, 3, 640, 256)\n"
     ]
    },
    {
     "name": "stdout",
     "output_type": "stream",
     "text": [
      "covariances [[[     7.9386           0]\n",
      "  [          0      5.9892]]]\n",
      "covariances true [[[     5.2065           0]\n",
      "  [          0      4.4869]]]\n"
     ]
    },
    {
     "name": "stderr",
     "output_type": "stream",
     "text": [
      "\n",
      "0: 640x256 87 gaussians, 180.3ms\n",
      "Speed: 1.5ms preprocess, 180.3ms inference, 1.6ms postprocess per image at shape (1, 3, 640, 256)\n"
     ]
    },
    {
     "name": "stdout",
     "output_type": "stream",
     "text": [
      "covariances [[[      7.447           0]\n",
      "  [          0      5.5283]]]\n",
      "covariances true [[[     5.1142           0]\n",
      "  [          0      3.9174]]]\n"
     ]
    },
    {
     "name": "stderr",
     "output_type": "stream",
     "text": [
      "\n",
      "0: 640x256 81 gaussians, 179.5ms\n",
      "Speed: 1.1ms preprocess, 179.5ms inference, 0.8ms postprocess per image at shape (1, 3, 640, 256)\n"
     ]
    },
    {
     "name": "stdout",
     "output_type": "stream",
     "text": [
      "covariances [[[     7.1671           0]\n",
      "  [          0      5.5819]]]\n",
      "covariances true [[[     4.7364           0]\n",
      "  [          0      3.7523]]]\n"
     ]
    },
    {
     "name": "stderr",
     "output_type": "stream",
     "text": [
      "\n",
      "0: 640x256 85 gaussians, 177.5ms\n",
      "Speed: 1.0ms preprocess, 177.5ms inference, 0.8ms postprocess per image at shape (1, 3, 640, 256)\n"
     ]
    },
    {
     "name": "stdout",
     "output_type": "stream",
     "text": [
      "covariances [[[     8.2515           0]\n",
      "  [          0      5.7272]]]\n",
      "covariances true [[[     5.3038           0]\n",
      "  [          0      3.8928]]]\n"
     ]
    },
    {
     "name": "stderr",
     "output_type": "stream",
     "text": [
      "\n",
      "0: 640x256 88 gaussians, 184.7ms\n",
      "Speed: 2.0ms preprocess, 184.7ms inference, 0.8ms postprocess per image at shape (1, 3, 640, 256)\n"
     ]
    },
    {
     "name": "stdout",
     "output_type": "stream",
     "text": [
      "covariances [[[     6.6107           0]\n",
      "  [          0      5.4424]]]\n",
      "covariances true [[[     4.6746           0]\n",
      "  [          0      3.7125]]]\n"
     ]
    },
    {
     "name": "stderr",
     "output_type": "stream",
     "text": [
      "\n",
      "0: 640x256 97 gaussians, 173.0ms\n",
      "Speed: 1.5ms preprocess, 173.0ms inference, 0.8ms postprocess per image at shape (1, 3, 640, 256)\n"
     ]
    },
    {
     "name": "stdout",
     "output_type": "stream",
     "text": [
      "covariances [[[     9.1738           0]\n",
      "  [          0      5.3867]]]\n",
      "covariances true [[[     6.6235           0]\n",
      "  [          0      3.6998]]]\n"
     ]
    },
    {
     "name": "stderr",
     "output_type": "stream",
     "text": [
      "\n",
      "0: 640x256 87 gaussians, 168.1ms\n",
      "Speed: 1.2ms preprocess, 168.1ms inference, 0.8ms postprocess per image at shape (1, 3, 640, 256)\n"
     ]
    },
    {
     "name": "stdout",
     "output_type": "stream",
     "text": [
      "covariances [[[     8.6178           0]\n",
      "  [          0      5.8301]]]\n",
      "covariances true [[[     4.9941           0]\n",
      "  [          0      5.5869]]]\n"
     ]
    }
   ],
   "source": [
    "# Iterate all images - GMM method\n",
    "results = {\n",
    "    \"Image\": [],\n",
    "    \"Number identified - YOLO\": [],\n",
    "    \"Number identifiable - YOLO\": [],\n",
    "    \"Percentage - YOLO\": [],\n",
    "    \"RMSE_cx - YOLO\": [],\n",
    "    \"RMSE_cy - YOLO\": [],\n",
    "    \"RMSE_c - YOLO\": [],\n",
    "    \"RMSE_sigmax - YOLO\": [],\n",
    "    \"RMSE_sigmay - YOLO\": [],\n",
    "    \"RMSE_sigma - YOLO\": [],\n",
    "    \"MaxE_sigmax - YOLO\": [],\n",
    "    \"MaxE_sigmay - YOLO\": [],\n",
    "    \"MaxE_sigma - YOLO\": [],\n",
    "    \"RMSE_amplitude - YOLO\": [],\n",
    "    \"RMSEPixel - YOLO\": [],\n",
    "}\n",
    "\n",
    "for n_image in eval_images:\n",
    "    eval_gaussian = ppl_error_estimation(\n",
    "        n_image,\n",
    "        mat,\n",
    "        estimation_method=\"YOLO\",\n",
    "        image_path=\"docs/Data/Images_T80kenji/\",\n",
    "        yolo_model=model,\n",
    "        covariance_gaussians_types=\"diag\",\n",
    "        return_percentage=True,\n",
    "        image_ranges=NOTEBOOK_CONFIG[\"image_ranges\"],\n",
    "        image_size=NOTEBOOK_CONFIG[\"image_size\"],\n",
    "    )\n",
    "    # Append values in the dictionary\n",
    "    for key in results.keys():\n",
    "        if key in eval_gaussian:\n",
    "            results[key] += eval_gaussian[key]"
   ]
  },
  {
   "cell_type": "code",
   "execution_count": null,
   "metadata": {
    "colab": {
     "base_uri": "https://localhost:8080/",
     "height": 520
    },
    "executionInfo": {
     "elapsed": 16,
     "status": "ok",
     "timestamp": 1697908198732,
     "user": {
      "displayName": "Kenji Urazaki Junior",
      "userId": "11704701621463640642"
     },
     "user_tz": -120
    },
    "id": "FHwSTWOkKrvc",
    "outputId": "9fb76722-5bbd-4a6a-b0a1-cfb559a4e7bf"
   },
   "outputs": [
    {
     "data": {
      "text/html": [
       "\n",
       "  <div id=\"df-9fc18019-417a-467b-adf3-332bdca37450\" class=\"colab-df-container\">\n",
       "    <div>\n",
       "<style scoped>\n",
       "    .dataframe tbody tr th:only-of-type {\n",
       "        vertical-align: middle;\n",
       "    }\n",
       "\n",
       "    .dataframe tbody tr th {\n",
       "        vertical-align: top;\n",
       "    }\n",
       "\n",
       "    .dataframe thead th {\n",
       "        text-align: right;\n",
       "    }\n",
       "</style>\n",
       "<table border=\"1\" class=\"dataframe\">\n",
       "  <thead>\n",
       "    <tr style=\"text-align: right;\">\n",
       "      <th></th>\n",
       "      <th>mean</th>\n",
       "      <th>std</th>\n",
       "      <th>max</th>\n",
       "    </tr>\n",
       "  </thead>\n",
       "  <tbody>\n",
       "    <tr>\n",
       "      <th>Image</th>\n",
       "      <td>203.22</td>\n",
       "      <td>112.45</td>\n",
       "      <td>383.00</td>\n",
       "    </tr>\n",
       "    <tr>\n",
       "      <th>Number identified - YOLO</th>\n",
       "      <td>87.45</td>\n",
       "      <td>6.66</td>\n",
       "      <td>107.00</td>\n",
       "    </tr>\n",
       "    <tr>\n",
       "      <th>Number identifiable - YOLO</th>\n",
       "      <td>80.00</td>\n",
       "      <td>0.00</td>\n",
       "      <td>80.00</td>\n",
       "    </tr>\n",
       "    <tr>\n",
       "      <th>Percentage - YOLO</th>\n",
       "      <td>109.31</td>\n",
       "      <td>8.33</td>\n",
       "      <td>133.75</td>\n",
       "    </tr>\n",
       "    <tr>\n",
       "      <th>RMSE_cx - YOLO</th>\n",
       "      <td>8.39</td>\n",
       "      <td>1.27</td>\n",
       "      <td>11.49</td>\n",
       "    </tr>\n",
       "    <tr>\n",
       "      <th>RMSE_cy - YOLO</th>\n",
       "      <td>6.20</td>\n",
       "      <td>2.57</td>\n",
       "      <td>15.89</td>\n",
       "    </tr>\n",
       "    <tr>\n",
       "      <th>RMSE_c - YOLO</th>\n",
       "      <td>10.58</td>\n",
       "      <td>2.24</td>\n",
       "      <td>18.15</td>\n",
       "    </tr>\n",
       "    <tr>\n",
       "      <th>RMSE_sigmax - YOLO</th>\n",
       "      <td>52.83</td>\n",
       "      <td>3.40</td>\n",
       "      <td>62.09</td>\n",
       "    </tr>\n",
       "    <tr>\n",
       "      <th>RMSE_sigmay - YOLO</th>\n",
       "      <td>22.63</td>\n",
       "      <td>2.09</td>\n",
       "      <td>27.62</td>\n",
       "    </tr>\n",
       "    <tr>\n",
       "      <th>RMSE_sigma - YOLO</th>\n",
       "      <td>57.53</td>\n",
       "      <td>3.10</td>\n",
       "      <td>67.50</td>\n",
       "    </tr>\n",
       "    <tr>\n",
       "      <th>MaxE_sigmax - YOLO</th>\n",
       "      <td>152.13</td>\n",
       "      <td>29.31</td>\n",
       "      <td>233.90</td>\n",
       "    </tr>\n",
       "    <tr>\n",
       "      <th>MaxE_sigmay - YOLO</th>\n",
       "      <td>67.18</td>\n",
       "      <td>9.87</td>\n",
       "      <td>90.56</td>\n",
       "    </tr>\n",
       "    <tr>\n",
       "      <th>MaxE_sigma - YOLO</th>\n",
       "      <td>166.87</td>\n",
       "      <td>27.66</td>\n",
       "      <td>244.24</td>\n",
       "    </tr>\n",
       "    <tr>\n",
       "      <th>RMSE_amplitude - YOLO</th>\n",
       "      <td>60.96</td>\n",
       "      <td>4.13</td>\n",
       "      <td>69.92</td>\n",
       "    </tr>\n",
       "    <tr>\n",
       "      <th>RMSEPixel - YOLO</th>\n",
       "      <td>14.70</td>\n",
       "      <td>2.99</td>\n",
       "      <td>20.76</td>\n",
       "    </tr>\n",
       "  </tbody>\n",
       "</table>\n",
       "</div>\n",
       "    <div class=\"colab-df-buttons\">\n",
       "\n",
       "  <div class=\"colab-df-container\">\n",
       "    <button class=\"colab-df-convert\" onclick=\"convertToInteractive('df-9fc18019-417a-467b-adf3-332bdca37450')\"\n",
       "            title=\"Convert this dataframe to an interactive table.\"\n",
       "            style=\"display:none;\">\n",
       "\n",
       "  <svg xmlns=\"http://www.w3.org/2000/svg\" height=\"24px\" viewBox=\"0 -960 960 960\">\n",
       "    <path d=\"M120-120v-720h720v720H120Zm60-500h600v-160H180v160Zm220 220h160v-160H400v160Zm0 220h160v-160H400v160ZM180-400h160v-160H180v160Zm440 0h160v-160H620v160ZM180-180h160v-160H180v160Zm440 0h160v-160H620v160Z\"/>\n",
       "  </svg>\n",
       "    </button>\n",
       "\n",
       "  <style>\n",
       "    .colab-df-container {\n",
       "      display:flex;\n",
       "      gap: 12px;\n",
       "    }\n",
       "\n",
       "    .colab-df-convert {\n",
       "      background-color: #E8F0FE;\n",
       "      border: none;\n",
       "      border-radius: 50%;\n",
       "      cursor: pointer;\n",
       "      display: none;\n",
       "      fill: #1967D2;\n",
       "      height: 32px;\n",
       "      padding: 0 0 0 0;\n",
       "      width: 32px;\n",
       "    }\n",
       "\n",
       "    .colab-df-convert:hover {\n",
       "      background-color: #E2EBFA;\n",
       "      box-shadow: 0px 1px 2px rgba(60, 64, 67, 0.3), 0px 1px 3px 1px rgba(60, 64, 67, 0.15);\n",
       "      fill: #174EA6;\n",
       "    }\n",
       "\n",
       "    .colab-df-buttons div {\n",
       "      margin-bottom: 4px;\n",
       "    }\n",
       "\n",
       "    [theme=dark] .colab-df-convert {\n",
       "      background-color: #3B4455;\n",
       "      fill: #D2E3FC;\n",
       "    }\n",
       "\n",
       "    [theme=dark] .colab-df-convert:hover {\n",
       "      background-color: #434B5C;\n",
       "      box-shadow: 0px 1px 3px 1px rgba(0, 0, 0, 0.15);\n",
       "      filter: drop-shadow(0px 1px 2px rgba(0, 0, 0, 0.3));\n",
       "      fill: #FFFFFF;\n",
       "    }\n",
       "  </style>\n",
       "\n",
       "    <script>\n",
       "      const buttonEl =\n",
       "        document.querySelector('#df-9fc18019-417a-467b-adf3-332bdca37450 button.colab-df-convert');\n",
       "      buttonEl.style.display =\n",
       "        google.colab.kernel.accessAllowed ? 'block' : 'none';\n",
       "\n",
       "      async function convertToInteractive(key) {\n",
       "        const element = document.querySelector('#df-9fc18019-417a-467b-adf3-332bdca37450');\n",
       "        const dataTable =\n",
       "          await google.colab.kernel.invokeFunction('convertToInteractive',\n",
       "                                                    [key], {});\n",
       "        if (!dataTable) return;\n",
       "\n",
       "        const docLinkHtml = 'Like what you see? Visit the ' +\n",
       "          '<a target=\"_blank\" href=https://colab.research.google.com/notebooks/data_table.ipynb>data table notebook</a>'\n",
       "          + ' to learn more about interactive tables.';\n",
       "        element.innerHTML = '';\n",
       "        dataTable['output_type'] = 'display_data';\n",
       "        await google.colab.output.renderOutput(dataTable, element);\n",
       "        const docLink = document.createElement('div');\n",
       "        docLink.innerHTML = docLinkHtml;\n",
       "        element.appendChild(docLink);\n",
       "      }\n",
       "    </script>\n",
       "  </div>\n",
       "\n",
       "\n",
       "<div id=\"df-ca25eed9-0549-4023-a247-4ff174b57f0e\">\n",
       "  <button class=\"colab-df-quickchart\" onclick=\"quickchart('df-ca25eed9-0549-4023-a247-4ff174b57f0e')\"\n",
       "            title=\"Suggest charts.\"\n",
       "            style=\"display:none;\">\n",
       "\n",
       "<svg xmlns=\"http://www.w3.org/2000/svg\" height=\"24px\"viewBox=\"0 0 24 24\"\n",
       "     width=\"24px\">\n",
       "    <g>\n",
       "        <path d=\"M19 3H5c-1.1 0-2 .9-2 2v14c0 1.1.9 2 2 2h14c1.1 0 2-.9 2-2V5c0-1.1-.9-2-2-2zM9 17H7v-7h2v7zm4 0h-2V7h2v10zm4 0h-2v-4h2v4z\"/>\n",
       "    </g>\n",
       "</svg>\n",
       "  </button>\n",
       "\n",
       "<style>\n",
       "  .colab-df-quickchart {\n",
       "      --bg-color: #E8F0FE;\n",
       "      --fill-color: #1967D2;\n",
       "      --hover-bg-color: #E2EBFA;\n",
       "      --hover-fill-color: #174EA6;\n",
       "      --disabled-fill-color: #AAA;\n",
       "      --disabled-bg-color: #DDD;\n",
       "  }\n",
       "\n",
       "  [theme=dark] .colab-df-quickchart {\n",
       "      --bg-color: #3B4455;\n",
       "      --fill-color: #D2E3FC;\n",
       "      --hover-bg-color: #434B5C;\n",
       "      --hover-fill-color: #FFFFFF;\n",
       "      --disabled-bg-color: #3B4455;\n",
       "      --disabled-fill-color: #666;\n",
       "  }\n",
       "\n",
       "  .colab-df-quickchart {\n",
       "    background-color: var(--bg-color);\n",
       "    border: none;\n",
       "    border-radius: 50%;\n",
       "    cursor: pointer;\n",
       "    display: none;\n",
       "    fill: var(--fill-color);\n",
       "    height: 32px;\n",
       "    padding: 0;\n",
       "    width: 32px;\n",
       "  }\n",
       "\n",
       "  .colab-df-quickchart:hover {\n",
       "    background-color: var(--hover-bg-color);\n",
       "    box-shadow: 0 1px 2px rgba(60, 64, 67, 0.3), 0 1px 3px 1px rgba(60, 64, 67, 0.15);\n",
       "    fill: var(--button-hover-fill-color);\n",
       "  }\n",
       "\n",
       "  .colab-df-quickchart-complete:disabled,\n",
       "  .colab-df-quickchart-complete:disabled:hover {\n",
       "    background-color: var(--disabled-bg-color);\n",
       "    fill: var(--disabled-fill-color);\n",
       "    box-shadow: none;\n",
       "  }\n",
       "\n",
       "  .colab-df-spinner {\n",
       "    border: 2px solid var(--fill-color);\n",
       "    border-color: transparent;\n",
       "    border-bottom-color: var(--fill-color);\n",
       "    animation:\n",
       "      spin 1s steps(1) infinite;\n",
       "  }\n",
       "\n",
       "  @keyframes spin {\n",
       "    0% {\n",
       "      border-color: transparent;\n",
       "      border-bottom-color: var(--fill-color);\n",
       "      border-left-color: var(--fill-color);\n",
       "    }\n",
       "    20% {\n",
       "      border-color: transparent;\n",
       "      border-left-color: var(--fill-color);\n",
       "      border-top-color: var(--fill-color);\n",
       "    }\n",
       "    30% {\n",
       "      border-color: transparent;\n",
       "      border-left-color: var(--fill-color);\n",
       "      border-top-color: var(--fill-color);\n",
       "      border-right-color: var(--fill-color);\n",
       "    }\n",
       "    40% {\n",
       "      border-color: transparent;\n",
       "      border-right-color: var(--fill-color);\n",
       "      border-top-color: var(--fill-color);\n",
       "    }\n",
       "    60% {\n",
       "      border-color: transparent;\n",
       "      border-right-color: var(--fill-color);\n",
       "    }\n",
       "    80% {\n",
       "      border-color: transparent;\n",
       "      border-right-color: var(--fill-color);\n",
       "      border-bottom-color: var(--fill-color);\n",
       "    }\n",
       "    90% {\n",
       "      border-color: transparent;\n",
       "      border-bottom-color: var(--fill-color);\n",
       "    }\n",
       "  }\n",
       "</style>\n",
       "\n",
       "  <script>\n",
       "    async function quickchart(key) {\n",
       "      const quickchartButtonEl =\n",
       "        document.querySelector('#' + key + ' button');\n",
       "      quickchartButtonEl.disabled = true;  // To prevent multiple clicks.\n",
       "      quickchartButtonEl.classList.add('colab-df-spinner');\n",
       "      try {\n",
       "        const charts = await google.colab.kernel.invokeFunction(\n",
       "            'suggestCharts', [key], {});\n",
       "      } catch (error) {\n",
       "        console.error('Error during call to suggestCharts:', error);\n",
       "      }\n",
       "      quickchartButtonEl.classList.remove('colab-df-spinner');\n",
       "      quickchartButtonEl.classList.add('colab-df-quickchart-complete');\n",
       "    }\n",
       "    (() => {\n",
       "      let quickchartButtonEl =\n",
       "        document.querySelector('#df-ca25eed9-0549-4023-a247-4ff174b57f0e button');\n",
       "      quickchartButtonEl.style.display =\n",
       "        google.colab.kernel.accessAllowed ? 'block' : 'none';\n",
       "    })();\n",
       "  </script>\n",
       "</div>\n",
       "    </div>\n",
       "  </div>\n"
      ],
      "text/plain": [
       "                              mean     std     max\n",
       "Image                       203.22  112.45  383.00\n",
       "Number identified - YOLO     87.45    6.66  107.00\n",
       "Number identifiable - YOLO   80.00    0.00   80.00\n",
       "Percentage - YOLO           109.31    8.33  133.75\n",
       "RMSE_cx - YOLO                8.39    1.27   11.49\n",
       "RMSE_cy - YOLO                6.20    2.57   15.89\n",
       "RMSE_c - YOLO                10.58    2.24   18.15\n",
       "RMSE_sigmax - YOLO           52.83    3.40   62.09\n",
       "RMSE_sigmay - YOLO           22.63    2.09   27.62\n",
       "RMSE_sigma - YOLO            57.53    3.10   67.50\n",
       "MaxE_sigmax - YOLO          152.13   29.31  233.90\n",
       "MaxE_sigmay - YOLO           67.18    9.87   90.56\n",
       "MaxE_sigma - YOLO           166.87   27.66  244.24\n",
       "RMSE_amplitude - YOLO        60.96    4.13   69.92\n",
       "RMSEPixel - YOLO             14.70    2.99   20.76"
      ]
     },
     "execution_count": 104,
     "metadata": {},
     "output_type": "execute_result"
    }
   ],
   "source": [
    "pd.DataFrame.from_dict(results).describe().round(2).loc[[\"mean\", \"std\", \"max\"]].T"
   ]
  },
  {
   "cell_type": "code",
   "execution_count": null,
   "metadata": {
    "colab": {
     "base_uri": "https://localhost:8080/",
     "height": 1000
    },
    "executionInfo": {
     "elapsed": 917,
     "status": "ok",
     "timestamp": 1697908199638,
     "user": {
      "displayName": "Kenji Urazaki Junior",
      "userId": "11704701621463640642"
     },
     "user_tz": -120
    },
    "id": "Bf-HnBQUKvbC",
    "outputId": "b53bfcf2-2531-4a8a-f8f4-1b3e31053875"
   },
   "outputs": [
    {
     "data": {
      "text/html": [
       "\n",
       "  <div id=\"df-112e1796-0032-4657-971c-bee29a05bc70\" class=\"colab-df-container\">\n",
       "    <div>\n",
       "<style scoped>\n",
       "    .dataframe tbody tr th:only-of-type {\n",
       "        vertical-align: middle;\n",
       "    }\n",
       "\n",
       "    .dataframe tbody tr th {\n",
       "        vertical-align: top;\n",
       "    }\n",
       "\n",
       "    .dataframe thead th {\n",
       "        text-align: right;\n",
       "    }\n",
       "</style>\n",
       "<table border=\"1\" class=\"dataframe\">\n",
       "  <thead>\n",
       "    <tr style=\"text-align: right;\">\n",
       "      <th></th>\n",
       "      <th>Image</th>\n",
       "      <th>Number identified - YOLO</th>\n",
       "      <th>Number identifiable - YOLO</th>\n",
       "      <th>Percentage - YOLO</th>\n",
       "      <th>RMSE_cx - YOLO</th>\n",
       "      <th>RMSE_cy - YOLO</th>\n",
       "      <th>RMSE_c - YOLO</th>\n",
       "      <th>RMSE_sigmax - YOLO</th>\n",
       "      <th>RMSE_sigmay - YOLO</th>\n",
       "      <th>RMSE_sigma - YOLO</th>\n",
       "      <th>MaxE_sigmax - YOLO</th>\n",
       "      <th>MaxE_sigmay - YOLO</th>\n",
       "      <th>MaxE_sigma - YOLO</th>\n",
       "      <th>RMSE_amplitude - YOLO</th>\n",
       "      <th>RMSEPixel - YOLO</th>\n",
       "    </tr>\n",
       "  </thead>\n",
       "  <tbody>\n",
       "    <tr>\n",
       "      <th>36</th>\n",
       "      <td>4</td>\n",
       "      <td>85</td>\n",
       "      <td>80</td>\n",
       "      <td>106.25</td>\n",
       "      <td>7.80</td>\n",
       "      <td>5.29</td>\n",
       "      <td>9.43</td>\n",
       "      <td>47.26</td>\n",
       "      <td>24.06</td>\n",
       "      <td>53.03</td>\n",
       "      <td>105.85</td>\n",
       "      <td>68.65</td>\n",
       "      <td>126.16</td>\n",
       "      <td>56.28</td>\n",
       "      <td>11.11</td>\n",
       "    </tr>\n",
       "    <tr>\n",
       "      <th>13</th>\n",
       "      <td>8</td>\n",
       "      <td>83</td>\n",
       "      <td>80</td>\n",
       "      <td>103.75</td>\n",
       "      <td>8.46</td>\n",
       "      <td>5.50</td>\n",
       "      <td>10.09</td>\n",
       "      <td>52.60</td>\n",
       "      <td>22.30</td>\n",
       "      <td>57.13</td>\n",
       "      <td>141.85</td>\n",
       "      <td>58.43</td>\n",
       "      <td>153.41</td>\n",
       "      <td>59.39</td>\n",
       "      <td>12.24</td>\n",
       "    </tr>\n",
       "    <tr>\n",
       "      <th>20</th>\n",
       "      <td>28</td>\n",
       "      <td>88</td>\n",
       "      <td>80</td>\n",
       "      <td>110.00</td>\n",
       "      <td>7.40</td>\n",
       "      <td>4.47</td>\n",
       "      <td>8.64</td>\n",
       "      <td>50.52</td>\n",
       "      <td>21.08</td>\n",
       "      <td>54.74</td>\n",
       "      <td>138.46</td>\n",
       "      <td>74.66</td>\n",
       "      <td>157.31</td>\n",
       "      <td>57.74</td>\n",
       "      <td>13.32</td>\n",
       "    </tr>\n",
       "    <tr>\n",
       "      <th>19</th>\n",
       "      <td>31</td>\n",
       "      <td>107</td>\n",
       "      <td>80</td>\n",
       "      <td>133.75</td>\n",
       "      <td>5.31</td>\n",
       "      <td>3.97</td>\n",
       "      <td>6.62</td>\n",
       "      <td>48.27</td>\n",
       "      <td>25.02</td>\n",
       "      <td>54.37</td>\n",
       "      <td>125.50</td>\n",
       "      <td>78.75</td>\n",
       "      <td>148.16</td>\n",
       "      <td>57.58</td>\n",
       "      <td>17.78</td>\n",
       "    </tr>\n",
       "    <tr>\n",
       "      <th>6</th>\n",
       "      <td>45</td>\n",
       "      <td>79</td>\n",
       "      <td>80</td>\n",
       "      <td>98.75</td>\n",
       "      <td>8.73</td>\n",
       "      <td>6.91</td>\n",
       "      <td>11.13</td>\n",
       "      <td>51.57</td>\n",
       "      <td>21.00</td>\n",
       "      <td>55.68</td>\n",
       "      <td>155.61</td>\n",
       "      <td>58.23</td>\n",
       "      <td>166.15</td>\n",
       "      <td>63.73</td>\n",
       "      <td>9.82</td>\n",
       "    </tr>\n",
       "    <tr>\n",
       "      <th>38</th>\n",
       "      <td>57</td>\n",
       "      <td>97</td>\n",
       "      <td>80</td>\n",
       "      <td>121.25</td>\n",
       "      <td>7.52</td>\n",
       "      <td>4.50</td>\n",
       "      <td>8.76</td>\n",
       "      <td>54.12</td>\n",
       "      <td>20.65</td>\n",
       "      <td>57.93</td>\n",
       "      <td>136.72</td>\n",
       "      <td>58.75</td>\n",
       "      <td>148.81</td>\n",
       "      <td>61.20</td>\n",
       "      <td>19.50</td>\n",
       "    </tr>\n",
       "    <tr>\n",
       "      <th>34</th>\n",
       "      <td>70</td>\n",
       "      <td>87</td>\n",
       "      <td>80</td>\n",
       "      <td>108.75</td>\n",
       "      <td>8.75</td>\n",
       "      <td>6.56</td>\n",
       "      <td>10.94</td>\n",
       "      <td>52.24</td>\n",
       "      <td>27.62</td>\n",
       "      <td>59.09</td>\n",
       "      <td>188.63</td>\n",
       "      <td>73.91</td>\n",
       "      <td>202.59</td>\n",
       "      <td>65.36</td>\n",
       "      <td>14.69</td>\n",
       "    </tr>\n",
       "    <tr>\n",
       "      <th>4</th>\n",
       "      <td>77</td>\n",
       "      <td>87</td>\n",
       "      <td>80</td>\n",
       "      <td>108.75</td>\n",
       "      <td>7.34</td>\n",
       "      <td>6.05</td>\n",
       "      <td>9.52</td>\n",
       "      <td>54.18</td>\n",
       "      <td>22.19</td>\n",
       "      <td>58.54</td>\n",
       "      <td>125.15</td>\n",
       "      <td>77.32</td>\n",
       "      <td>147.10</td>\n",
       "      <td>60.05</td>\n",
       "      <td>13.64</td>\n",
       "    </tr>\n",
       "    <tr>\n",
       "      <th>10</th>\n",
       "      <td>93</td>\n",
       "      <td>87</td>\n",
       "      <td>80</td>\n",
       "      <td>108.75</td>\n",
       "      <td>9.06</td>\n",
       "      <td>7.61</td>\n",
       "      <td>11.83</td>\n",
       "      <td>52.14</td>\n",
       "      <td>23.62</td>\n",
       "      <td>57.24</td>\n",
       "      <td>126.80</td>\n",
       "      <td>76.55</td>\n",
       "      <td>148.12</td>\n",
       "      <td>60.33</td>\n",
       "      <td>13.75</td>\n",
       "    </tr>\n",
       "    <tr>\n",
       "      <th>30</th>\n",
       "      <td>97</td>\n",
       "      <td>80</td>\n",
       "      <td>80</td>\n",
       "      <td>100.00</td>\n",
       "      <td>8.77</td>\n",
       "      <td>15.89</td>\n",
       "      <td>18.15</td>\n",
       "      <td>50.21</td>\n",
       "      <td>23.67</td>\n",
       "      <td>55.51</td>\n",
       "      <td>139.63</td>\n",
       "      <td>90.56</td>\n",
       "      <td>166.43</td>\n",
       "      <td>59.84</td>\n",
       "      <td>12.86</td>\n",
       "    </tr>\n",
       "    <tr>\n",
       "      <th>28</th>\n",
       "      <td>109</td>\n",
       "      <td>91</td>\n",
       "      <td>80</td>\n",
       "      <td>113.75</td>\n",
       "      <td>6.81</td>\n",
       "      <td>5.10</td>\n",
       "      <td>8.51</td>\n",
       "      <td>48.65</td>\n",
       "      <td>24.07</td>\n",
       "      <td>54.28</td>\n",
       "      <td>168.13</td>\n",
       "      <td>59.02</td>\n",
       "      <td>178.19</td>\n",
       "      <td>51.78</td>\n",
       "      <td>12.11</td>\n",
       "    </tr>\n",
       "    <tr>\n",
       "      <th>7</th>\n",
       "      <td>115</td>\n",
       "      <td>90</td>\n",
       "      <td>80</td>\n",
       "      <td>112.50</td>\n",
       "      <td>7.54</td>\n",
       "      <td>3.99</td>\n",
       "      <td>8.53</td>\n",
       "      <td>56.85</td>\n",
       "      <td>22.97</td>\n",
       "      <td>61.31</td>\n",
       "      <td>179.37</td>\n",
       "      <td>73.39</td>\n",
       "      <td>193.81</td>\n",
       "      <td>59.49</td>\n",
       "      <td>15.59</td>\n",
       "    </tr>\n",
       "    <tr>\n",
       "      <th>23</th>\n",
       "      <td>144</td>\n",
       "      <td>85</td>\n",
       "      <td>80</td>\n",
       "      <td>106.25</td>\n",
       "      <td>7.45</td>\n",
       "      <td>6.31</td>\n",
       "      <td>9.76</td>\n",
       "      <td>57.39</td>\n",
       "      <td>21.16</td>\n",
       "      <td>61.17</td>\n",
       "      <td>183.68</td>\n",
       "      <td>55.90</td>\n",
       "      <td>192.00</td>\n",
       "      <td>56.37</td>\n",
       "      <td>11.69</td>\n",
       "    </tr>\n",
       "    <tr>\n",
       "      <th>26</th>\n",
       "      <td>155</td>\n",
       "      <td>92</td>\n",
       "      <td>80</td>\n",
       "      <td>115.00</td>\n",
       "      <td>7.42</td>\n",
       "      <td>5.01</td>\n",
       "      <td>8.95</td>\n",
       "      <td>52.02</td>\n",
       "      <td>21.27</td>\n",
       "      <td>56.20</td>\n",
       "      <td>208.59</td>\n",
       "      <td>71.02</td>\n",
       "      <td>220.35</td>\n",
       "      <td>60.12</td>\n",
       "      <td>14.76</td>\n",
       "    </tr>\n",
       "    <tr>\n",
       "      <th>8</th>\n",
       "      <td>172</td>\n",
       "      <td>91</td>\n",
       "      <td>80</td>\n",
       "      <td>113.75</td>\n",
       "      <td>8.17</td>\n",
       "      <td>4.94</td>\n",
       "      <td>9.54</td>\n",
       "      <td>52.70</td>\n",
       "      <td>19.51</td>\n",
       "      <td>56.20</td>\n",
       "      <td>155.46</td>\n",
       "      <td>57.18</td>\n",
       "      <td>165.64</td>\n",
       "      <td>62.18</td>\n",
       "      <td>17.14</td>\n",
       "    </tr>\n",
       "    <tr>\n",
       "      <th>9</th>\n",
       "      <td>188</td>\n",
       "      <td>88</td>\n",
       "      <td>80</td>\n",
       "      <td>110.00</td>\n",
       "      <td>11.49</td>\n",
       "      <td>4.86</td>\n",
       "      <td>12.47</td>\n",
       "      <td>55.53</td>\n",
       "      <td>21.35</td>\n",
       "      <td>59.49</td>\n",
       "      <td>173.49</td>\n",
       "      <td>62.84</td>\n",
       "      <td>184.52</td>\n",
       "      <td>65.57</td>\n",
       "      <td>16.59</td>\n",
       "    </tr>\n",
       "    <tr>\n",
       "      <th>25</th>\n",
       "      <td>191</td>\n",
       "      <td>85</td>\n",
       "      <td>80</td>\n",
       "      <td>106.25</td>\n",
       "      <td>7.07</td>\n",
       "      <td>5.24</td>\n",
       "      <td>8.80</td>\n",
       "      <td>52.94</td>\n",
       "      <td>22.22</td>\n",
       "      <td>57.42</td>\n",
       "      <td>131.20</td>\n",
       "      <td>68.83</td>\n",
       "      <td>148.16</td>\n",
       "      <td>54.38</td>\n",
       "      <td>11.05</td>\n",
       "    </tr>\n",
       "    <tr>\n",
       "      <th>21</th>\n",
       "      <td>193</td>\n",
       "      <td>87</td>\n",
       "      <td>80</td>\n",
       "      <td>108.75</td>\n",
       "      <td>9.11</td>\n",
       "      <td>7.68</td>\n",
       "      <td>11.92</td>\n",
       "      <td>52.51</td>\n",
       "      <td>23.05</td>\n",
       "      <td>57.35</td>\n",
       "      <td>112.26</td>\n",
       "      <td>56.86</td>\n",
       "      <td>125.84</td>\n",
       "      <td>59.75</td>\n",
       "      <td>17.78</td>\n",
       "    </tr>\n",
       "    <tr>\n",
       "      <th>29</th>\n",
       "      <td>194</td>\n",
       "      <td>78</td>\n",
       "      <td>80</td>\n",
       "      <td>97.50</td>\n",
       "      <td>8.88</td>\n",
       "      <td>6.62</td>\n",
       "      <td>11.07</td>\n",
       "      <td>53.36</td>\n",
       "      <td>23.43</td>\n",
       "      <td>58.27</td>\n",
       "      <td>156.37</td>\n",
       "      <td>60.44</td>\n",
       "      <td>167.64</td>\n",
       "      <td>59.43</td>\n",
       "      <td>9.74</td>\n",
       "    </tr>\n",
       "    <tr>\n",
       "      <th>15</th>\n",
       "      <td>200</td>\n",
       "      <td>84</td>\n",
       "      <td>80</td>\n",
       "      <td>105.00</td>\n",
       "      <td>11.16</td>\n",
       "      <td>12.08</td>\n",
       "      <td>16.44</td>\n",
       "      <td>49.46</td>\n",
       "      <td>19.67</td>\n",
       "      <td>53.22</td>\n",
       "      <td>120.49</td>\n",
       "      <td>52.95</td>\n",
       "      <td>131.61</td>\n",
       "      <td>63.66</td>\n",
       "      <td>14.23</td>\n",
       "    </tr>\n",
       "    <tr>\n",
       "      <th>0</th>\n",
       "      <td>208</td>\n",
       "      <td>88</td>\n",
       "      <td>80</td>\n",
       "      <td>110.00</td>\n",
       "      <td>10.67</td>\n",
       "      <td>5.65</td>\n",
       "      <td>12.08</td>\n",
       "      <td>47.93</td>\n",
       "      <td>21.08</td>\n",
       "      <td>52.36</td>\n",
       "      <td>129.49</td>\n",
       "      <td>52.82</td>\n",
       "      <td>139.84</td>\n",
       "      <td>63.98</td>\n",
       "      <td>16.06</td>\n",
       "    </tr>\n",
       "    <tr>\n",
       "      <th>31</th>\n",
       "      <td>209</td>\n",
       "      <td>102</td>\n",
       "      <td>80</td>\n",
       "      <td>127.50</td>\n",
       "      <td>8.88</td>\n",
       "      <td>8.65</td>\n",
       "      <td>12.40</td>\n",
       "      <td>52.75</td>\n",
       "      <td>25.04</td>\n",
       "      <td>58.40</td>\n",
       "      <td>168.16</td>\n",
       "      <td>70.86</td>\n",
       "      <td>182.48</td>\n",
       "      <td>59.19</td>\n",
       "      <td>20.76</td>\n",
       "    </tr>\n",
       "    <tr>\n",
       "      <th>5</th>\n",
       "      <td>230</td>\n",
       "      <td>91</td>\n",
       "      <td>80</td>\n",
       "      <td>113.75</td>\n",
       "      <td>7.22</td>\n",
       "      <td>12.80</td>\n",
       "      <td>14.70</td>\n",
       "      <td>53.40</td>\n",
       "      <td>22.75</td>\n",
       "      <td>58.04</td>\n",
       "      <td>192.43</td>\n",
       "      <td>89.66</td>\n",
       "      <td>212.30</td>\n",
       "      <td>62.25</td>\n",
       "      <td>19.38</td>\n",
       "    </tr>\n",
       "    <tr>\n",
       "      <th>39</th>\n",
       "      <td>242</td>\n",
       "      <td>87</td>\n",
       "      <td>80</td>\n",
       "      <td>108.75</td>\n",
       "      <td>8.27</td>\n",
       "      <td>6.73</td>\n",
       "      <td>10.66</td>\n",
       "      <td>51.51</td>\n",
       "      <td>25.80</td>\n",
       "      <td>57.61</td>\n",
       "      <td>132.34</td>\n",
       "      <td>76.91</td>\n",
       "      <td>153.06</td>\n",
       "      <td>61.44</td>\n",
       "      <td>13.59</td>\n",
       "    </tr>\n",
       "    <tr>\n",
       "      <th>2</th>\n",
       "      <td>262</td>\n",
       "      <td>78</td>\n",
       "      <td>80</td>\n",
       "      <td>97.50</td>\n",
       "      <td>9.23</td>\n",
       "      <td>6.87</td>\n",
       "      <td>11.50</td>\n",
       "      <td>54.25</td>\n",
       "      <td>21.57</td>\n",
       "      <td>58.37</td>\n",
       "      <td>143.65</td>\n",
       "      <td>69.47</td>\n",
       "      <td>159.57</td>\n",
       "      <td>62.91</td>\n",
       "      <td>11.09</td>\n",
       "    </tr>\n",
       "    <tr>\n",
       "      <th>14</th>\n",
       "      <td>285</td>\n",
       "      <td>87</td>\n",
       "      <td>80</td>\n",
       "      <td>108.75</td>\n",
       "      <td>7.98</td>\n",
       "      <td>5.12</td>\n",
       "      <td>9.48</td>\n",
       "      <td>56.03</td>\n",
       "      <td>22.26</td>\n",
       "      <td>60.29</td>\n",
       "      <td>143.29</td>\n",
       "      <td>64.66</td>\n",
       "      <td>157.20</td>\n",
       "      <td>63.98</td>\n",
       "      <td>16.46</td>\n",
       "    </tr>\n",
       "    <tr>\n",
       "      <th>24</th>\n",
       "      <td>286</td>\n",
       "      <td>86</td>\n",
       "      <td>80</td>\n",
       "      <td>107.50</td>\n",
       "      <td>7.75</td>\n",
       "      <td>4.99</td>\n",
       "      <td>9.22</td>\n",
       "      <td>52.44</td>\n",
       "      <td>22.47</td>\n",
       "      <td>57.05</td>\n",
       "      <td>129.86</td>\n",
       "      <td>63.28</td>\n",
       "      <td>144.46</td>\n",
       "      <td>57.22</td>\n",
       "      <td>13.44</td>\n",
       "    </tr>\n",
       "    <tr>\n",
       "      <th>3</th>\n",
       "      <td>288</td>\n",
       "      <td>72</td>\n",
       "      <td>80</td>\n",
       "      <td>90.00</td>\n",
       "      <td>8.27</td>\n",
       "      <td>3.45</td>\n",
       "      <td>8.96</td>\n",
       "      <td>48.74</td>\n",
       "      <td>23.06</td>\n",
       "      <td>53.92</td>\n",
       "      <td>118.14</td>\n",
       "      <td>69.87</td>\n",
       "      <td>137.26</td>\n",
       "      <td>69.92</td>\n",
       "      <td>11.80</td>\n",
       "    </tr>\n",
       "    <tr>\n",
       "      <th>27</th>\n",
       "      <td>291</td>\n",
       "      <td>76</td>\n",
       "      <td>80</td>\n",
       "      <td>95.00</td>\n",
       "      <td>8.46</td>\n",
       "      <td>3.92</td>\n",
       "      <td>9.32</td>\n",
       "      <td>45.44</td>\n",
       "      <td>24.51</td>\n",
       "      <td>51.63</td>\n",
       "      <td>124.36</td>\n",
       "      <td>62.17</td>\n",
       "      <td>139.03</td>\n",
       "      <td>60.46</td>\n",
       "      <td>8.86</td>\n",
       "    </tr>\n",
       "    <tr>\n",
       "      <th>18</th>\n",
       "      <td>297</td>\n",
       "      <td>93</td>\n",
       "      <td>80</td>\n",
       "      <td>116.25</td>\n",
       "      <td>8.08</td>\n",
       "      <td>8.53</td>\n",
       "      <td>11.75</td>\n",
       "      <td>50.83</td>\n",
       "      <td>21.69</td>\n",
       "      <td>55.26</td>\n",
       "      <td>183.54</td>\n",
       "      <td>89.36</td>\n",
       "      <td>204.14</td>\n",
       "      <td>64.76</td>\n",
       "      <td>17.67</td>\n",
       "    </tr>\n",
       "    <tr>\n",
       "      <th>33</th>\n",
       "      <td>301</td>\n",
       "      <td>85</td>\n",
       "      <td>80</td>\n",
       "      <td>106.25</td>\n",
       "      <td>9.48</td>\n",
       "      <td>4.45</td>\n",
       "      <td>10.47</td>\n",
       "      <td>59.31</td>\n",
       "      <td>20.57</td>\n",
       "      <td>62.78</td>\n",
       "      <td>177.05</td>\n",
       "      <td>65.25</td>\n",
       "      <td>188.69</td>\n",
       "      <td>65.06</td>\n",
       "      <td>16.29</td>\n",
       "    </tr>\n",
       "    <tr>\n",
       "      <th>1</th>\n",
       "      <td>304</td>\n",
       "      <td>92</td>\n",
       "      <td>80</td>\n",
       "      <td>115.00</td>\n",
       "      <td>7.71</td>\n",
       "      <td>4.51</td>\n",
       "      <td>8.93</td>\n",
       "      <td>51.96</td>\n",
       "      <td>21.07</td>\n",
       "      <td>56.07</td>\n",
       "      <td>142.94</td>\n",
       "      <td>66.75</td>\n",
       "      <td>157.76</td>\n",
       "      <td>62.03</td>\n",
       "      <td>16.98</td>\n",
       "    </tr>\n",
       "    <tr>\n",
       "      <th>32</th>\n",
       "      <td>310</td>\n",
       "      <td>84</td>\n",
       "      <td>80</td>\n",
       "      <td>105.00</td>\n",
       "      <td>7.25</td>\n",
       "      <td>4.25</td>\n",
       "      <td>8.40</td>\n",
       "      <td>53.38</td>\n",
       "      <td>22.58</td>\n",
       "      <td>57.96</td>\n",
       "      <td>196.65</td>\n",
       "      <td>67.60</td>\n",
       "      <td>207.95</td>\n",
       "      <td>66.71</td>\n",
       "      <td>15.66</td>\n",
       "    </tr>\n",
       "    <tr>\n",
       "      <th>22</th>\n",
       "      <td>322</td>\n",
       "      <td>98</td>\n",
       "      <td>80</td>\n",
       "      <td>122.50</td>\n",
       "      <td>7.78</td>\n",
       "      <td>4.84</td>\n",
       "      <td>9.16</td>\n",
       "      <td>62.09</td>\n",
       "      <td>26.49</td>\n",
       "      <td>67.50</td>\n",
       "      <td>134.95</td>\n",
       "      <td>62.59</td>\n",
       "      <td>148.76</td>\n",
       "      <td>54.25</td>\n",
       "      <td>18.53</td>\n",
       "    </tr>\n",
       "    <tr>\n",
       "      <th>11</th>\n",
       "      <td>323</td>\n",
       "      <td>91</td>\n",
       "      <td>80</td>\n",
       "      <td>113.75</td>\n",
       "      <td>8.97</td>\n",
       "      <td>4.47</td>\n",
       "      <td>10.03</td>\n",
       "      <td>53.41</td>\n",
       "      <td>26.85</td>\n",
       "      <td>59.78</td>\n",
       "      <td>138.54</td>\n",
       "      <td>61.15</td>\n",
       "      <td>151.43</td>\n",
       "      <td>69.04</td>\n",
       "      <td>17.76</td>\n",
       "    </tr>\n",
       "    <tr>\n",
       "      <th>35</th>\n",
       "      <td>324</td>\n",
       "      <td>81</td>\n",
       "      <td>80</td>\n",
       "      <td>101.25</td>\n",
       "      <td>9.94</td>\n",
       "      <td>7.95</td>\n",
       "      <td>12.73</td>\n",
       "      <td>54.27</td>\n",
       "      <td>25.25</td>\n",
       "      <td>59.85</td>\n",
       "      <td>233.90</td>\n",
       "      <td>70.30</td>\n",
       "      <td>244.24</td>\n",
       "      <td>68.87</td>\n",
       "      <td>13.54</td>\n",
       "    </tr>\n",
       "    <tr>\n",
       "      <th>37</th>\n",
       "      <td>357</td>\n",
       "      <td>88</td>\n",
       "      <td>80</td>\n",
       "      <td>110.00</td>\n",
       "      <td>7.27</td>\n",
       "      <td>6.69</td>\n",
       "      <td>9.88</td>\n",
       "      <td>52.55</td>\n",
       "      <td>21.84</td>\n",
       "      <td>56.91</td>\n",
       "      <td>150.89</td>\n",
       "      <td>58.64</td>\n",
       "      <td>161.88</td>\n",
       "      <td>56.48</td>\n",
       "      <td>14.43</td>\n",
       "    </tr>\n",
       "    <tr>\n",
       "      <th>17</th>\n",
       "      <td>365</td>\n",
       "      <td>91</td>\n",
       "      <td>80</td>\n",
       "      <td>113.75</td>\n",
       "      <td>8.05</td>\n",
       "      <td>3.07</td>\n",
       "      <td>8.62</td>\n",
       "      <td>51.89</td>\n",
       "      <td>22.53</td>\n",
       "      <td>56.57</td>\n",
       "      <td>123.38</td>\n",
       "      <td>78.16</td>\n",
       "      <td>146.05</td>\n",
       "      <td>57.17</td>\n",
       "      <td>13.27</td>\n",
       "    </tr>\n",
       "    <tr>\n",
       "      <th>12</th>\n",
       "      <td>371</td>\n",
       "      <td>88</td>\n",
       "      <td>80</td>\n",
       "      <td>110.00</td>\n",
       "      <td>11.21</td>\n",
       "      <td>5.31</td>\n",
       "      <td>12.41</td>\n",
       "      <td>57.13</td>\n",
       "      <td>18.82</td>\n",
       "      <td>60.15</td>\n",
       "      <td>190.95</td>\n",
       "      <td>60.20</td>\n",
       "      <td>200.21</td>\n",
       "      <td>60.68</td>\n",
       "      <td>19.64</td>\n",
       "    </tr>\n",
       "    <tr>\n",
       "      <th>16</th>\n",
       "      <td>383</td>\n",
       "      <td>89</td>\n",
       "      <td>80</td>\n",
       "      <td>111.25</td>\n",
       "      <td>9.07</td>\n",
       "      <td>7.01</td>\n",
       "      <td>11.46</td>\n",
       "      <td>59.36</td>\n",
       "      <td>18.92</td>\n",
       "      <td>62.31</td>\n",
       "      <td>157.60</td>\n",
       "      <td>53.33</td>\n",
       "      <td>166.38</td>\n",
       "      <td>57.87</td>\n",
       "      <td>13.57</td>\n",
       "    </tr>\n",
       "  </tbody>\n",
       "</table>\n",
       "</div>\n",
       "    <div class=\"colab-df-buttons\">\n",
       "\n",
       "  <div class=\"colab-df-container\">\n",
       "    <button class=\"colab-df-convert\" onclick=\"convertToInteractive('df-112e1796-0032-4657-971c-bee29a05bc70')\"\n",
       "            title=\"Convert this dataframe to an interactive table.\"\n",
       "            style=\"display:none;\">\n",
       "\n",
       "  <svg xmlns=\"http://www.w3.org/2000/svg\" height=\"24px\" viewBox=\"0 -960 960 960\">\n",
       "    <path d=\"M120-120v-720h720v720H120Zm60-500h600v-160H180v160Zm220 220h160v-160H400v160Zm0 220h160v-160H400v160ZM180-400h160v-160H180v160Zm440 0h160v-160H620v160ZM180-180h160v-160H180v160Zm440 0h160v-160H620v160Z\"/>\n",
       "  </svg>\n",
       "    </button>\n",
       "\n",
       "  <style>\n",
       "    .colab-df-container {\n",
       "      display:flex;\n",
       "      gap: 12px;\n",
       "    }\n",
       "\n",
       "    .colab-df-convert {\n",
       "      background-color: #E8F0FE;\n",
       "      border: none;\n",
       "      border-radius: 50%;\n",
       "      cursor: pointer;\n",
       "      display: none;\n",
       "      fill: #1967D2;\n",
       "      height: 32px;\n",
       "      padding: 0 0 0 0;\n",
       "      width: 32px;\n",
       "    }\n",
       "\n",
       "    .colab-df-convert:hover {\n",
       "      background-color: #E2EBFA;\n",
       "      box-shadow: 0px 1px 2px rgba(60, 64, 67, 0.3), 0px 1px 3px 1px rgba(60, 64, 67, 0.15);\n",
       "      fill: #174EA6;\n",
       "    }\n",
       "\n",
       "    .colab-df-buttons div {\n",
       "      margin-bottom: 4px;\n",
       "    }\n",
       "\n",
       "    [theme=dark] .colab-df-convert {\n",
       "      background-color: #3B4455;\n",
       "      fill: #D2E3FC;\n",
       "    }\n",
       "\n",
       "    [theme=dark] .colab-df-convert:hover {\n",
       "      background-color: #434B5C;\n",
       "      box-shadow: 0px 1px 3px 1px rgba(0, 0, 0, 0.15);\n",
       "      filter: drop-shadow(0px 1px 2px rgba(0, 0, 0, 0.3));\n",
       "      fill: #FFFFFF;\n",
       "    }\n",
       "  </style>\n",
       "\n",
       "    <script>\n",
       "      const buttonEl =\n",
       "        document.querySelector('#df-112e1796-0032-4657-971c-bee29a05bc70 button.colab-df-convert');\n",
       "      buttonEl.style.display =\n",
       "        google.colab.kernel.accessAllowed ? 'block' : 'none';\n",
       "\n",
       "      async function convertToInteractive(key) {\n",
       "        const element = document.querySelector('#df-112e1796-0032-4657-971c-bee29a05bc70');\n",
       "        const dataTable =\n",
       "          await google.colab.kernel.invokeFunction('convertToInteractive',\n",
       "                                                    [key], {});\n",
       "        if (!dataTable) return;\n",
       "\n",
       "        const docLinkHtml = 'Like what you see? Visit the ' +\n",
       "          '<a target=\"_blank\" href=https://colab.research.google.com/notebooks/data_table.ipynb>data table notebook</a>'\n",
       "          + ' to learn more about interactive tables.';\n",
       "        element.innerHTML = '';\n",
       "        dataTable['output_type'] = 'display_data';\n",
       "        await google.colab.output.renderOutput(dataTable, element);\n",
       "        const docLink = document.createElement('div');\n",
       "        docLink.innerHTML = docLinkHtml;\n",
       "        element.appendChild(docLink);\n",
       "      }\n",
       "    </script>\n",
       "  </div>\n",
       "\n",
       "\n",
       "<div id=\"df-bd5fe6ca-4da1-430d-8858-201009061969\">\n",
       "  <button class=\"colab-df-quickchart\" onclick=\"quickchart('df-bd5fe6ca-4da1-430d-8858-201009061969')\"\n",
       "            title=\"Suggest charts.\"\n",
       "            style=\"display:none;\">\n",
       "\n",
       "<svg xmlns=\"http://www.w3.org/2000/svg\" height=\"24px\"viewBox=\"0 0 24 24\"\n",
       "     width=\"24px\">\n",
       "    <g>\n",
       "        <path d=\"M19 3H5c-1.1 0-2 .9-2 2v14c0 1.1.9 2 2 2h14c1.1 0 2-.9 2-2V5c0-1.1-.9-2-2-2zM9 17H7v-7h2v7zm4 0h-2V7h2v10zm4 0h-2v-4h2v4z\"/>\n",
       "    </g>\n",
       "</svg>\n",
       "  </button>\n",
       "\n",
       "<style>\n",
       "  .colab-df-quickchart {\n",
       "      --bg-color: #E8F0FE;\n",
       "      --fill-color: #1967D2;\n",
       "      --hover-bg-color: #E2EBFA;\n",
       "      --hover-fill-color: #174EA6;\n",
       "      --disabled-fill-color: #AAA;\n",
       "      --disabled-bg-color: #DDD;\n",
       "  }\n",
       "\n",
       "  [theme=dark] .colab-df-quickchart {\n",
       "      --bg-color: #3B4455;\n",
       "      --fill-color: #D2E3FC;\n",
       "      --hover-bg-color: #434B5C;\n",
       "      --hover-fill-color: #FFFFFF;\n",
       "      --disabled-bg-color: #3B4455;\n",
       "      --disabled-fill-color: #666;\n",
       "  }\n",
       "\n",
       "  .colab-df-quickchart {\n",
       "    background-color: var(--bg-color);\n",
       "    border: none;\n",
       "    border-radius: 50%;\n",
       "    cursor: pointer;\n",
       "    display: none;\n",
       "    fill: var(--fill-color);\n",
       "    height: 32px;\n",
       "    padding: 0;\n",
       "    width: 32px;\n",
       "  }\n",
       "\n",
       "  .colab-df-quickchart:hover {\n",
       "    background-color: var(--hover-bg-color);\n",
       "    box-shadow: 0 1px 2px rgba(60, 64, 67, 0.3), 0 1px 3px 1px rgba(60, 64, 67, 0.15);\n",
       "    fill: var(--button-hover-fill-color);\n",
       "  }\n",
       "\n",
       "  .colab-df-quickchart-complete:disabled,\n",
       "  .colab-df-quickchart-complete:disabled:hover {\n",
       "    background-color: var(--disabled-bg-color);\n",
       "    fill: var(--disabled-fill-color);\n",
       "    box-shadow: none;\n",
       "  }\n",
       "\n",
       "  .colab-df-spinner {\n",
       "    border: 2px solid var(--fill-color);\n",
       "    border-color: transparent;\n",
       "    border-bottom-color: var(--fill-color);\n",
       "    animation:\n",
       "      spin 1s steps(1) infinite;\n",
       "  }\n",
       "\n",
       "  @keyframes spin {\n",
       "    0% {\n",
       "      border-color: transparent;\n",
       "      border-bottom-color: var(--fill-color);\n",
       "      border-left-color: var(--fill-color);\n",
       "    }\n",
       "    20% {\n",
       "      border-color: transparent;\n",
       "      border-left-color: var(--fill-color);\n",
       "      border-top-color: var(--fill-color);\n",
       "    }\n",
       "    30% {\n",
       "      border-color: transparent;\n",
       "      border-left-color: var(--fill-color);\n",
       "      border-top-color: var(--fill-color);\n",
       "      border-right-color: var(--fill-color);\n",
       "    }\n",
       "    40% {\n",
       "      border-color: transparent;\n",
       "      border-right-color: var(--fill-color);\n",
       "      border-top-color: var(--fill-color);\n",
       "    }\n",
       "    60% {\n",
       "      border-color: transparent;\n",
       "      border-right-color: var(--fill-color);\n",
       "    }\n",
       "    80% {\n",
       "      border-color: transparent;\n",
       "      border-right-color: var(--fill-color);\n",
       "      border-bottom-color: var(--fill-color);\n",
       "    }\n",
       "    90% {\n",
       "      border-color: transparent;\n",
       "      border-bottom-color: var(--fill-color);\n",
       "    }\n",
       "  }\n",
       "</style>\n",
       "\n",
       "  <script>\n",
       "    async function quickchart(key) {\n",
       "      const quickchartButtonEl =\n",
       "        document.querySelector('#' + key + ' button');\n",
       "      quickchartButtonEl.disabled = true;  // To prevent multiple clicks.\n",
       "      quickchartButtonEl.classList.add('colab-df-spinner');\n",
       "      try {\n",
       "        const charts = await google.colab.kernel.invokeFunction(\n",
       "            'suggestCharts', [key], {});\n",
       "      } catch (error) {\n",
       "        console.error('Error during call to suggestCharts:', error);\n",
       "      }\n",
       "      quickchartButtonEl.classList.remove('colab-df-spinner');\n",
       "      quickchartButtonEl.classList.add('colab-df-quickchart-complete');\n",
       "    }\n",
       "    (() => {\n",
       "      let quickchartButtonEl =\n",
       "        document.querySelector('#df-bd5fe6ca-4da1-430d-8858-201009061969 button');\n",
       "      quickchartButtonEl.style.display =\n",
       "        google.colab.kernel.accessAllowed ? 'block' : 'none';\n",
       "    })();\n",
       "  </script>\n",
       "</div>\n",
       "    </div>\n",
       "  </div>\n"
      ],
      "text/plain": [
       "    Image  Number identified - YOLO  Number identifiable - YOLO  \\\n",
       "36      4                        85                          80   \n",
       "13      8                        83                          80   \n",
       "20     28                        88                          80   \n",
       "19     31                       107                          80   \n",
       "6      45                        79                          80   \n",
       "38     57                        97                          80   \n",
       "34     70                        87                          80   \n",
       "4      77                        87                          80   \n",
       "10     93                        87                          80   \n",
       "30     97                        80                          80   \n",
       "28    109                        91                          80   \n",
       "7     115                        90                          80   \n",
       "23    144                        85                          80   \n",
       "26    155                        92                          80   \n",
       "8     172                        91                          80   \n",
       "9     188                        88                          80   \n",
       "25    191                        85                          80   \n",
       "21    193                        87                          80   \n",
       "29    194                        78                          80   \n",
       "15    200                        84                          80   \n",
       "0     208                        88                          80   \n",
       "31    209                       102                          80   \n",
       "5     230                        91                          80   \n",
       "39    242                        87                          80   \n",
       "2     262                        78                          80   \n",
       "14    285                        87                          80   \n",
       "24    286                        86                          80   \n",
       "3     288                        72                          80   \n",
       "27    291                        76                          80   \n",
       "18    297                        93                          80   \n",
       "33    301                        85                          80   \n",
       "1     304                        92                          80   \n",
       "32    310                        84                          80   \n",
       "22    322                        98                          80   \n",
       "11    323                        91                          80   \n",
       "35    324                        81                          80   \n",
       "37    357                        88                          80   \n",
       "17    365                        91                          80   \n",
       "12    371                        88                          80   \n",
       "16    383                        89                          80   \n",
       "\n",
       "    Percentage - YOLO  RMSE_cx - YOLO  RMSE_cy - YOLO  RMSE_c - YOLO  \\\n",
       "36             106.25            7.80            5.29           9.43   \n",
       "13             103.75            8.46            5.50          10.09   \n",
       "20             110.00            7.40            4.47           8.64   \n",
       "19             133.75            5.31            3.97           6.62   \n",
       "6               98.75            8.73            6.91          11.13   \n",
       "38             121.25            7.52            4.50           8.76   \n",
       "34             108.75            8.75            6.56          10.94   \n",
       "4              108.75            7.34            6.05           9.52   \n",
       "10             108.75            9.06            7.61          11.83   \n",
       "30             100.00            8.77           15.89          18.15   \n",
       "28             113.75            6.81            5.10           8.51   \n",
       "7              112.50            7.54            3.99           8.53   \n",
       "23             106.25            7.45            6.31           9.76   \n",
       "26             115.00            7.42            5.01           8.95   \n",
       "8              113.75            8.17            4.94           9.54   \n",
       "9              110.00           11.49            4.86          12.47   \n",
       "25             106.25            7.07            5.24           8.80   \n",
       "21             108.75            9.11            7.68          11.92   \n",
       "29              97.50            8.88            6.62          11.07   \n",
       "15             105.00           11.16           12.08          16.44   \n",
       "0              110.00           10.67            5.65          12.08   \n",
       "31             127.50            8.88            8.65          12.40   \n",
       "5              113.75            7.22           12.80          14.70   \n",
       "39             108.75            8.27            6.73          10.66   \n",
       "2               97.50            9.23            6.87          11.50   \n",
       "14             108.75            7.98            5.12           9.48   \n",
       "24             107.50            7.75            4.99           9.22   \n",
       "3               90.00            8.27            3.45           8.96   \n",
       "27              95.00            8.46            3.92           9.32   \n",
       "18             116.25            8.08            8.53          11.75   \n",
       "33             106.25            9.48            4.45          10.47   \n",
       "1              115.00            7.71            4.51           8.93   \n",
       "32             105.00            7.25            4.25           8.40   \n",
       "22             122.50            7.78            4.84           9.16   \n",
       "11             113.75            8.97            4.47          10.03   \n",
       "35             101.25            9.94            7.95          12.73   \n",
       "37             110.00            7.27            6.69           9.88   \n",
       "17             113.75            8.05            3.07           8.62   \n",
       "12             110.00           11.21            5.31          12.41   \n",
       "16             111.25            9.07            7.01          11.46   \n",
       "\n",
       "    RMSE_sigmax - YOLO  RMSE_sigmay - YOLO  RMSE_sigma - YOLO  \\\n",
       "36               47.26               24.06              53.03   \n",
       "13               52.60               22.30              57.13   \n",
       "20               50.52               21.08              54.74   \n",
       "19               48.27               25.02              54.37   \n",
       "6                51.57               21.00              55.68   \n",
       "38               54.12               20.65              57.93   \n",
       "34               52.24               27.62              59.09   \n",
       "4                54.18               22.19              58.54   \n",
       "10               52.14               23.62              57.24   \n",
       "30               50.21               23.67              55.51   \n",
       "28               48.65               24.07              54.28   \n",
       "7                56.85               22.97              61.31   \n",
       "23               57.39               21.16              61.17   \n",
       "26               52.02               21.27              56.20   \n",
       "8                52.70               19.51              56.20   \n",
       "9                55.53               21.35              59.49   \n",
       "25               52.94               22.22              57.42   \n",
       "21               52.51               23.05              57.35   \n",
       "29               53.36               23.43              58.27   \n",
       "15               49.46               19.67              53.22   \n",
       "0                47.93               21.08              52.36   \n",
       "31               52.75               25.04              58.40   \n",
       "5                53.40               22.75              58.04   \n",
       "39               51.51               25.80              57.61   \n",
       "2                54.25               21.57              58.37   \n",
       "14               56.03               22.26              60.29   \n",
       "24               52.44               22.47              57.05   \n",
       "3                48.74               23.06              53.92   \n",
       "27               45.44               24.51              51.63   \n",
       "18               50.83               21.69              55.26   \n",
       "33               59.31               20.57              62.78   \n",
       "1                51.96               21.07              56.07   \n",
       "32               53.38               22.58              57.96   \n",
       "22               62.09               26.49              67.50   \n",
       "11               53.41               26.85              59.78   \n",
       "35               54.27               25.25              59.85   \n",
       "37               52.55               21.84              56.91   \n",
       "17               51.89               22.53              56.57   \n",
       "12               57.13               18.82              60.15   \n",
       "16               59.36               18.92              62.31   \n",
       "\n",
       "    MaxE_sigmax - YOLO  MaxE_sigmay - YOLO  MaxE_sigma - YOLO  \\\n",
       "36              105.85               68.65             126.16   \n",
       "13              141.85               58.43             153.41   \n",
       "20              138.46               74.66             157.31   \n",
       "19              125.50               78.75             148.16   \n",
       "6               155.61               58.23             166.15   \n",
       "38              136.72               58.75             148.81   \n",
       "34              188.63               73.91             202.59   \n",
       "4               125.15               77.32             147.10   \n",
       "10              126.80               76.55             148.12   \n",
       "30              139.63               90.56             166.43   \n",
       "28              168.13               59.02             178.19   \n",
       "7               179.37               73.39             193.81   \n",
       "23              183.68               55.90             192.00   \n",
       "26              208.59               71.02             220.35   \n",
       "8               155.46               57.18             165.64   \n",
       "9               173.49               62.84             184.52   \n",
       "25              131.20               68.83             148.16   \n",
       "21              112.26               56.86             125.84   \n",
       "29              156.37               60.44             167.64   \n",
       "15              120.49               52.95             131.61   \n",
       "0               129.49               52.82             139.84   \n",
       "31              168.16               70.86             182.48   \n",
       "5               192.43               89.66             212.30   \n",
       "39              132.34               76.91             153.06   \n",
       "2               143.65               69.47             159.57   \n",
       "14              143.29               64.66             157.20   \n",
       "24              129.86               63.28             144.46   \n",
       "3               118.14               69.87             137.26   \n",
       "27              124.36               62.17             139.03   \n",
       "18              183.54               89.36             204.14   \n",
       "33              177.05               65.25             188.69   \n",
       "1               142.94               66.75             157.76   \n",
       "32              196.65               67.60             207.95   \n",
       "22              134.95               62.59             148.76   \n",
       "11              138.54               61.15             151.43   \n",
       "35              233.90               70.30             244.24   \n",
       "37              150.89               58.64             161.88   \n",
       "17              123.38               78.16             146.05   \n",
       "12              190.95               60.20             200.21   \n",
       "16              157.60               53.33             166.38   \n",
       "\n",
       "    RMSE_amplitude - YOLO  RMSEPixel - YOLO  \n",
       "36                  56.28             11.11  \n",
       "13                  59.39             12.24  \n",
       "20                  57.74             13.32  \n",
       "19                  57.58             17.78  \n",
       "6                   63.73              9.82  \n",
       "38                  61.20             19.50  \n",
       "34                  65.36             14.69  \n",
       "4                   60.05             13.64  \n",
       "10                  60.33             13.75  \n",
       "30                  59.84             12.86  \n",
       "28                  51.78             12.11  \n",
       "7                   59.49             15.59  \n",
       "23                  56.37             11.69  \n",
       "26                  60.12             14.76  \n",
       "8                   62.18             17.14  \n",
       "9                   65.57             16.59  \n",
       "25                  54.38             11.05  \n",
       "21                  59.75             17.78  \n",
       "29                  59.43              9.74  \n",
       "15                  63.66             14.23  \n",
       "0                   63.98             16.06  \n",
       "31                  59.19             20.76  \n",
       "5                   62.25             19.38  \n",
       "39                  61.44             13.59  \n",
       "2                   62.91             11.09  \n",
       "14                  63.98             16.46  \n",
       "24                  57.22             13.44  \n",
       "3                   69.92             11.80  \n",
       "27                  60.46              8.86  \n",
       "18                  64.76             17.67  \n",
       "33                  65.06             16.29  \n",
       "1                   62.03             16.98  \n",
       "32                  66.71             15.66  \n",
       "22                  54.25             18.53  \n",
       "11                  69.04             17.76  \n",
       "35                  68.87             13.54  \n",
       "37                  56.48             14.43  \n",
       "17                  57.17             13.27  \n",
       "12                  60.68             19.64  \n",
       "16                  57.87             13.57  "
      ]
     },
     "execution_count": 105,
     "metadata": {},
     "output_type": "execute_result"
    }
   ],
   "source": [
    "# Results\n",
    "pd.DataFrame.from_dict(results).round(2).sort_values(\"Image\")"
   ]
  },
  {
   "cell_type": "code",
   "execution_count": null,
   "metadata": {},
   "outputs": [],
   "source": [
    "# SNAPSHOTS THE RESULTS WITH THE ANNOTATIONS\n",
    "snapshot_folder_path = f\"\"\"docs/Results/snapshot_v{str(datetime.now().date())}/\"\"\"\n",
    "\n",
    "# Save for Yolo\n",
    "checkpoint_error(\n",
    "    snapshot_folder_path=snapshot_folder_path,\n",
    "    error_dataframe=pd.DataFrame.from_dict(results).sort_values(\"Image\"),\n",
    "    annotation=f\"\"\"Amplitudes estimated using the center directly\\n\n",
    "                 image_path = {\"docs/Data/Images_T80kenji/\"}\\n\n",
    "                 id_estimation_method = {model.__dict__['ckpt_path']}\\n\n",
    "                 id_images evaluated: {eval_images}\"\"\",\n",
    "    name=\"T80kenjiYOLO_modelDS_IE\",\n",
    ")"
   ]
  }
 ],
 "metadata": {
  "colab": {
   "authorship_tag": "ABX9TyM5yZUQ8Js6QQcn98AR5nKA",
   "collapsed_sections": [
    "63RLqu9Dhqlc",
    "6F-x3NKN4X1M",
    "GW16atm0LgQb",
    "tIZpjucVaIZb",
    "xniGKI0_3BYE",
    "FrkdtJLKDxLm",
    "N-BlYT_0Skqh",
    "Dwq8JPctow8V",
    "5cek6gJJ8Jl6",
    "mxdCWjL5ye_W",
    "BFGl_AEloFcw",
    "3A7FTCCOX889",
    "l1usTDo1pU1G",
    "OWLN9Rr_pXrZ",
    "OgY58403H8_4",
    "7i0nNDmfnzCv"
   ],
   "provenance": []
  },
  "kernelspec": {
   "display_name": "Python 3",
   "name": "python3"
  },
  "language_info": {
   "name": "python"
  }
 },
 "nbformat": 4,
 "nbformat_minor": 0
}
