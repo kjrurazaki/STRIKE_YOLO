{
 "cells": [
  {
   "cell_type": "markdown",
   "metadata": {},
   "source": [
    "# YOLO DS-II method analysis and final errors for DS-II\n",
    "- Notebook of predictions, labelling and training is performed in the other one"
   ]
  },
  {
   "cell_type": "code",
   "execution_count": null,
   "metadata": {
    "colab": {
     "base_uri": "https://localhost:8080/"
    },
    "executionInfo": {
     "elapsed": 8677,
     "status": "ok",
     "timestamp": 1699737634168,
     "user": {
      "displayName": "Kenji Urazaki Junior",
      "userId": "11704701621463640642"
     },
     "user_tz": -60
    },
    "id": "q1a3GS3mpBol",
    "outputId": "e80cf3af-24b3-45c3-db8b-6a586def81ef"
   },
   "outputs": [],
   "source": [
    "NOTEBOOK_CONFIG = {\n",
    "    \"label_mode\": True,\n",
    "    \"train_mode\": True,\n",
    "    \"IMG_LENGTH\": 180,\n",
    "    \"IMG_WIDTH\": 72,\n",
    "    \"IMG_XDIM\": 72,\n",
    "    \"IMG_YDIM\": 180,\n",
    "    \"image_ranges\": [(0, 72), (0, 180)],\n",
    "    \"image_size\": [72, 180],\n",
    "    \"labels_type\": \"Labelsv0_T80kenji_detect\",\n",
    "    \"task\": \"detect\",\n",
    "    \"model_name\": \"YOLOv0_T80kenji_detect\",\n",
    "}"
   ]
  },
  {
   "cell_type": "code",
   "execution_count": 2,
   "metadata": {
    "executionInfo": {
     "elapsed": 10194,
     "status": "ok",
     "timestamp": 1699737644356,
     "user": {
      "displayName": "Kenji Urazaki Junior",
      "userId": "11704701621463640642"
     },
     "user_tz": -60
    },
    "id": "II9lJmkmmig0"
   },
   "outputs": [],
   "source": [
    "# Folders\n",
    "# Location of images\n",
    "images_folder = f\"../docs/Data/Images_T80kenji/\"\n",
    "# Locations of yolo's datasets\n",
    "yolo_folder = f\"../docs/Models/{NOTEBOOK_CONFIG['yolo_type']}/datasets/\"\n",
    "# Location of labels\n",
    "labels_folder = f\"../docs/Data/{NOTEBOOK_CONFIG['labels_type']}/\"\n",
    "# Location of trained models\n",
    "model_folder = f\"../docs/Models/{NOTEBOOK_CONFIG['yolo_type']}/\""
   ]
  },
  {
   "cell_type": "code",
   "execution_count": 3,
   "metadata": {
    "executionInfo": {
     "elapsed": 11771,
     "status": "ok",
     "timestamp": 1699737656123,
     "user": {
      "displayName": "Kenji Urazaki Junior",
      "userId": "11704701621463640642"
     },
     "user_tz": -60
    },
    "id": "s6ocr0nrozCg"
   },
   "outputs": [],
   "source": [
    "# Path for sample image\n",
    "n_image = 313\n",
    "image_path = f\"../docs/Data/Images_T80kenji/gaussian_{n_image}.png\"\n",
    "label_path = f\"../docs/Data/{NOTEBOOK_CONFIG['labels_type']}/gaussian_{n_image}.txt\""
   ]
  },
  {
   "cell_type": "code",
   "execution_count": 4,
   "metadata": {
    "colab": {
     "base_uri": "https://localhost:8080/"
    },
    "executionInfo": {
     "elapsed": 25927,
     "status": "ok",
     "timestamp": 1699737682041,
     "user": {
      "displayName": "Kenji Urazaki Junior",
      "userId": "11704701621463640642"
     },
     "user_tz": -60
    },
    "id": "GP6pRte35--M",
    "outputId": "12df38f9-2a58-494e-fac4-326024576678"
   },
   "outputs": [
    {
     "name": "stdout",
     "output_type": "stream",
     "text": [
      "Mounted at /content/gdrive\n"
     ]
    }
   ],
   "source": [
    "from google.colab import drive\n",
    "\n",
    "drive.mount(\"/content/gdrive\")"
   ]
  },
  {
   "cell_type": "code",
   "execution_count": 5,
   "metadata": {
    "executionInfo": {
     "elapsed": 7,
     "status": "ok",
     "timestamp": 1699737682042,
     "user": {
      "displayName": "Kenji Urazaki Junior",
      "userId": "11704701621463640642"
     },
     "user_tz": -60
    },
    "id": "_wBlzIsERI6x"
   },
   "outputs": [],
   "source": [
    "import h5py\n",
    "import os\n",
    "import pandas as pd\n",
    "import numpy as np\n",
    "\n",
    "from datetime import datetime\n",
    "import scipy.io\n",
    "\n",
    "from matplotlib import pyplot as plt\n",
    "from adjustText import adjust_text"
   ]
  },
  {
   "cell_type": "code",
   "execution_count": null,
   "metadata": {
    "colab": {
     "base_uri": "https://localhost:8080/"
    },
    "executionInfo": {
     "elapsed": 800,
     "status": "ok",
     "timestamp": 1699737701103,
     "user": {
      "displayName": "Kenji Urazaki Junior",
      "userId": "11704701621463640642"
     },
     "user_tz": -60
    },
    "id": "5u_nfyjm-35b",
    "outputId": "7d9cab06-0c78-41f5-e15b-733fb3626455"
   },
   "outputs": [],
   "source": [
    "from ultralytics import YOLO\n",
    "import cv2\n",
    "from PIL import Image"
   ]
  },
  {
   "cell_type": "markdown",
   "metadata": {
    "id": "3AmV3H7duMnF"
   },
   "source": [
    "# Load modules"
   ]
  },
  {
   "cell_type": "code",
   "execution_count": 15,
   "metadata": {
    "executionInfo": {
     "elapsed": 3491,
     "status": "ok",
     "timestamp": 1699737704588,
     "user": {
      "displayName": "Kenji Urazaki Junior",
      "userId": "11704701621463640642"
     },
     "user_tz": -60
    },
    "id": "QCSF28uNp5Ix"
   },
   "outputs": [],
   "source": [
    "# Training runs (best)\n",
    "bst_run = {\n",
    "    \"YOLOv0_detect\": \"2023-07-26_18-50-24\",\n",
    "    \"YOLOv0_E2_detect\": \"2023-08-21_09-27-11\",\n",
    "    \"YOLOv0_E3_detect\": \"2023-08-21_10-25-30\",\n",
    "    \"YOLOv0_E4_detect\": \"2023-08-21_14-37-58\",\n",
    "    \"YOLOv0_E12_detect\": \"2023-08-21_13-57-46\",\n",
    "    \"YOLOv0_T80kenji_detect\": \"2023-09-04_11-19-43\",\n",
    "}"
   ]
  },
  {
   "cell_type": "code",
   "execution_count": null,
   "metadata": {
    "colab": {
     "base_uri": "https://localhost:8080/"
    },
    "executionInfo": {
     "elapsed": 245,
     "status": "ok",
     "timestamp": 1699737704825,
     "user": {
      "displayName": "Kenji Urazaki Junior",
      "userId": "11704701621463640642"
     },
     "user_tz": -60
    },
    "id": "h3Ap154FjzsI",
    "outputId": "4e1de4bb-cd57-4b32-a4fb-04bc8189c087"
   },
   "outputs": [],
   "source": [
    "# Load custom model\n",
    "base_path = \"../docs/Models\"\n",
    "model_path = (f\"{NOTEBOOK_CONFIG['model_name']}/runs/\n",
    "              {bst_run[NOTEBOOK_CONFIG['model_name']]}/\n",
    "              {NOTEBOOK_CONFIG['task']}\")\n",
    "\n",
    "model = YOLO(f\"{base_path}/{model_path}/train/weights/best.pt\")"
   ]
  },
  {
   "cell_type": "code",
   "execution_count": null,
   "metadata": {},
   "outputs": [],
   "source": [
    "import sys\n",
    "\n",
    "sys.path.append(\"..\")"
   ]
  },
  {
   "cell_type": "code",
   "execution_count": null,
   "metadata": {},
   "outputs": [],
   "source": [
    "from helpers.gaussian_generator import generate_grid\n",
    "from helpers.auxiliary_functions import parameters_extract, checkpoint_error\n",
    "from helpers.aux_plotter import (\n",
    "    plot_boxes,\n",
    "    plot_boxes_gmm,\n",
    "    gaussians_labelled,\n",
    "    plot_grayscale,\n",
    "    plot_box_labels,\n",
    ")\n",
    "from pipelines.pipelines import (\n",
    "    ppl_fit_gaussians,\n",
    "    ppl_error_estimation,\n",
    "    ppl_yolo_predict_gaussians,\n",
    "    ppl_yolo_px_predict_gaussians,\n",
    "    ppl_ensemble_predict_gaussians,\n",
    ")\n",
    "from helpers.error_estimation import compute_error_per_gaussian"
   ]
  },
  {
   "cell_type": "markdown",
   "metadata": {
    "id": "ITUeQub8Q9we"
   },
   "source": [
    "# Data from CNR"
   ]
  },
  {
   "cell_type": "markdown",
   "metadata": {
    "id": "GonBVBEbQi5d"
   },
   "source": [
    "## Load\n",
    "- Real size of the tile is roughly equal to 2 pixel / mm"
   ]
  },
  {
   "cell_type": "code",
   "execution_count": null,
   "metadata": {
    "colab": {
     "base_uri": "https://localhost:8080/"
    },
    "executionInfo": {
     "elapsed": 1327,
     "status": "ok",
     "timestamp": 1699737706150,
     "user": {
      "displayName": "Kenji Urazaki Junior",
      "userId": "11704701621463640642"
     },
     "user_tz": -60
    },
    "id": "gX1pUEjDRQaa",
    "outputId": "dac490c5-5a9d-4911-fd64-5bfc1af95a5f"
   },
   "outputs": [],
   "source": [
    "filename = \"../docs/Data/T80_kenji.mat\"\n",
    "mat = {}\n",
    "with h5py.File(filename, \"r\") as f:\n",
    "    # Print all keys in the file\n",
    "    print(list(f.keys()))\n",
    "    for i_key in f.keys():\n",
    "        mat.update({i_key: f[i_key][:]})"
   ]
  },
  {
   "cell_type": "code",
   "execution_count": 18,
   "metadata": {
    "executionInfo": {
     "elapsed": 8,
     "status": "ok",
     "timestamp": 1699737706151,
     "user": {
      "displayName": "Kenji Urazaki Junior",
      "userId": "11704701621463640642"
     },
     "user_tz": -60
    },
    "id": "YxQ-jQKnS2Fh"
   },
   "outputs": [],
   "source": [
    "# Renaming as the previous data\n",
    "mat[\"F_data\"] = mat[\"T2fit\"]\n",
    "mat[\"Fit_flux\"] = mat[\"val_fit\"]\n",
    "del mat[\"T2fit\"]\n",
    "del mat[\"val_fit\"]"
   ]
  },
  {
   "cell_type": "code",
   "execution_count": 19,
   "metadata": {
    "executionInfo": {
     "elapsed": 7,
     "status": "ok",
     "timestamp": 1699737706151,
     "user": {
      "displayName": "Kenji Urazaki Junior",
      "userId": "11704701621463640642"
     },
     "user_tz": -60
    },
    "id": "cLEOLh-ga12B"
   },
   "outputs": [],
   "source": [
    "# Transposing to match the organization of the previous database\n",
    "mat[\"F_data\"] = mat[\"F_data\"].T\n",
    "mat[\"Fit_flux\"] = mat[\"Fit_flux\"].T"
   ]
  },
  {
   "cell_type": "code",
   "execution_count": 20,
   "metadata": {
    "executionInfo": {
     "elapsed": 6,
     "status": "ok",
     "timestamp": 1699737706151,
     "user": {
      "displayName": "Kenji Urazaki Junior",
      "userId": "11704701621463640642"
     },
     "user_tz": -60
    },
    "id": "aksjWoZzRcw1"
   },
   "outputs": [],
   "source": [
    "# Generate GRID\n",
    "width = mat[\"F_data\"].shape[1]\n",
    "length = mat[\"F_data\"].shape[0]\n",
    "x, y = generate_grid(\n",
    "    (0, width), (0, length), mat[\"F_data\"].shape[1], mat[\"F_data\"].shape[0]\n",
    ")"
   ]
  },
  {
   "cell_type": "code",
   "execution_count": 21,
   "metadata": {
    "colab": {
     "base_uri": "https://localhost:8080/"
    },
    "executionInfo": {
     "elapsed": 6,
     "status": "ok",
     "timestamp": 1699737706151,
     "user": {
      "displayName": "Kenji Urazaki Junior",
      "userId": "11704701621463640642"
     },
     "user_tz": -60
    },
    "id": "PkLCd9bWJp_N",
    "outputId": "3baa8e79-4897-40df-fd0c-8602a9a32f4f"
   },
   "outputs": [
    {
     "name": "stdout",
     "output_type": "stream",
     "text": [
      "(180, 72, 400)\n",
      "(180, 72)\n",
      "(180, 72)\n"
     ]
    }
   ],
   "source": [
    "print(mat[\"F_data\"].shape)\n",
    "print(x.shape)\n",
    "print(y.shape)"
   ]
  },
  {
   "cell_type": "code",
   "execution_count": 22,
   "metadata": {
    "colab": {
     "base_uri": "https://localhost:8080/",
     "height": 855
    },
    "executionInfo": {
     "elapsed": 1736,
     "status": "ok",
     "timestamp": 1699737707883,
     "user": {
      "displayName": "Kenji Urazaki Junior",
      "userId": "11704701621463640642"
     },
     "user_tz": -60
    },
    "id": "6jQBAhhiSlpN",
    "outputId": "b04fa55c-41cb-4133-80b3-f520986d4791"
   },
   "outputs": [
    {
     "data": {
      "image/png": "[encoded data removed]",
      "text/plain": [
       "<Figure size 1500x1000 with 2 Axes>"
      ]
     },
     "metadata": {},
     "output_type": "display_data"
    }
   ],
   "source": [
    "fig, ax = plt.subplots(figsize=(15, 10))\n",
    "plot_grayscale(x, y, mat[\"F_data\"][:, :, 0], ax=ax)"
   ]
  },
  {
   "cell_type": "markdown",
   "metadata": {
    "id": "A8N4i_NK5Oxq"
   },
   "source": [
    "# [ESTIMATION PART I and II]\n",
    "- Images: 400\n",
    "- predict_T80kenji"
   ]
  },
  {
   "cell_type": "markdown",
   "metadata": {},
   "source": [
    "## [ESTIMATION] Pipeline ppl_Yolo DS-IE"
   ]
  },
  {
   "cell_type": "code",
   "execution_count": null,
   "metadata": {},
   "outputs": [],
   "source": [
    "# Load our custom model\n",
    "model_dsie = YOLO(f\"../docs/Models/{\"YOLOv0_E12_detect\"}/runs/{bst_run['YOLOv0_E12_detect']}/{NOTEBOOK_CONFIG['task']}/train/weights/best.pt\")"
   ]
  },
  {
   "cell_type": "code",
   "execution_count": null,
   "metadata": {},
   "outputs": [],
   "source": [
    "# Make the prediction\n",
    "img = cv2.imread(image_path)\n",
    "results = model_dsie.predict(img)\n",
    "\n",
    "# class 0 boxes\n",
    "tensor_boxes = results[0].boxes.xyxy\n",
    "\n",
    "# Centers\n",
    "means_yolo = [\n",
    "    (float(x), float(y))\n",
    "    for x, y in zip(\n",
    "        results[0].boxes.xywhn[:, 0] * NOTEBOOK_CONFIG[\"image_size\"][0],\n",
    "        results[0].boxes.xywhn[:, 1] * NOTEBOOK_CONFIG[\"image_size\"][1],\n",
    "    )\n",
    "]"
   ]
  },
  {
   "cell_type": "markdown",
   "metadata": {
    "id": "QYyB3qCzFTa-"
   },
   "source": [
    "## [ESTIMATION] Pipeline ppl_Yolo - Retrained"
   ]
  },
  {
   "cell_type": "markdown",
   "metadata": {
    "id": "FxUl5_GAy3KW"
   },
   "source": [
    "### Predict with custom model - YOLOv0"
   ]
  },
  {
   "cell_type": "code",
   "execution_count": 24,
   "metadata": {
    "colab": {
     "base_uri": "https://localhost:8080/"
    },
    "executionInfo": {
     "elapsed": 7,
     "status": "ok",
     "timestamp": 1699737707883,
     "user": {
      "displayName": "Kenji Urazaki Junior",
      "userId": "11704701621463640642"
     },
     "user_tz": -60
    },
    "id": "v7Ae2R-ykU0O",
    "outputId": "99883c4f-b1a7-444f-fbe4-b4dc64caab2c"
   },
   "outputs": [
    {
     "data": {
      "text/plain": [
       "['YOLOv0_detect',\n",
       " 'YOLOv0_E2_detect',\n",
       " 'YOLOv0_E3_detect',\n",
       " 'YOLOv0_E12_detect',\n",
       " 'YOLOv0_E4_detect',\n",
       " 'Archive',\n",
       " 'YOLOv0_E1_detect',\n",
       " 'YOLOv0_T80kenji_detect']"
      ]
     },
     "execution_count": 24,
     "metadata": {},
     "output_type": "execute_result"
    }
   ],
   "source": [
    "os.listdir(\"../docs/Models\")"
   ]
  },
  {
   "cell_type": "code",
   "execution_count": 25,
   "metadata": {
    "colab": {
     "base_uri": "https://localhost:8080/"
    },
    "executionInfo": {
     "elapsed": 548,
     "status": "ok",
     "timestamp": 1699737708800,
     "user": {
      "displayName": "Kenji Urazaki Junior",
      "userId": "11704701621463640642"
     },
     "user_tz": -60
    },
    "id": "K2-65mFdotKN",
    "outputId": "7d5abdcc-f65c-4f1f-8690-cb213b597c4c"
   },
   "outputs": [
    {
     "data": {
      "text/plain": [
       "['gaussian_208.png',\n",
       " 'gaussian_304.png',\n",
       " 'gaussian_262.png',\n",
       " 'gaussian_288.png',\n",
       " 'gaussian_77.png',\n",
       " 'gaussian_230.png',\n",
       " 'gaussian_45.png',\n",
       " 'gaussian_115.png',\n",
       " 'gaussian_172.png',\n",
       " 'gaussian_188.png',\n",
       " 'gaussian_93.png',\n",
       " 'gaussian_323.png',\n",
       " 'gaussian_371.png',\n",
       " 'gaussian_8.png',\n",
       " 'gaussian_285.png',\n",
       " 'gaussian_200.png',\n",
       " 'gaussian_383.png',\n",
       " 'gaussian_365.png',\n",
       " 'gaussian_297.png',\n",
       " 'gaussian_31.png',\n",
       " 'gaussian_28.png',\n",
       " 'gaussian_193.png',\n",
       " 'gaussian_322.png',\n",
       " 'gaussian_144.png',\n",
       " 'gaussian_286.png',\n",
       " 'gaussian_191.png',\n",
       " 'gaussian_155.png',\n",
       " 'gaussian_291.png',\n",
       " 'gaussian_109.png',\n",
       " 'gaussian_194.png',\n",
       " 'gaussian_97.png',\n",
       " 'gaussian_209.png',\n",
       " 'gaussian_310.png',\n",
       " 'gaussian_301.png',\n",
       " 'gaussian_70.png',\n",
       " 'gaussian_324.png',\n",
       " 'gaussian_4.png',\n",
       " 'gaussian_357.png',\n",
       " 'gaussian_57.png',\n",
       " 'gaussian_242.png']"
      ]
     },
     "execution_count": 25,
     "metadata": {},
     "output_type": "execute_result"
    }
   ],
   "source": [
    "os.listdir(\"../docs/Models/YOLOv0_T80kenji_detect/datasets/test/images/\")"
   ]
  },
  {
   "cell_type": "code",
   "execution_count": 44,
   "metadata": {
    "colab": {
     "base_uri": "https://localhost:8080/"
    },
    "executionInfo": {
     "elapsed": 4833,
     "status": "ok",
     "timestamp": 1699740584463,
     "user": {
      "displayName": "Kenji Urazaki Junior",
      "userId": "11704701621463640642"
     },
     "user_tz": -60
    },
    "id": "7urMAwqqcdfp",
    "outputId": "fb623b71-6a5e-48bf-fb1e-211ae9d93aa3"
   },
   "outputs": [
    {
     "name": "stderr",
     "output_type": "stream",
     "text": [
      "\n",
      "0: 640x256 80 gaussians, 1497.2ms\n",
      "Speed: 1.8ms preprocess, 1497.2ms inference, 1.9ms postprocess per image at shape (1, 3, 640, 256)\n"
     ]
    }
   ],
   "source": [
    "# Make the prediction\n",
    "img = cv2.imread(image_path)\n",
    "results = model.predict(img)\n",
    "\n",
    "# class 0 boxes\n",
    "tensor_boxes_new = results[0].boxes.xyxy\n",
    "\n",
    "# Centers\n",
    "means = [\n",
    "    (float(x), float(y))\n",
    "    for x, y in zip(\n",
    "        results[0].boxes.xywhn[:, 0] * NOTEBOOK_CONFIG[\"image_size\"][0],\n",
    "        results[0].boxes.xywhn[:, 1] * NOTEBOOK_CONFIG[\"image_size\"][1],\n",
    "    )\n",
    "]"
   ]
  },
  {
   "cell_type": "code",
   "execution_count": 45,
   "metadata": {
    "colab": {
     "base_uri": "https://localhost:8080/",
     "height": 739
    },
    "executionInfo": {
     "elapsed": 2688,
     "status": "ok",
     "timestamp": 1699740587140,
     "user": {
      "displayName": "Kenji Urazaki Junior",
      "userId": "11704701621463640642"
     },
     "user_tz": -60
    },
    "id": "G7p32k9HfK60",
    "outputId": "727fe3e8-6665-4c11-a44d-196a8610eecb"
   },
   "outputs": [
    {
     "name": "stdout",
     "output_type": "stream",
     "text": [
      "Number of indentifiable Gaussians (center in the image): 80\n"
     ]
    },
    {
     "data": {
      "image/png": "[encoded data removed]",
      "text/plain": [
       "<Figure size 1500x2000 with 4 Axes>"
      ]
     },
     "metadata": {},
     "output_type": "display_data"
    }
   ],
   "source": [
    "# Open the image file\n",
    "im = Image.open(image_path)\n",
    "\n",
    "# Create figure and axes\n",
    "fig, axs = plt.subplots(1, 4, figsize=(15, 20))\n",
    "\n",
    "# Display the image and plot predicted centers GMM\n",
    "axs[2].imshow(im)\n",
    "plot_boxes(tensor_boxes, axs[2], edge_color=\"#0343DF\")\n",
    "axs[2].set_ylim(ax.get_ylim()[::-1])\n",
    "axs[2].scatter(np.array(means_yolo)[:, 0], np.array(means_yolo)[:, 1], s=1)\n",
    "# axs[3].axis('off')\n",
    "axs[2].set_xlim(0, NOTEBOOK_CONFIG[\"IMG_XDIM\"])\n",
    "axs[2].set_ylim(0, NOTEBOOK_CONFIG[\"IMG_YDIM\"])\n",
    "\n",
    "\n",
    "# Display the image and plot predicted centers\n",
    "axs[3].imshow(im)\n",
    "plot_boxes(tensor_boxes_new, axs[3], edge_color=\"g\")\n",
    "axs[3].set_ylim(axs[2].get_ylim()[::-1])\n",
    "axs[3].scatter(np.array(means)[:, 0], np.array(means)[:, 1], s=1)\n",
    "# axs[2].axis('off')\n",
    "axs[3].set_xlim(0, NOTEBOOK_CONFIG[\"IMG_XDIM\"])\n",
    "axs[3].set_ylim(0, NOTEBOOK_CONFIG[\"IMG_YDIM\"])\n",
    "\n",
    "# axs[2].set_title(\"Prediction\")\n",
    "\n",
    "# Labelling\n",
    "x, y, z = gaussians_labelled(\n",
    "    image_path,\n",
    "    label_path,\n",
    "    axs[1],\n",
    "    task=NOTEBOOK_CONFIG[\"task\"],\n",
    "    colorbar=False,\n",
    "    plot_centers=True,\n",
    "    grid_width=NOTEBOOK_CONFIG[\"image_ranges\"][0][-1],\n",
    "    grid_length=NOTEBOOK_CONFIG[\"image_ranges\"][1][-1],\n",
    "    img_width=NOTEBOOK_CONFIG[\"image_size\"][0],\n",
    "    img_length=NOTEBOOK_CONFIG[\"image_size\"][1],\n",
    ")\n",
    "# axs[1].axis('off')\n",
    "axs[1].set_xlim(0, NOTEBOOK_CONFIG[\"IMG_WIDTH\"])\n",
    "axs[1].set_ylim(0, NOTEBOOK_CONFIG[\"IMG_LENGTH\"])\n",
    "# axs[1].set_title(\"Ground Truth\")\n",
    "\n",
    "# Image\n",
    "plot_grayscale(x, y, z, colorbar=False, ax=axs[0])\n",
    "# axs[0].axis('off')\n",
    "axs[0].set_xlim(0, NOTEBOOK_CONFIG[\"IMG_WIDTH\"])\n",
    "axs[0].set_ylim(0, NOTEBOOK_CONFIG[\"IMG_LENGTH\"])\n",
    "\n",
    "\n",
    "for ax in axs:\n",
    "    ax.xaxis.label.set_text(\"\")\n",
    "    ax.yaxis.label.set_text(\"\")\n",
    "\n",
    "    ax.set_xticks([])\n",
    "    ax.set_yticks([])\n",
    "    # Change the color of the axis spines (borders)\n",
    "    for spine in ax.spines.values():\n",
    "        spine.set_edgecolor(\"gray\")\n",
    "        spine.set_linewidth(1)\n",
    "\n",
    "plt.subplots_adjust(wspace=0.08)\n",
    "plt.show()"
   ]
  },
  {
   "cell_type": "markdown",
   "metadata": {
    "id": "ERVIbRBkEsyJ"
   },
   "source": [
    "### Error evaluation"
   ]
  },
  {
   "cell_type": "code",
   "execution_count": null,
   "metadata": {
    "colab": {
     "base_uri": "https://localhost:8080/"
    },
    "executionInfo": {
     "elapsed": 251,
     "status": "ok",
     "timestamp": 1697908826626,
     "user": {
      "displayName": "Kenji Urazaki Junior",
      "userId": "11704701621463640642"
     },
     "user_tz": -120
    },
    "id": "6cuavGVRdw45",
    "outputId": "049e81a1-3f79-4d4f-fb53-d68e5c82470d"
   },
   "outputs": [
    {
     "name": "stdout",
     "output_type": "stream",
     "text": [
      "[208, 304, 262, 288, 77, 230, 45, 115, 172, 188, 93, 323, 371, 8, 285, 200, 383, 365, 297, 31, 28, 193, 322, 144, 286, 191, 155, 291, 109, 194, 97, 209, 310, 301, 70, 324, 4, 357, 57, 242]\n",
      "40\n"
     ]
    }
   ],
   "source": [
    "# Get number of images that need to be evaluated - YOLO test set\n",
    "images_test = os.listdir(\n",
    "    f\"../docs/Models/{NOTEBOOK_CONFIG['model_name']}/datasets/test/images/\"\n",
    ")\n",
    "eval_images = [\n",
    "    int(i.split(\"_\")[1].split(\".\")[0]) for i in images_test\n",
    "]  # Use the same images of the test from YOLO\n",
    "print(eval_images)\n",
    "print(len(eval_images))"
   ]
  },
  {
   "cell_type": "code",
   "execution_count": null,
   "metadata": {
    "colab": {
     "base_uri": "https://localhost:8080/"
    },
    "executionInfo": {
     "elapsed": 14114,
     "status": "ok",
     "timestamp": 1697908843655,
     "user": {
      "displayName": "Kenji Urazaki Junior",
      "userId": "11704701621463640642"
     },
     "user_tz": -120
    },
    "id": "kTKqcp9dJMKj",
    "outputId": "b3ec252a-4b25-4ab4-81ea-362805ffbf76"
   },
   "outputs": [
    {
     "name": "stderr",
     "output_type": "stream",
     "text": [
      "\n",
      "0: 640x256 80 gaussians, 196.0ms\n",
      "Speed: 1.5ms preprocess, 196.0ms inference, 1.0ms postprocess per image at shape (1, 3, 640, 256)\n",
      "\n"
     ]
    },
    {
     "name": "stdout",
     "output_type": "stream",
     "text": [
      "covariances [[[     3.7139           0]\n",
      "  [          0      4.7234]]]\n",
      "covariances true [[[     3.6841           0]\n",
      "  [          0       4.709]]]\n"
     ]
    },
    {
     "name": "stderr",
     "output_type": "stream",
     "text": [
      "0: 640x256 80 gaussians, 179.1ms\n",
      "Speed: 1.4ms preprocess, 179.1ms inference, 1.3ms postprocess per image at shape (1, 3, 640, 256)\n",
      "\n"
     ]
    },
    {
     "name": "stdout",
     "output_type": "stream",
     "text": [
      "covariances [[[     3.8604           0]\n",
      "  [          0      4.4676]]]\n",
      "covariances true [[[     3.8343           0]\n",
      "  [          0      4.5156]]]\n"
     ]
    },
    {
     "name": "stderr",
     "output_type": "stream",
     "text": [
      "0: 640x256 80 gaussians, 181.4ms\n",
      "Speed: 1.6ms preprocess, 181.4ms inference, 0.9ms postprocess per image at shape (1, 3, 640, 256)\n",
      "\n"
     ]
    },
    {
     "name": "stdout",
     "output_type": "stream",
     "text": [
      "covariances [[[     4.0351           0]\n",
      "  [          0      6.2795]]]\n",
      "covariances true [[[     4.0542           0]\n",
      "  [          0      6.0914]]]\n"
     ]
    },
    {
     "name": "stderr",
     "output_type": "stream",
     "text": [
      "0: 640x256 80 gaussians, 182.9ms\n",
      "Speed: 1.5ms preprocess, 182.9ms inference, 0.9ms postprocess per image at shape (1, 3, 640, 256)\n",
      "\n"
     ]
    },
    {
     "name": "stdout",
     "output_type": "stream",
     "text": [
      "covariances [[[     4.7345           0]\n",
      "  [          0      4.7311]]]\n",
      "covariances true [[[     4.6503           0]\n",
      "  [          0       4.771]]]\n"
     ]
    },
    {
     "name": "stderr",
     "output_type": "stream",
     "text": [
      "0: 640x256 80 gaussians, 173.2ms\n",
      "Speed: 3.9ms preprocess, 173.2ms inference, 0.9ms postprocess per image at shape (1, 3, 640, 256)\n",
      "\n"
     ]
    },
    {
     "name": "stdout",
     "output_type": "stream",
     "text": [
      "covariances [[[     3.8546           0]\n",
      "  [          0      5.7056]]]\n",
      "covariances true [[[     3.8296           0]\n",
      "  [          0      5.7002]]]\n"
     ]
    },
    {
     "name": "stderr",
     "output_type": "stream",
     "text": [
      "0: 640x256 80 gaussians, 174.8ms\n",
      "Speed: 1.2ms preprocess, 174.8ms inference, 0.9ms postprocess per image at shape (1, 3, 640, 256)\n",
      "\n"
     ]
    },
    {
     "name": "stdout",
     "output_type": "stream",
     "text": [
      "covariances [[[      4.276           0]\n",
      "  [          0      5.3679]]]\n",
      "covariances true [[[     4.3167           0]\n",
      "  [          0      5.4438]]]\n"
     ]
    },
    {
     "name": "stderr",
     "output_type": "stream",
     "text": [
      "0: 640x256 80 gaussians, 175.8ms\n",
      "Speed: 1.2ms preprocess, 175.8ms inference, 0.9ms postprocess per image at shape (1, 3, 640, 256)\n",
      "\n"
     ]
    },
    {
     "name": "stdout",
     "output_type": "stream",
     "text": [
      "covariances [[[     3.6877           0]\n",
      "  [          0      4.9438]]]\n",
      "covariances true [[[     3.7386           0]\n",
      "  [          0      5.0817]]]\n"
     ]
    },
    {
     "name": "stderr",
     "output_type": "stream",
     "text": [
      "0: 640x256 80 gaussians, 170.9ms\n",
      "Speed: 1.0ms preprocess, 170.9ms inference, 0.9ms postprocess per image at shape (1, 3, 640, 256)\n",
      "\n"
     ]
    },
    {
     "name": "stdout",
     "output_type": "stream",
     "text": [
      "covariances [[[     4.1811           0]\n",
      "  [          0      5.1158]]]\n",
      "covariances true [[[     4.1495           0]\n",
      "  [          0      5.2987]]]\n"
     ]
    },
    {
     "name": "stderr",
     "output_type": "stream",
     "text": [
      "0: 640x256 80 gaussians, 174.0ms\n",
      "Speed: 1.5ms preprocess, 174.0ms inference, 0.9ms postprocess per image at shape (1, 3, 640, 256)\n",
      "\n"
     ]
    },
    {
     "name": "stdout",
     "output_type": "stream",
     "text": [
      "covariances [[[     4.2677           0]\n",
      "  [          0      4.0109]]]\n",
      "covariances true [[[     4.2121           0]\n",
      "  [          0      4.0225]]]\n"
     ]
    },
    {
     "name": "stderr",
     "output_type": "stream",
     "text": [
      "0: 640x256 80 gaussians, 180.0ms\n",
      "Speed: 1.2ms preprocess, 180.0ms inference, 0.9ms postprocess per image at shape (1, 3, 640, 256)\n",
      "\n"
     ]
    },
    {
     "name": "stdout",
     "output_type": "stream",
     "text": [
      "covariances [[[     4.1118           0]\n",
      "  [          0      4.8813]]]\n",
      "covariances true [[[     4.0771           0]\n",
      "  [          0      4.8919]]]\n"
     ]
    },
    {
     "name": "stderr",
     "output_type": "stream",
     "text": [
      "0: 640x256 80 gaussians, 173.6ms\n",
      "Speed: 1.1ms preprocess, 173.6ms inference, 0.9ms postprocess per image at shape (1, 3, 640, 256)\n",
      "\n"
     ]
    },
    {
     "name": "stdout",
     "output_type": "stream",
     "text": [
      "covariances [[[     3.6955           0]\n",
      "  [          0      4.0311]]]\n",
      "covariances true [[[     3.6804           0]\n",
      "  [          0      3.9541]]]\n"
     ]
    },
    {
     "name": "stderr",
     "output_type": "stream",
     "text": [
      "0: 640x256 80 gaussians, 182.9ms\n",
      "Speed: 1.6ms preprocess, 182.9ms inference, 1.2ms postprocess per image at shape (1, 3, 640, 256)\n",
      "\n"
     ]
    },
    {
     "name": "stdout",
     "output_type": "stream",
     "text": [
      "covariances [[[     4.6275           0]\n",
      "  [          0      5.2412]]]\n",
      "covariances true [[[     4.5784           0]\n",
      "  [          0      5.1856]]]\n"
     ]
    },
    {
     "name": "stderr",
     "output_type": "stream",
     "text": [
      "0: 640x256 80 gaussians, 182.9ms\n",
      "Speed: 1.5ms preprocess, 182.9ms inference, 1.0ms postprocess per image at shape (1, 3, 640, 256)\n",
      "\n"
     ]
    },
    {
     "name": "stdout",
     "output_type": "stream",
     "text": [
      "covariances [[[     3.8195           0]\n",
      "  [          0      5.6718]]]\n",
      "covariances true [[[     3.8404           0]\n",
      "  [          0      5.7511]]]\n"
     ]
    },
    {
     "name": "stderr",
     "output_type": "stream",
     "text": [
      "0: 640x256 80 gaussians, 184.1ms\n",
      "Speed: 1.4ms preprocess, 184.1ms inference, 0.9ms postprocess per image at shape (1, 3, 640, 256)\n",
      "\n"
     ]
    },
    {
     "name": "stdout",
     "output_type": "stream",
     "text": [
      "covariances [[[     4.3044           0]\n",
      "  [          0      5.1749]]]\n",
      "covariances true [[[     4.3395           0]\n",
      "  [          0      5.1717]]]\n"
     ]
    },
    {
     "name": "stderr",
     "output_type": "stream",
     "text": [
      "0: 640x256 80 gaussians, 175.3ms\n",
      "Speed: 1.4ms preprocess, 175.3ms inference, 0.9ms postprocess per image at shape (1, 3, 640, 256)\n",
      "\n"
     ]
    },
    {
     "name": "stdout",
     "output_type": "stream",
     "text": [
      "covariances [[[     3.7362           0]\n",
      "  [          0      5.0657]]]\n",
      "covariances true [[[     3.7269           0]\n",
      "  [          0      5.1137]]]\n"
     ]
    },
    {
     "name": "stderr",
     "output_type": "stream",
     "text": [
      "0: 640x256 80 gaussians, 199.1ms\n",
      "Speed: 1.0ms preprocess, 199.1ms inference, 2.1ms postprocess per image at shape (1, 3, 640, 256)\n",
      "\n"
     ]
    },
    {
     "name": "stdout",
     "output_type": "stream",
     "text": [
      "covariances [[[     4.8888           0]\n",
      "  [          0      3.8647]]]\n",
      "covariances true [[[     4.8194           0]\n",
      "  [          0      3.8017]]]\n"
     ]
    },
    {
     "name": "stderr",
     "output_type": "stream",
     "text": [
      "0: 640x256 80 gaussians, 240.6ms\n",
      "Speed: 1.5ms preprocess, 240.6ms inference, 1.1ms postprocess per image at shape (1, 3, 640, 256)\n",
      "\n"
     ]
    },
    {
     "name": "stdout",
     "output_type": "stream",
     "text": [
      "covariances [[[     3.6683           0]\n",
      "  [          0      4.5183]]]\n",
      "covariances true [[[     3.6335           0]\n",
      "  [          0      4.4822]]]\n"
     ]
    },
    {
     "name": "stderr",
     "output_type": "stream",
     "text": [
      "0: 640x256 80 gaussians, 242.1ms\n",
      "Speed: 1.1ms preprocess, 242.1ms inference, 1.1ms postprocess per image at shape (1, 3, 640, 256)\n",
      "\n"
     ]
    },
    {
     "name": "stdout",
     "output_type": "stream",
     "text": [
      "covariances [[[     3.7607           0]\n",
      "  [          0      4.1319]]]\n",
      "covariances true [[[     3.7589           0]\n",
      "  [          0      4.1235]]]\n"
     ]
    },
    {
     "name": "stderr",
     "output_type": "stream",
     "text": [
      "0: 640x256 80 gaussians, 238.5ms\n",
      "Speed: 1.0ms preprocess, 238.5ms inference, 1.1ms postprocess per image at shape (1, 3, 640, 256)\n",
      "\n"
     ]
    },
    {
     "name": "stdout",
     "output_type": "stream",
     "text": [
      "covariances [[[     3.8115           0]\n",
      "  [          0      4.2804]]]\n",
      "covariances true [[[     3.7979           0]\n",
      "  [          0       4.311]]]\n"
     ]
    },
    {
     "name": "stderr",
     "output_type": "stream",
     "text": [
      "0: 640x256 80 gaussians, 246.3ms\n",
      "Speed: 1.1ms preprocess, 246.3ms inference, 1.2ms postprocess per image at shape (1, 3, 640, 256)\n",
      "\n"
     ]
    },
    {
     "name": "stdout",
     "output_type": "stream",
     "text": [
      "covariances [[[     3.6853           0]\n",
      "  [          0      4.8712]]]\n",
      "covariances true [[[     3.6653           0]\n",
      "  [          0      4.9033]]]\n"
     ]
    },
    {
     "name": "stderr",
     "output_type": "stream",
     "text": [
      "0: 640x256 80 gaussians, 242.0ms\n",
      "Speed: 1.1ms preprocess, 242.0ms inference, 1.2ms postprocess per image at shape (1, 3, 640, 256)\n",
      "\n"
     ]
    },
    {
     "name": "stdout",
     "output_type": "stream",
     "text": [
      "covariances [[[     4.7964           0]\n",
      "  [          0      5.9736]]]\n",
      "covariances true [[[     4.8513           0]\n",
      "  [          0      6.0477]]]\n"
     ]
    },
    {
     "name": "stderr",
     "output_type": "stream",
     "text": [
      "0: 640x256 80 gaussians, 242.7ms\n",
      "Speed: 1.6ms preprocess, 242.7ms inference, 1.2ms postprocess per image at shape (1, 3, 640, 256)\n",
      "\n"
     ]
    },
    {
     "name": "stdout",
     "output_type": "stream",
     "text": [
      "covariances [[[     4.3546           0]\n",
      "  [          0      5.1906]]]\n",
      "covariances true [[[     4.3031           0]\n",
      "  [          0      5.1851]]]\n"
     ]
    },
    {
     "name": "stderr",
     "output_type": "stream",
     "text": [
      "0: 640x256 80 gaussians, 255.4ms\n",
      "Speed: 1.1ms preprocess, 255.4ms inference, 1.1ms postprocess per image at shape (1, 3, 640, 256)\n",
      "\n"
     ]
    },
    {
     "name": "stdout",
     "output_type": "stream",
     "text": [
      "covariances [[[     3.9396           0]\n",
      "  [          0      6.6877]]]\n",
      "covariances true [[[     3.8855           0]\n",
      "  [          0      6.6747]]]\n"
     ]
    },
    {
     "name": "stderr",
     "output_type": "stream",
     "text": [
      "0: 640x256 80 gaussians, 203.8ms\n",
      "Speed: 1.2ms preprocess, 203.8ms inference, 1.0ms postprocess per image at shape (1, 3, 640, 256)\n",
      "\n"
     ]
    },
    {
     "name": "stdout",
     "output_type": "stream",
     "text": [
      "covariances [[[     4.7391           0]\n",
      "  [          0      5.5256]]]\n",
      "covariances true [[[     4.7916           0]\n",
      "  [          0      5.5951]]]\n"
     ]
    },
    {
     "name": "stderr",
     "output_type": "stream",
     "text": [
      "0: 640x256 80 gaussians, 177.6ms\n",
      "Speed: 1.1ms preprocess, 177.6ms inference, 0.9ms postprocess per image at shape (1, 3, 640, 256)\n",
      "\n"
     ]
    },
    {
     "name": "stdout",
     "output_type": "stream",
     "text": [
      "covariances [[[     4.0021           0]\n",
      "  [          0      5.3089]]]\n",
      "covariances true [[[     4.0142           0]\n",
      "  [          0      5.3216]]]\n"
     ]
    },
    {
     "name": "stderr",
     "output_type": "stream",
     "text": [
      "0: 640x256 80 gaussians, 176.6ms\n",
      "Speed: 3.7ms preprocess, 176.6ms inference, 1.0ms postprocess per image at shape (1, 3, 640, 256)\n",
      "\n"
     ]
    },
    {
     "name": "stdout",
     "output_type": "stream",
     "text": [
      "covariances [[[     4.2771           0]\n",
      "  [          0      5.5285]]]\n",
      "covariances true [[[      4.208           0]\n",
      "  [          0      5.5603]]]\n"
     ]
    },
    {
     "name": "stderr",
     "output_type": "stream",
     "text": [
      "0: 640x256 80 gaussians, 184.0ms\n",
      "Speed: 1.0ms preprocess, 184.0ms inference, 0.9ms postprocess per image at shape (1, 3, 640, 256)\n",
      "\n"
     ]
    },
    {
     "name": "stdout",
     "output_type": "stream",
     "text": [
      "covariances [[[     3.9594           0]\n",
      "  [          0      4.4052]]]\n",
      "covariances true [[[     3.9148           0]\n",
      "  [          0      4.3894]]]\n"
     ]
    },
    {
     "name": "stderr",
     "output_type": "stream",
     "text": [
      "0: 640x256 80 gaussians, 189.5ms\n",
      "Speed: 1.6ms preprocess, 189.5ms inference, 1.0ms postprocess per image at shape (1, 3, 640, 256)\n",
      "\n"
     ]
    },
    {
     "name": "stdout",
     "output_type": "stream",
     "text": [
      "covariances [[[     4.4467           0]\n",
      "  [          0       4.935]]]\n",
      "covariances true [[[     4.3988           0]\n",
      "  [          0      4.9509]]]\n"
     ]
    },
    {
     "name": "stderr",
     "output_type": "stream",
     "text": [
      "0: 640x256 80 gaussians, 183.4ms\n",
      "Speed: 1.5ms preprocess, 183.4ms inference, 0.9ms postprocess per image at shape (1, 3, 640, 256)\n",
      "\n"
     ]
    },
    {
     "name": "stdout",
     "output_type": "stream",
     "text": [
      "covariances [[[     3.9319           0]\n",
      "  [          0      3.8643]]]\n",
      "covariances true [[[     3.8382           0]\n",
      "  [          0      3.8348]]]\n"
     ]
    },
    {
     "name": "stderr",
     "output_type": "stream",
     "text": [
      "0: 640x256 80 gaussians, 183.4ms\n",
      "Speed: 1.1ms preprocess, 183.4ms inference, 0.9ms postprocess per image at shape (1, 3, 640, 256)\n",
      "\n"
     ]
    },
    {
     "name": "stdout",
     "output_type": "stream",
     "text": [
      "covariances [[[     3.9747           0]\n",
      "  [          0      4.0307]]]\n",
      "covariances true [[[     3.9764           0]\n",
      "  [          0      4.1154]]]\n"
     ]
    },
    {
     "name": "stderr",
     "output_type": "stream",
     "text": [
      "0: 640x256 80 gaussians, 179.8ms\n",
      "Speed: 1.4ms preprocess, 179.8ms inference, 1.0ms postprocess per image at shape (1, 3, 640, 256)\n",
      "\n"
     ]
    },
    {
     "name": "stdout",
     "output_type": "stream",
     "text": [
      "covariances [[[     3.6865           0]\n",
      "  [          0      4.6988]]]\n",
      "covariances true [[[     3.7565           0]\n",
      "  [          0      4.7438]]]\n"
     ]
    },
    {
     "name": "stderr",
     "output_type": "stream",
     "text": [
      "0: 640x256 80 gaussians, 187.1ms\n",
      "Speed: 1.3ms preprocess, 187.1ms inference, 0.9ms postprocess per image at shape (1, 3, 640, 256)\n",
      "\n"
     ]
    },
    {
     "name": "stdout",
     "output_type": "stream",
     "text": [
      "covariances [[[     3.8359           0]\n",
      "  [          0      5.1353]]]\n",
      "covariances true [[[     3.8355           0]\n",
      "  [          0      5.0907]]]\n"
     ]
    },
    {
     "name": "stderr",
     "output_type": "stream",
     "text": [
      "0: 640x256 80 gaussians, 173.5ms\n",
      "Speed: 1.0ms preprocess, 173.5ms inference, 0.9ms postprocess per image at shape (1, 3, 640, 256)\n",
      "\n"
     ]
    },
    {
     "name": "stdout",
     "output_type": "stream",
     "text": [
      "covariances [[[     3.6872           0]\n",
      "  [          0      4.5969]]]\n",
      "covariances true [[[     3.6544           0]\n",
      "  [          0      4.5779]]]\n"
     ]
    },
    {
     "name": "stderr",
     "output_type": "stream",
     "text": [
      "0: 640x256 80 gaussians, 181.3ms\n",
      "Speed: 4.6ms preprocess, 181.3ms inference, 0.9ms postprocess per image at shape (1, 3, 640, 256)\n",
      "\n"
     ]
    },
    {
     "name": "stdout",
     "output_type": "stream",
     "text": [
      "covariances [[[     4.5153           0]\n",
      "  [          0      5.6337]]]\n",
      "covariances true [[[     4.4748           0]\n",
      "  [          0      5.5943]]]\n"
     ]
    },
    {
     "name": "stderr",
     "output_type": "stream",
     "text": [
      "0: 640x256 80 gaussians, 183.8ms\n",
      "Speed: 1.0ms preprocess, 183.8ms inference, 1.0ms postprocess per image at shape (1, 3, 640, 256)\n",
      "\n"
     ]
    },
    {
     "name": "stdout",
     "output_type": "stream",
     "text": [
      "covariances [[[     5.0796           0]\n",
      "  [          0      3.8699]]]\n",
      "covariances true [[[     5.1142           0]\n",
      "  [          0      3.9174]]]\n"
     ]
    },
    {
     "name": "stderr",
     "output_type": "stream",
     "text": [
      "0: 640x256 80 gaussians, 176.6ms\n",
      "Speed: 3.2ms preprocess, 176.6ms inference, 1.0ms postprocess per image at shape (1, 3, 640, 256)\n",
      "\n"
     ]
    },
    {
     "name": "stdout",
     "output_type": "stream",
     "text": [
      "covariances [[[     3.9358           0]\n",
      "  [          0      5.8752]]]\n",
      "covariances true [[[     3.9395           0]\n",
      "  [          0      6.0127]]]\n"
     ]
    },
    {
     "name": "stderr",
     "output_type": "stream",
     "text": [
      "0: 640x256 80 gaussians, 178.5ms\n",
      "Speed: 1.5ms preprocess, 178.5ms inference, 0.8ms postprocess per image at shape (1, 3, 640, 256)\n",
      "\n"
     ]
    },
    {
     "name": "stdout",
     "output_type": "stream",
     "text": [
      "covariances [[[     3.7439           0]\n",
      "  [          0      4.9235]]]\n",
      "covariances true [[[     3.7062           0]\n",
      "  [          0      4.9921]]]\n"
     ]
    },
    {
     "name": "stderr",
     "output_type": "stream",
     "text": [
      "0: 640x256 80 gaussians, 176.1ms\n",
      "Speed: 1.3ms preprocess, 176.1ms inference, 0.9ms postprocess per image at shape (1, 3, 640, 256)\n",
      "\n"
     ]
    },
    {
     "name": "stdout",
     "output_type": "stream",
     "text": [
      "covariances [[[     4.4925           0]\n",
      "  [          0      5.5928]]]\n",
      "covariances true [[[     4.5051           0]\n",
      "  [          0      5.6444]]]\n"
     ]
    },
    {
     "name": "stderr",
     "output_type": "stream",
     "text": [
      "0: 640x256 80 gaussians, 181.7ms\n",
      "Speed: 1.3ms preprocess, 181.7ms inference, 0.9ms postprocess per image at shape (1, 3, 640, 256)\n",
      "\n"
     ]
    },
    {
     "name": "stdout",
     "output_type": "stream",
     "text": [
      "covariances [[[     4.0577           0]\n",
      "  [          0      6.1018]]]\n",
      "covariances true [[[          4           0]\n",
      "  [          0      6.2132]]]\n"
     ]
    },
    {
     "name": "stderr",
     "output_type": "stream",
     "text": [
      "0: 640x256 80 gaussians, 176.5ms\n",
      "Speed: 1.2ms preprocess, 176.5ms inference, 0.9ms postprocess per image at shape (1, 3, 640, 256)\n"
     ]
    },
    {
     "name": "stdout",
     "output_type": "stream",
     "text": [
      "covariances [[[     4.3198           0]\n",
      "  [          0      4.8167]]]\n",
      "covariances true [[[     4.3199           0]\n",
      "  [          0      4.8484]]]\n"
     ]
    }
   ],
   "source": [
    "# Iterate all images - GMM method\n",
    "results = {\n",
    "    \"Image\": [],\n",
    "    \"Number identified - YOLO\": [],\n",
    "    \"Number identifiable - YOLO\": [],\n",
    "    \"Percentage - YOLO\": [],\n",
    "    \"RMSE_cx - YOLO\": [],\n",
    "    \"RMSE_cy - YOLO\": [],\n",
    "    \"RMSE_c - YOLO\": [],\n",
    "    \"RMSE_sigmax - YOLO\": [],\n",
    "    \"RMSE_sigmay - YOLO\": [],\n",
    "    \"RMSE_sigma - YOLO\": [],\n",
    "    \"MaxE_sigmax - YOLO\": [],\n",
    "    \"MaxE_sigmay - YOLO\": [],\n",
    "    \"MaxE_sigma - YOLO\": [],\n",
    "    \"RMSE_amplitude - YOLO\": [],\n",
    "    \"RMSEPixel - YOLO\": [],\n",
    "}\n",
    "\n",
    "for n_image in eval_images:\n",
    "    eval_gaussian = ppl_error_estimation(\n",
    "        n_image,\n",
    "        mat,\n",
    "        estimation_method=\"YOLO\",\n",
    "        image_path=\"../docs/Data/Images_T80kenji/\",\n",
    "        yolo_model=model,\n",
    "        covariance_gaussians_types=\"diag\",\n",
    "        return_percentage=True,\n",
    "        image_ranges=NOTEBOOK_CONFIG[\"image_ranges\"],\n",
    "        image_size=NOTEBOOK_CONFIG[\"image_size\"],\n",
    "    )\n",
    "    # Append values in the dictionary\n",
    "    for key in results.keys():\n",
    "        if key in eval_gaussian:\n",
    "            results[key] += eval_gaussian[key]"
   ]
  },
  {
   "cell_type": "code",
   "execution_count": null,
   "metadata": {
    "colab": {
     "base_uri": "https://localhost:8080/",
     "height": 520
    },
    "executionInfo": {
     "elapsed": 19,
     "status": "ok",
     "timestamp": 1697908843656,
     "user": {
      "displayName": "Kenji Urazaki Junior",
      "userId": "11704701621463640642"
     },
     "user_tz": -120
    },
    "id": "Z0btcEeYfHit",
    "outputId": "53e0e11c-9fff-4641-947c-efbaf9cafe70"
   },
   "outputs": [
    {
     "data": {
      "text/html": [
       "\n",
       "  <div id=\"df-9b3244be-9da0-4f06-b809-3b415c7c4f66\" class=\"colab-df-container\">\n",
       "    <div>\n",
       "<style scoped>\n",
       "    .dataframe tbody tr th:only-of-type {\n",
       "        vertical-align: middle;\n",
       "    }\n",
       "\n",
       "    .dataframe tbody tr th {\n",
       "        vertical-align: top;\n",
       "    }\n",
       "\n",
       "    .dataframe thead th {\n",
       "        text-align: right;\n",
       "    }\n",
       "</style>\n",
       "<table border=\"1\" class=\"dataframe\">\n",
       "  <thead>\n",
       "    <tr style=\"text-align: right;\">\n",
       "      <th></th>\n",
       "      <th>mean</th>\n",
       "      <th>std</th>\n",
       "      <th>max</th>\n",
       "    </tr>\n",
       "  </thead>\n",
       "  <tbody>\n",
       "    <tr>\n",
       "      <th>Image</th>\n",
       "      <td>203.22</td>\n",
       "      <td>112.45</td>\n",
       "      <td>383.00</td>\n",
       "    </tr>\n",
       "    <tr>\n",
       "      <th>Number identified - YOLO</th>\n",
       "      <td>80.00</td>\n",
       "      <td>0.00</td>\n",
       "      <td>80.00</td>\n",
       "    </tr>\n",
       "    <tr>\n",
       "      <th>Number identifiable - YOLO</th>\n",
       "      <td>80.00</td>\n",
       "      <td>0.00</td>\n",
       "      <td>80.00</td>\n",
       "    </tr>\n",
       "    <tr>\n",
       "      <th>Percentage - YOLO</th>\n",
       "      <td>100.00</td>\n",
       "      <td>0.00</td>\n",
       "      <td>100.00</td>\n",
       "    </tr>\n",
       "    <tr>\n",
       "      <th>RMSE_cx - YOLO</th>\n",
       "      <td>0.42</td>\n",
       "      <td>0.06</td>\n",
       "      <td>0.57</td>\n",
       "    </tr>\n",
       "    <tr>\n",
       "      <th>RMSE_cy - YOLO</th>\n",
       "      <td>0.11</td>\n",
       "      <td>0.03</td>\n",
       "      <td>0.19</td>\n",
       "    </tr>\n",
       "    <tr>\n",
       "      <th>RMSE_c - YOLO</th>\n",
       "      <td>0.44</td>\n",
       "      <td>0.06</td>\n",
       "      <td>0.58</td>\n",
       "    </tr>\n",
       "    <tr>\n",
       "      <th>RMSE_sigmax - YOLO</th>\n",
       "      <td>1.66</td>\n",
       "      <td>0.17</td>\n",
       "      <td>1.96</td>\n",
       "    </tr>\n",
       "    <tr>\n",
       "      <th>RMSE_sigmay - YOLO</th>\n",
       "      <td>1.74</td>\n",
       "      <td>0.24</td>\n",
       "      <td>2.44</td>\n",
       "    </tr>\n",
       "    <tr>\n",
       "      <th>RMSE_sigma - YOLO</th>\n",
       "      <td>2.41</td>\n",
       "      <td>0.23</td>\n",
       "      <td>2.99</td>\n",
       "    </tr>\n",
       "    <tr>\n",
       "      <th>MaxE_sigmax - YOLO</th>\n",
       "      <td>8.55</td>\n",
       "      <td>1.99</td>\n",
       "      <td>13.92</td>\n",
       "    </tr>\n",
       "    <tr>\n",
       "      <th>MaxE_sigmay - YOLO</th>\n",
       "      <td>7.90</td>\n",
       "      <td>2.61</td>\n",
       "      <td>20.63</td>\n",
       "    </tr>\n",
       "    <tr>\n",
       "      <th>MaxE_sigma - YOLO</th>\n",
       "      <td>11.80</td>\n",
       "      <td>2.66</td>\n",
       "      <td>22.21</td>\n",
       "    </tr>\n",
       "    <tr>\n",
       "      <th>RMSE_amplitude - YOLO</th>\n",
       "      <td>52.21</td>\n",
       "      <td>2.81</td>\n",
       "      <td>59.61</td>\n",
       "    </tr>\n",
       "    <tr>\n",
       "      <th>RMSEPixel - YOLO</th>\n",
       "      <td>3.10</td>\n",
       "      <td>0.20</td>\n",
       "      <td>3.81</td>\n",
       "    </tr>\n",
       "  </tbody>\n",
       "</table>\n",
       "</div>\n",
       "    <div class=\"colab-df-buttons\">\n",
       "\n",
       "  <div class=\"colab-df-container\">\n",
       "    <button class=\"colab-df-convert\" onclick=\"convertToInteractive('df-9b3244be-9da0-4f06-b809-3b415c7c4f66')\"\n",
       "            title=\"Convert this dataframe to an interactive table.\"\n",
       "            style=\"display:none;\">\n",
       "\n",
       "  <svg xmlns=\"http://www.w3.org/2000/svg\" height=\"24px\" viewBox=\"0 -960 960 960\">\n",
       "    <path d=\"M120-120v-720h720v720H120Zm60-500h600v-160H180v160Zm220 220h160v-160H400v160Zm0 220h160v-160H400v160ZM180-400h160v-160H180v160Zm440 0h160v-160H620v160ZM180-180h160v-160H180v160Zm440 0h160v-160H620v160Z\"/>\n",
       "  </svg>\n",
       "    </button>\n",
       "\n",
       "  <style>\n",
       "    .colab-df-container {\n",
       "      display:flex;\n",
       "      gap: 12px;\n",
       "    }\n",
       "\n",
       "    .colab-df-convert {\n",
       "      background-color: #E8F0FE;\n",
       "      border: none;\n",
       "      border-radius: 50%;\n",
       "      cursor: pointer;\n",
       "      display: none;\n",
       "      fill: #1967D2;\n",
       "      height: 32px;\n",
       "      padding: 0 0 0 0;\n",
       "      width: 32px;\n",
       "    }\n",
       "\n",
       "    .colab-df-convert:hover {\n",
       "      background-color: #E2EBFA;\n",
       "      box-shadow: 0px 1px 2px rgba(60, 64, 67, 0.3), 0px 1px 3px 1px rgba(60, 64, 67, 0.15);\n",
       "      fill: #174EA6;\n",
       "    }\n",
       "\n",
       "    .colab-df-buttons div {\n",
       "      margin-bottom: 4px;\n",
       "    }\n",
       "\n",
       "    [theme=dark] .colab-df-convert {\n",
       "      background-color: #3B4455;\n",
       "      fill: #D2E3FC;\n",
       "    }\n",
       "\n",
       "    [theme=dark] .colab-df-convert:hover {\n",
       "      background-color: #434B5C;\n",
       "      box-shadow: 0px 1px 3px 1px rgba(0, 0, 0, 0.15);\n",
       "      filter: drop-shadow(0px 1px 2px rgba(0, 0, 0, 0.3));\n",
       "      fill: #FFFFFF;\n",
       "    }\n",
       "  </style>\n",
       "\n",
       "    <script>\n",
       "      const buttonEl =\n",
       "        document.querySelector('#df-9b3244be-9da0-4f06-b809-3b415c7c4f66 button.colab-df-convert');\n",
       "      buttonEl.style.display =\n",
       "        google.colab.kernel.accessAllowed ? 'block' : 'none';\n",
       "\n",
       "      async function convertToInteractive(key) {\n",
       "        const element = document.querySelector('#df-9b3244be-9da0-4f06-b809-3b415c7c4f66');\n",
       "        const dataTable =\n",
       "          await google.colab.kernel.invokeFunction('convertToInteractive',\n",
       "                                                    [key], {});\n",
       "        if (!dataTable) return;\n",
       "\n",
       "        const docLinkHtml = 'Like what you see? Visit the ' +\n",
       "          '<a target=\"_blank\" href=https://colab.research.google.com/notebooks/data_table.ipynb>data table notebook</a>'\n",
       "          + ' to learn more about interactive tables.';\n",
       "        element.innerHTML = '';\n",
       "        dataTable['output_type'] = 'display_data';\n",
       "        await google.colab.output.renderOutput(dataTable, element);\n",
       "        const docLink = document.createElement('div');\n",
       "        docLink.innerHTML = docLinkHtml;\n",
       "        element.appendChild(docLink);\n",
       "      }\n",
       "    </script>\n",
       "  </div>\n",
       "\n",
       "\n",
       "<div id=\"df-1e07a8f2-a5ec-4d7b-a521-4be18d306095\">\n",
       "  <button class=\"colab-df-quickchart\" onclick=\"quickchart('df-1e07a8f2-a5ec-4d7b-a521-4be18d306095')\"\n",
       "            title=\"Suggest charts.\"\n",
       "            style=\"display:none;\">\n",
       "\n",
       "<svg xmlns=\"http://www.w3.org/2000/svg\" height=\"24px\"viewBox=\"0 0 24 24\"\n",
       "     width=\"24px\">\n",
       "    <g>\n",
       "        <path d=\"M19 3H5c-1.1 0-2 .9-2 2v14c0 1.1.9 2 2 2h14c1.1 0 2-.9 2-2V5c0-1.1-.9-2-2-2zM9 17H7v-7h2v7zm4 0h-2V7h2v10zm4 0h-2v-4h2v4z\"/>\n",
       "    </g>\n",
       "</svg>\n",
       "  </button>\n",
       "\n",
       "<style>\n",
       "  .colab-df-quickchart {\n",
       "      --bg-color: #E8F0FE;\n",
       "      --fill-color: #1967D2;\n",
       "      --hover-bg-color: #E2EBFA;\n",
       "      --hover-fill-color: #174EA6;\n",
       "      --disabled-fill-color: #AAA;\n",
       "      --disabled-bg-color: #DDD;\n",
       "  }\n",
       "\n",
       "  [theme=dark] .colab-df-quickchart {\n",
       "      --bg-color: #3B4455;\n",
       "      --fill-color: #D2E3FC;\n",
       "      --hover-bg-color: #434B5C;\n",
       "      --hover-fill-color: #FFFFFF;\n",
       "      --disabled-bg-color: #3B4455;\n",
       "      --disabled-fill-color: #666;\n",
       "  }\n",
       "\n",
       "  .colab-df-quickchart {\n",
       "    background-color: var(--bg-color);\n",
       "    border: none;\n",
       "    border-radius: 50%;\n",
       "    cursor: pointer;\n",
       "    display: none;\n",
       "    fill: var(--fill-color);\n",
       "    height: 32px;\n",
       "    padding: 0;\n",
       "    width: 32px;\n",
       "  }\n",
       "\n",
       "  .colab-df-quickchart:hover {\n",
       "    background-color: var(--hover-bg-color);\n",
       "    box-shadow: 0 1px 2px rgba(60, 64, 67, 0.3), 0 1px 3px 1px rgba(60, 64, 67, 0.15);\n",
       "    fill: var(--button-hover-fill-color);\n",
       "  }\n",
       "\n",
       "  .colab-df-quickchart-complete:disabled,\n",
       "  .colab-df-quickchart-complete:disabled:hover {\n",
       "    background-color: var(--disabled-bg-color);\n",
       "    fill: var(--disabled-fill-color);\n",
       "    box-shadow: none;\n",
       "  }\n",
       "\n",
       "  .colab-df-spinner {\n",
       "    border: 2px solid var(--fill-color);\n",
       "    border-color: transparent;\n",
       "    border-bottom-color: var(--fill-color);\n",
       "    animation:\n",
       "      spin 1s steps(1) infinite;\n",
       "  }\n",
       "\n",
       "  @keyframes spin {\n",
       "    0% {\n",
       "      border-color: transparent;\n",
       "      border-bottom-color: var(--fill-color);\n",
       "      border-left-color: var(--fill-color);\n",
       "    }\n",
       "    20% {\n",
       "      border-color: transparent;\n",
       "      border-left-color: var(--fill-color);\n",
       "      border-top-color: var(--fill-color);\n",
       "    }\n",
       "    30% {\n",
       "      border-color: transparent;\n",
       "      border-left-color: var(--fill-color);\n",
       "      border-top-color: var(--fill-color);\n",
       "      border-right-color: var(--fill-color);\n",
       "    }\n",
       "    40% {\n",
       "      border-color: transparent;\n",
       "      border-right-color: var(--fill-color);\n",
       "      border-top-color: var(--fill-color);\n",
       "    }\n",
       "    60% {\n",
       "      border-color: transparent;\n",
       "      border-right-color: var(--fill-color);\n",
       "    }\n",
       "    80% {\n",
       "      border-color: transparent;\n",
       "      border-right-color: var(--fill-color);\n",
       "      border-bottom-color: var(--fill-color);\n",
       "    }\n",
       "    90% {\n",
       "      border-color: transparent;\n",
       "      border-bottom-color: var(--fill-color);\n",
       "    }\n",
       "  }\n",
       "</style>\n",
       "\n",
       "  <script>\n",
       "    async function quickchart(key) {\n",
       "      const quickchartButtonEl =\n",
       "        document.querySelector('#' + key + ' button');\n",
       "      quickchartButtonEl.disabled = true;  // To prevent multiple clicks.\n",
       "      quickchartButtonEl.classList.add('colab-df-spinner');\n",
       "      try {\n",
       "        const charts = await google.colab.kernel.invokeFunction(\n",
       "            'suggestCharts', [key], {});\n",
       "      } catch (error) {\n",
       "        console.error('Error during call to suggestCharts:', error);\n",
       "      }\n",
       "      quickchartButtonEl.classList.remove('colab-df-spinner');\n",
       "      quickchartButtonEl.classList.add('colab-df-quickchart-complete');\n",
       "    }\n",
       "    (() => {\n",
       "      let quickchartButtonEl =\n",
       "        document.querySelector('#df-1e07a8f2-a5ec-4d7b-a521-4be18d306095 button');\n",
       "      quickchartButtonEl.style.display =\n",
       "        google.colab.kernel.accessAllowed ? 'block' : 'none';\n",
       "    })();\n",
       "  </script>\n",
       "</div>\n",
       "    </div>\n",
       "  </div>\n"
      ],
      "text/plain": [
       "                              mean     std     max\n",
       "Image                       203.22  112.45  383.00\n",
       "Number identified - YOLO     80.00    0.00   80.00\n",
       "Number identifiable - YOLO   80.00    0.00   80.00\n",
       "Percentage - YOLO           100.00    0.00  100.00\n",
       "RMSE_cx - YOLO                0.42    0.06    0.57\n",
       "RMSE_cy - YOLO                0.11    0.03    0.19\n",
       "RMSE_c - YOLO                 0.44    0.06    0.58\n",
       "RMSE_sigmax - YOLO            1.66    0.17    1.96\n",
       "RMSE_sigmay - YOLO            1.74    0.24    2.44\n",
       "RMSE_sigma - YOLO             2.41    0.23    2.99\n",
       "MaxE_sigmax - YOLO            8.55    1.99   13.92\n",
       "MaxE_sigmay - YOLO            7.90    2.61   20.63\n",
       "MaxE_sigma - YOLO            11.80    2.66   22.21\n",
       "RMSE_amplitude - YOLO        52.21    2.81   59.61\n",
       "RMSEPixel - YOLO              3.10    0.20    3.81"
      ]
     },
     "execution_count": 109,
     "metadata": {},
     "output_type": "execute_result"
    }
   ],
   "source": [
    "pd.DataFrame.from_dict(results).describe().round(2).loc[[\"mean\", \"std\", \"max\"]].T"
   ]
  },
  {
   "cell_type": "code",
   "execution_count": null,
   "metadata": {
    "colab": {
     "base_uri": "https://localhost:8080/",
     "height": 1000
    },
    "executionInfo": {
     "elapsed": 8,
     "status": "ok",
     "timestamp": 1697908843656,
     "user": {
      "displayName": "Kenji Urazaki Junior",
      "userId": "11704701621463640642"
     },
     "user_tz": -120
    },
    "id": "MLPjMg9kKkRB",
    "outputId": "9cc64c9c-85a9-40c5-dabf-32090d0f9b53"
   },
   "outputs": [
    {
     "data": {
      "text/html": [
       "\n",
       "  <div id=\"df-abc59d45-606c-4e64-a262-2fe9bd0fa73a\" class=\"colab-df-container\">\n",
       "    <div>\n",
       "<style scoped>\n",
       "    .dataframe tbody tr th:only-of-type {\n",
       "        vertical-align: middle;\n",
       "    }\n",
       "\n",
       "    .dataframe tbody tr th {\n",
       "        vertical-align: top;\n",
       "    }\n",
       "\n",
       "    .dataframe thead th {\n",
       "        text-align: right;\n",
       "    }\n",
       "</style>\n",
       "<table border=\"1\" class=\"dataframe\">\n",
       "  <thead>\n",
       "    <tr style=\"text-align: right;\">\n",
       "      <th></th>\n",
       "      <th>Image</th>\n",
       "      <th>Number identified - YOLO</th>\n",
       "      <th>Number identifiable - YOLO</th>\n",
       "      <th>Percentage - YOLO</th>\n",
       "      <th>RMSE_cx - YOLO</th>\n",
       "      <th>RMSE_cy - YOLO</th>\n",
       "      <th>RMSE_c - YOLO</th>\n",
       "      <th>RMSE_sigmax - YOLO</th>\n",
       "      <th>RMSE_sigmay - YOLO</th>\n",
       "      <th>RMSE_sigma - YOLO</th>\n",
       "      <th>MaxE_sigmax - YOLO</th>\n",
       "      <th>MaxE_sigmay - YOLO</th>\n",
       "      <th>MaxE_sigma - YOLO</th>\n",
       "      <th>RMSE_amplitude - YOLO</th>\n",
       "      <th>RMSEPixel - YOLO</th>\n",
       "    </tr>\n",
       "  </thead>\n",
       "  <tbody>\n",
       "    <tr>\n",
       "      <th>36</th>\n",
       "      <td>4</td>\n",
       "      <td>80</td>\n",
       "      <td>80</td>\n",
       "      <td>100.0</td>\n",
       "      <td>0.37</td>\n",
       "      <td>0.10</td>\n",
       "      <td>0.38</td>\n",
       "      <td>1.62</td>\n",
       "      <td>1.90</td>\n",
       "      <td>2.50</td>\n",
       "      <td>9.99</td>\n",
       "      <td>6.61</td>\n",
       "      <td>11.98</td>\n",
       "      <td>50.19</td>\n",
       "      <td>3.10</td>\n",
       "    </tr>\n",
       "    <tr>\n",
       "      <th>13</th>\n",
       "      <td>8</td>\n",
       "      <td>80</td>\n",
       "      <td>80</td>\n",
       "      <td>100.0</td>\n",
       "      <td>0.44</td>\n",
       "      <td>0.12</td>\n",
       "      <td>0.45</td>\n",
       "      <td>1.95</td>\n",
       "      <td>1.73</td>\n",
       "      <td>2.61</td>\n",
       "      <td>10.63</td>\n",
       "      <td>7.95</td>\n",
       "      <td>13.28</td>\n",
       "      <td>50.70</td>\n",
       "      <td>2.91</td>\n",
       "    </tr>\n",
       "    <tr>\n",
       "      <th>20</th>\n",
       "      <td>28</td>\n",
       "      <td>80</td>\n",
       "      <td>80</td>\n",
       "      <td>100.0</td>\n",
       "      <td>0.49</td>\n",
       "      <td>0.07</td>\n",
       "      <td>0.50</td>\n",
       "      <td>1.55</td>\n",
       "      <td>1.94</td>\n",
       "      <td>2.48</td>\n",
       "      <td>11.94</td>\n",
       "      <td>10.19</td>\n",
       "      <td>15.70</td>\n",
       "      <td>49.55</td>\n",
       "      <td>2.98</td>\n",
       "    </tr>\n",
       "    <tr>\n",
       "      <th>19</th>\n",
       "      <td>31</td>\n",
       "      <td>80</td>\n",
       "      <td>80</td>\n",
       "      <td>100.0</td>\n",
       "      <td>0.43</td>\n",
       "      <td>0.12</td>\n",
       "      <td>0.44</td>\n",
       "      <td>1.52</td>\n",
       "      <td>1.69</td>\n",
       "      <td>2.27</td>\n",
       "      <td>8.14</td>\n",
       "      <td>8.93</td>\n",
       "      <td>12.08</td>\n",
       "      <td>51.23</td>\n",
       "      <td>3.15</td>\n",
       "    </tr>\n",
       "    <tr>\n",
       "      <th>6</th>\n",
       "      <td>45</td>\n",
       "      <td>80</td>\n",
       "      <td>80</td>\n",
       "      <td>100.0</td>\n",
       "      <td>0.33</td>\n",
       "      <td>0.13</td>\n",
       "      <td>0.36</td>\n",
       "      <td>1.45</td>\n",
       "      <td>1.47</td>\n",
       "      <td>2.07</td>\n",
       "      <td>6.01</td>\n",
       "      <td>6.37</td>\n",
       "      <td>8.76</td>\n",
       "      <td>54.08</td>\n",
       "      <td>3.14</td>\n",
       "    </tr>\n",
       "    <tr>\n",
       "      <th>38</th>\n",
       "      <td>57</td>\n",
       "      <td>80</td>\n",
       "      <td>80</td>\n",
       "      <td>100.0</td>\n",
       "      <td>0.57</td>\n",
       "      <td>0.11</td>\n",
       "      <td>0.58</td>\n",
       "      <td>1.75</td>\n",
       "      <td>1.64</td>\n",
       "      <td>2.40</td>\n",
       "      <td>10.02</td>\n",
       "      <td>5.96</td>\n",
       "      <td>11.66</td>\n",
       "      <td>52.08</td>\n",
       "      <td>3.03</td>\n",
       "    </tr>\n",
       "    <tr>\n",
       "      <th>34</th>\n",
       "      <td>70</td>\n",
       "      <td>80</td>\n",
       "      <td>80</td>\n",
       "      <td>100.0</td>\n",
       "      <td>0.39</td>\n",
       "      <td>0.10</td>\n",
       "      <td>0.40</td>\n",
       "      <td>1.96</td>\n",
       "      <td>1.92</td>\n",
       "      <td>2.74</td>\n",
       "      <td>9.91</td>\n",
       "      <td>8.27</td>\n",
       "      <td>12.91</td>\n",
       "      <td>54.93</td>\n",
       "      <td>3.17</td>\n",
       "    </tr>\n",
       "    <tr>\n",
       "      <th>4</th>\n",
       "      <td>77</td>\n",
       "      <td>80</td>\n",
       "      <td>80</td>\n",
       "      <td>100.0</td>\n",
       "      <td>0.35</td>\n",
       "      <td>0.10</td>\n",
       "      <td>0.36</td>\n",
       "      <td>1.55</td>\n",
       "      <td>1.55</td>\n",
       "      <td>2.19</td>\n",
       "      <td>5.48</td>\n",
       "      <td>7.80</td>\n",
       "      <td>9.54</td>\n",
       "      <td>47.69</td>\n",
       "      <td>2.96</td>\n",
       "    </tr>\n",
       "    <tr>\n",
       "      <th>10</th>\n",
       "      <td>93</td>\n",
       "      <td>80</td>\n",
       "      <td>80</td>\n",
       "      <td>100.0</td>\n",
       "      <td>0.42</td>\n",
       "      <td>0.09</td>\n",
       "      <td>0.43</td>\n",
       "      <td>1.43</td>\n",
       "      <td>1.50</td>\n",
       "      <td>2.07</td>\n",
       "      <td>7.33</td>\n",
       "      <td>5.59</td>\n",
       "      <td>9.22</td>\n",
       "      <td>52.88</td>\n",
       "      <td>2.96</td>\n",
       "    </tr>\n",
       "    <tr>\n",
       "      <th>30</th>\n",
       "      <td>97</td>\n",
       "      <td>80</td>\n",
       "      <td>80</td>\n",
       "      <td>100.0</td>\n",
       "      <td>0.51</td>\n",
       "      <td>0.09</td>\n",
       "      <td>0.52</td>\n",
       "      <td>1.68</td>\n",
       "      <td>1.64</td>\n",
       "      <td>2.34</td>\n",
       "      <td>8.25</td>\n",
       "      <td>10.00</td>\n",
       "      <td>12.97</td>\n",
       "      <td>52.53</td>\n",
       "      <td>3.14</td>\n",
       "    </tr>\n",
       "    <tr>\n",
       "      <th>28</th>\n",
       "      <td>109</td>\n",
       "      <td>80</td>\n",
       "      <td>80</td>\n",
       "      <td>100.0</td>\n",
       "      <td>0.31</td>\n",
       "      <td>0.07</td>\n",
       "      <td>0.32</td>\n",
       "      <td>1.46</td>\n",
       "      <td>1.30</td>\n",
       "      <td>1.96</td>\n",
       "      <td>6.89</td>\n",
       "      <td>4.79</td>\n",
       "      <td>8.39</td>\n",
       "      <td>45.56</td>\n",
       "      <td>2.80</td>\n",
       "    </tr>\n",
       "    <tr>\n",
       "      <th>7</th>\n",
       "      <td>115</td>\n",
       "      <td>80</td>\n",
       "      <td>80</td>\n",
       "      <td>100.0</td>\n",
       "      <td>0.42</td>\n",
       "      <td>0.13</td>\n",
       "      <td>0.44</td>\n",
       "      <td>1.93</td>\n",
       "      <td>1.79</td>\n",
       "      <td>2.63</td>\n",
       "      <td>6.94</td>\n",
       "      <td>6.70</td>\n",
       "      <td>9.65</td>\n",
       "      <td>53.60</td>\n",
       "      <td>3.15</td>\n",
       "    </tr>\n",
       "    <tr>\n",
       "      <th>23</th>\n",
       "      <td>144</td>\n",
       "      <td>80</td>\n",
       "      <td>80</td>\n",
       "      <td>100.0</td>\n",
       "      <td>0.42</td>\n",
       "      <td>0.11</td>\n",
       "      <td>0.44</td>\n",
       "      <td>1.56</td>\n",
       "      <td>1.70</td>\n",
       "      <td>2.31</td>\n",
       "      <td>10.90</td>\n",
       "      <td>6.16</td>\n",
       "      <td>12.52</td>\n",
       "      <td>48.95</td>\n",
       "      <td>2.82</td>\n",
       "    </tr>\n",
       "    <tr>\n",
       "      <th>26</th>\n",
       "      <td>155</td>\n",
       "      <td>80</td>\n",
       "      <td>80</td>\n",
       "      <td>100.0</td>\n",
       "      <td>0.49</td>\n",
       "      <td>0.11</td>\n",
       "      <td>0.50</td>\n",
       "      <td>1.47</td>\n",
       "      <td>1.73</td>\n",
       "      <td>2.27</td>\n",
       "      <td>7.97</td>\n",
       "      <td>7.64</td>\n",
       "      <td>11.05</td>\n",
       "      <td>51.87</td>\n",
       "      <td>3.11</td>\n",
       "    </tr>\n",
       "    <tr>\n",
       "      <th>8</th>\n",
       "      <td>172</td>\n",
       "      <td>80</td>\n",
       "      <td>80</td>\n",
       "      <td>100.0</td>\n",
       "      <td>0.44</td>\n",
       "      <td>0.15</td>\n",
       "      <td>0.46</td>\n",
       "      <td>1.52</td>\n",
       "      <td>1.83</td>\n",
       "      <td>2.37</td>\n",
       "      <td>9.32</td>\n",
       "      <td>10.17</td>\n",
       "      <td>13.80</td>\n",
       "      <td>51.84</td>\n",
       "      <td>2.96</td>\n",
       "    </tr>\n",
       "    <tr>\n",
       "      <th>9</th>\n",
       "      <td>188</td>\n",
       "      <td>80</td>\n",
       "      <td>80</td>\n",
       "      <td>100.0</td>\n",
       "      <td>0.47</td>\n",
       "      <td>0.12</td>\n",
       "      <td>0.48</td>\n",
       "      <td>1.60</td>\n",
       "      <td>1.95</td>\n",
       "      <td>2.53</td>\n",
       "      <td>13.92</td>\n",
       "      <td>9.68</td>\n",
       "      <td>16.96</td>\n",
       "      <td>53.12</td>\n",
       "      <td>3.11</td>\n",
       "    </tr>\n",
       "    <tr>\n",
       "      <th>25</th>\n",
       "      <td>191</td>\n",
       "      <td>80</td>\n",
       "      <td>80</td>\n",
       "      <td>100.0</td>\n",
       "      <td>0.40</td>\n",
       "      <td>0.07</td>\n",
       "      <td>0.41</td>\n",
       "      <td>1.76</td>\n",
       "      <td>1.39</td>\n",
       "      <td>2.24</td>\n",
       "      <td>8.18</td>\n",
       "      <td>5.65</td>\n",
       "      <td>9.94</td>\n",
       "      <td>48.48</td>\n",
       "      <td>3.30</td>\n",
       "    </tr>\n",
       "    <tr>\n",
       "      <th>21</th>\n",
       "      <td>193</td>\n",
       "      <td>80</td>\n",
       "      <td>80</td>\n",
       "      <td>100.0</td>\n",
       "      <td>0.39</td>\n",
       "      <td>0.11</td>\n",
       "      <td>0.40</td>\n",
       "      <td>1.35</td>\n",
       "      <td>1.53</td>\n",
       "      <td>2.04</td>\n",
       "      <td>5.43</td>\n",
       "      <td>6.18</td>\n",
       "      <td>8.22</td>\n",
       "      <td>52.36</td>\n",
       "      <td>2.95</td>\n",
       "    </tr>\n",
       "    <tr>\n",
       "      <th>29</th>\n",
       "      <td>194</td>\n",
       "      <td>80</td>\n",
       "      <td>80</td>\n",
       "      <td>100.0</td>\n",
       "      <td>0.47</td>\n",
       "      <td>0.08</td>\n",
       "      <td>0.48</td>\n",
       "      <td>1.48</td>\n",
       "      <td>1.76</td>\n",
       "      <td>2.30</td>\n",
       "      <td>8.89</td>\n",
       "      <td>9.49</td>\n",
       "      <td>13.00</td>\n",
       "      <td>53.29</td>\n",
       "      <td>2.96</td>\n",
       "    </tr>\n",
       "    <tr>\n",
       "      <th>15</th>\n",
       "      <td>200</td>\n",
       "      <td>80</td>\n",
       "      <td>80</td>\n",
       "      <td>100.0</td>\n",
       "      <td>0.51</td>\n",
       "      <td>0.15</td>\n",
       "      <td>0.54</td>\n",
       "      <td>1.93</td>\n",
       "      <td>1.76</td>\n",
       "      <td>2.62</td>\n",
       "      <td>8.27</td>\n",
       "      <td>10.44</td>\n",
       "      <td>13.32</td>\n",
       "      <td>55.14</td>\n",
       "      <td>3.35</td>\n",
       "    </tr>\n",
       "    <tr>\n",
       "      <th>0</th>\n",
       "      <td>208</td>\n",
       "      <td>80</td>\n",
       "      <td>80</td>\n",
       "      <td>100.0</td>\n",
       "      <td>0.34</td>\n",
       "      <td>0.14</td>\n",
       "      <td>0.37</td>\n",
       "      <td>1.89</td>\n",
       "      <td>1.60</td>\n",
       "      <td>2.47</td>\n",
       "      <td>12.14</td>\n",
       "      <td>9.72</td>\n",
       "      <td>15.55</td>\n",
       "      <td>55.00</td>\n",
       "      <td>3.16</td>\n",
       "    </tr>\n",
       "    <tr>\n",
       "      <th>31</th>\n",
       "      <td>209</td>\n",
       "      <td>80</td>\n",
       "      <td>80</td>\n",
       "      <td>100.0</td>\n",
       "      <td>0.44</td>\n",
       "      <td>0.13</td>\n",
       "      <td>0.46</td>\n",
       "      <td>1.83</td>\n",
       "      <td>2.09</td>\n",
       "      <td>2.78</td>\n",
       "      <td>8.60</td>\n",
       "      <td>9.04</td>\n",
       "      <td>12.48</td>\n",
       "      <td>53.98</td>\n",
       "      <td>2.86</td>\n",
       "    </tr>\n",
       "    <tr>\n",
       "      <th>5</th>\n",
       "      <td>230</td>\n",
       "      <td>80</td>\n",
       "      <td>80</td>\n",
       "      <td>100.0</td>\n",
       "      <td>0.44</td>\n",
       "      <td>0.12</td>\n",
       "      <td>0.46</td>\n",
       "      <td>1.68</td>\n",
       "      <td>1.40</td>\n",
       "      <td>2.19</td>\n",
       "      <td>7.74</td>\n",
       "      <td>6.46</td>\n",
       "      <td>10.09</td>\n",
       "      <td>48.56</td>\n",
       "      <td>3.33</td>\n",
       "    </tr>\n",
       "    <tr>\n",
       "      <th>39</th>\n",
       "      <td>242</td>\n",
       "      <td>80</td>\n",
       "      <td>80</td>\n",
       "      <td>100.0</td>\n",
       "      <td>0.36</td>\n",
       "      <td>0.10</td>\n",
       "      <td>0.38</td>\n",
       "      <td>1.78</td>\n",
       "      <td>1.79</td>\n",
       "      <td>2.52</td>\n",
       "      <td>9.68</td>\n",
       "      <td>5.74</td>\n",
       "      <td>11.26</td>\n",
       "      <td>52.66</td>\n",
       "      <td>3.14</td>\n",
       "    </tr>\n",
       "    <tr>\n",
       "      <th>2</th>\n",
       "      <td>262</td>\n",
       "      <td>80</td>\n",
       "      <td>80</td>\n",
       "      <td>100.0</td>\n",
       "      <td>0.39</td>\n",
       "      <td>0.19</td>\n",
       "      <td>0.44</td>\n",
       "      <td>1.78</td>\n",
       "      <td>2.02</td>\n",
       "      <td>2.69</td>\n",
       "      <td>10.66</td>\n",
       "      <td>6.55</td>\n",
       "      <td>12.51</td>\n",
       "      <td>55.18</td>\n",
       "      <td>3.33</td>\n",
       "    </tr>\n",
       "    <tr>\n",
       "      <th>14</th>\n",
       "      <td>285</td>\n",
       "      <td>80</td>\n",
       "      <td>80</td>\n",
       "      <td>100.0</td>\n",
       "      <td>0.48</td>\n",
       "      <td>0.18</td>\n",
       "      <td>0.51</td>\n",
       "      <td>1.57</td>\n",
       "      <td>1.84</td>\n",
       "      <td>2.42</td>\n",
       "      <td>6.60</td>\n",
       "      <td>8.76</td>\n",
       "      <td>10.96</td>\n",
       "      <td>53.38</td>\n",
       "      <td>2.89</td>\n",
       "    </tr>\n",
       "    <tr>\n",
       "      <th>24</th>\n",
       "      <td>286</td>\n",
       "      <td>80</td>\n",
       "      <td>80</td>\n",
       "      <td>100.0</td>\n",
       "      <td>0.38</td>\n",
       "      <td>0.09</td>\n",
       "      <td>0.39</td>\n",
       "      <td>1.34</td>\n",
       "      <td>1.80</td>\n",
       "      <td>2.24</td>\n",
       "      <td>5.39</td>\n",
       "      <td>9.82</td>\n",
       "      <td>11.20</td>\n",
       "      <td>50.74</td>\n",
       "      <td>2.83</td>\n",
       "    </tr>\n",
       "    <tr>\n",
       "      <th>3</th>\n",
       "      <td>288</td>\n",
       "      <td>80</td>\n",
       "      <td>80</td>\n",
       "      <td>100.0</td>\n",
       "      <td>0.50</td>\n",
       "      <td>0.18</td>\n",
       "      <td>0.53</td>\n",
       "      <td>1.81</td>\n",
       "      <td>1.96</td>\n",
       "      <td>2.67</td>\n",
       "      <td>10.72</td>\n",
       "      <td>7.46</td>\n",
       "      <td>13.06</td>\n",
       "      <td>59.61</td>\n",
       "      <td>3.23</td>\n",
       "    </tr>\n",
       "    <tr>\n",
       "      <th>27</th>\n",
       "      <td>291</td>\n",
       "      <td>80</td>\n",
       "      <td>80</td>\n",
       "      <td>100.0</td>\n",
       "      <td>0.40</td>\n",
       "      <td>0.13</td>\n",
       "      <td>0.42</td>\n",
       "      <td>1.78</td>\n",
       "      <td>1.68</td>\n",
       "      <td>2.45</td>\n",
       "      <td>7.16</td>\n",
       "      <td>8.02</td>\n",
       "      <td>10.75</td>\n",
       "      <td>56.32</td>\n",
       "      <td>3.34</td>\n",
       "    </tr>\n",
       "    <tr>\n",
       "      <th>18</th>\n",
       "      <td>297</td>\n",
       "      <td>80</td>\n",
       "      <td>80</td>\n",
       "      <td>100.0</td>\n",
       "      <td>0.46</td>\n",
       "      <td>0.09</td>\n",
       "      <td>0.47</td>\n",
       "      <td>1.76</td>\n",
       "      <td>2.12</td>\n",
       "      <td>2.75</td>\n",
       "      <td>8.24</td>\n",
       "      <td>8.21</td>\n",
       "      <td>11.63</td>\n",
       "      <td>53.28</td>\n",
       "      <td>3.13</td>\n",
       "    </tr>\n",
       "    <tr>\n",
       "      <th>33</th>\n",
       "      <td>301</td>\n",
       "      <td>80</td>\n",
       "      <td>80</td>\n",
       "      <td>100.0</td>\n",
       "      <td>0.49</td>\n",
       "      <td>0.12</td>\n",
       "      <td>0.50</td>\n",
       "      <td>1.79</td>\n",
       "      <td>1.89</td>\n",
       "      <td>2.60</td>\n",
       "      <td>9.54</td>\n",
       "      <td>6.81</td>\n",
       "      <td>11.72</td>\n",
       "      <td>54.07</td>\n",
       "      <td>3.27</td>\n",
       "    </tr>\n",
       "    <tr>\n",
       "      <th>1</th>\n",
       "      <td>304</td>\n",
       "      <td>80</td>\n",
       "      <td>80</td>\n",
       "      <td>100.0</td>\n",
       "      <td>0.37</td>\n",
       "      <td>0.10</td>\n",
       "      <td>0.39</td>\n",
       "      <td>1.83</td>\n",
       "      <td>1.57</td>\n",
       "      <td>2.41</td>\n",
       "      <td>10.01</td>\n",
       "      <td>8.19</td>\n",
       "      <td>12.93</td>\n",
       "      <td>51.75</td>\n",
       "      <td>3.32</td>\n",
       "    </tr>\n",
       "    <tr>\n",
       "      <th>32</th>\n",
       "      <td>310</td>\n",
       "      <td>80</td>\n",
       "      <td>80</td>\n",
       "      <td>100.0</td>\n",
       "      <td>0.37</td>\n",
       "      <td>0.11</td>\n",
       "      <td>0.39</td>\n",
       "      <td>1.61</td>\n",
       "      <td>1.43</td>\n",
       "      <td>2.15</td>\n",
       "      <td>6.33</td>\n",
       "      <td>5.27</td>\n",
       "      <td>8.24</td>\n",
       "      <td>55.23</td>\n",
       "      <td>3.22</td>\n",
       "    </tr>\n",
       "    <tr>\n",
       "      <th>22</th>\n",
       "      <td>322</td>\n",
       "      <td>80</td>\n",
       "      <td>80</td>\n",
       "      <td>100.0</td>\n",
       "      <td>0.38</td>\n",
       "      <td>0.06</td>\n",
       "      <td>0.39</td>\n",
       "      <td>1.44</td>\n",
       "      <td>1.48</td>\n",
       "      <td>2.07</td>\n",
       "      <td>5.05</td>\n",
       "      <td>5.90</td>\n",
       "      <td>7.76</td>\n",
       "      <td>46.53</td>\n",
       "      <td>2.87</td>\n",
       "    </tr>\n",
       "    <tr>\n",
       "      <th>11</th>\n",
       "      <td>323</td>\n",
       "      <td>80</td>\n",
       "      <td>80</td>\n",
       "      <td>100.0</td>\n",
       "      <td>0.48</td>\n",
       "      <td>0.10</td>\n",
       "      <td>0.49</td>\n",
       "      <td>1.73</td>\n",
       "      <td>2.44</td>\n",
       "      <td>2.99</td>\n",
       "      <td>8.24</td>\n",
       "      <td>20.63</td>\n",
       "      <td>22.21</td>\n",
       "      <td>54.67</td>\n",
       "      <td>3.81</td>\n",
       "    </tr>\n",
       "    <tr>\n",
       "      <th>35</th>\n",
       "      <td>324</td>\n",
       "      <td>80</td>\n",
       "      <td>80</td>\n",
       "      <td>100.0</td>\n",
       "      <td>0.31</td>\n",
       "      <td>0.14</td>\n",
       "      <td>0.34</td>\n",
       "      <td>1.55</td>\n",
       "      <td>1.86</td>\n",
       "      <td>2.42</td>\n",
       "      <td>8.70</td>\n",
       "      <td>6.86</td>\n",
       "      <td>11.08</td>\n",
       "      <td>54.16</td>\n",
       "      <td>3.26</td>\n",
       "    </tr>\n",
       "    <tr>\n",
       "      <th>37</th>\n",
       "      <td>357</td>\n",
       "      <td>80</td>\n",
       "      <td>80</td>\n",
       "      <td>100.0</td>\n",
       "      <td>0.42</td>\n",
       "      <td>0.10</td>\n",
       "      <td>0.43</td>\n",
       "      <td>1.72</td>\n",
       "      <td>1.46</td>\n",
       "      <td>2.26</td>\n",
       "      <td>8.82</td>\n",
       "      <td>4.86</td>\n",
       "      <td>10.08</td>\n",
       "      <td>50.83</td>\n",
       "      <td>2.97</td>\n",
       "    </tr>\n",
       "    <tr>\n",
       "      <th>17</th>\n",
       "      <td>365</td>\n",
       "      <td>80</td>\n",
       "      <td>80</td>\n",
       "      <td>100.0</td>\n",
       "      <td>0.39</td>\n",
       "      <td>0.08</td>\n",
       "      <td>0.39</td>\n",
       "      <td>1.73</td>\n",
       "      <td>1.75</td>\n",
       "      <td>2.46</td>\n",
       "      <td>8.52</td>\n",
       "      <td>7.37</td>\n",
       "      <td>11.27</td>\n",
       "      <td>48.79</td>\n",
       "      <td>3.18</td>\n",
       "    </tr>\n",
       "    <tr>\n",
       "      <th>12</th>\n",
       "      <td>371</td>\n",
       "      <td>80</td>\n",
       "      <td>80</td>\n",
       "      <td>100.0</td>\n",
       "      <td>0.46</td>\n",
       "      <td>0.11</td>\n",
       "      <td>0.47</td>\n",
       "      <td>1.56</td>\n",
       "      <td>1.75</td>\n",
       "      <td>2.35</td>\n",
       "      <td>6.49</td>\n",
       "      <td>8.27</td>\n",
       "      <td>10.51</td>\n",
       "      <td>51.11</td>\n",
       "      <td>3.02</td>\n",
       "    </tr>\n",
       "    <tr>\n",
       "      <th>16</th>\n",
       "      <td>383</td>\n",
       "      <td>80</td>\n",
       "      <td>80</td>\n",
       "      <td>100.0</td>\n",
       "      <td>0.42</td>\n",
       "      <td>0.11</td>\n",
       "      <td>0.44</td>\n",
       "      <td>1.73</td>\n",
       "      <td>2.08</td>\n",
       "      <td>2.71</td>\n",
       "      <td>9.06</td>\n",
       "      <td>7.30</td>\n",
       "      <td>11.63</td>\n",
       "      <td>52.37</td>\n",
       "      <td>2.96</td>\n",
       "    </tr>\n",
       "  </tbody>\n",
       "</table>\n",
       "</div>\n",
       "    <div class=\"colab-df-buttons\">\n",
       "\n",
       "  <div class=\"colab-df-container\">\n",
       "    <button class=\"colab-df-convert\" onclick=\"convertToInteractive('df-abc59d45-606c-4e64-a262-2fe9bd0fa73a')\"\n",
       "            title=\"Convert this dataframe to an interactive table.\"\n",
       "            style=\"display:none;\">\n",
       "\n",
       "  <svg xmlns=\"http://www.w3.org/2000/svg\" height=\"24px\" viewBox=\"0 -960 960 960\">\n",
       "    <path d=\"M120-120v-720h720v720H120Zm60-500h600v-160H180v160Zm220 220h160v-160H400v160Zm0 220h160v-160H400v160ZM180-400h160v-160H180v160Zm440 0h160v-160H620v160ZM180-180h160v-160H180v160Zm440 0h160v-160H620v160Z\"/>\n",
       "  </svg>\n",
       "    </button>\n",
       "\n",
       "  <style>\n",
       "    .colab-df-container {\n",
       "      display:flex;\n",
       "      gap: 12px;\n",
       "    }\n",
       "\n",
       "    .colab-df-convert {\n",
       "      background-color: #E8F0FE;\n",
       "      border: none;\n",
       "      border-radius: 50%;\n",
       "      cursor: pointer;\n",
       "      display: none;\n",
       "      fill: #1967D2;\n",
       "      height: 32px;\n",
       "      padding: 0 0 0 0;\n",
       "      width: 32px;\n",
       "    }\n",
       "\n",
       "    .colab-df-convert:hover {\n",
       "      background-color: #E2EBFA;\n",
       "      box-shadow: 0px 1px 2px rgba(60, 64, 67, 0.3), 0px 1px 3px 1px rgba(60, 64, 67, 0.15);\n",
       "      fill: #174EA6;\n",
       "    }\n",
       "\n",
       "    .colab-df-buttons div {\n",
       "      margin-bottom: 4px;\n",
       "    }\n",
       "\n",
       "    [theme=dark] .colab-df-convert {\n",
       "      background-color: #3B4455;\n",
       "      fill: #D2E3FC;\n",
       "    }\n",
       "\n",
       "    [theme=dark] .colab-df-convert:hover {\n",
       "      background-color: #434B5C;\n",
       "      box-shadow: 0px 1px 3px 1px rgba(0, 0, 0, 0.15);\n",
       "      filter: drop-shadow(0px 1px 2px rgba(0, 0, 0, 0.3));\n",
       "      fill: #FFFFFF;\n",
       "    }\n",
       "  </style>\n",
       "\n",
       "    <script>\n",
       "      const buttonEl =\n",
       "        document.querySelector('#df-abc59d45-606c-4e64-a262-2fe9bd0fa73a button.colab-df-convert');\n",
       "      buttonEl.style.display =\n",
       "        google.colab.kernel.accessAllowed ? 'block' : 'none';\n",
       "\n",
       "      async function convertToInteractive(key) {\n",
       "        const element = document.querySelector('#df-abc59d45-606c-4e64-a262-2fe9bd0fa73a');\n",
       "        const dataTable =\n",
       "          await google.colab.kernel.invokeFunction('convertToInteractive',\n",
       "                                                    [key], {});\n",
       "        if (!dataTable) return;\n",
       "\n",
       "        const docLinkHtml = 'Like what you see? Visit the ' +\n",
       "          '<a target=\"_blank\" href=https://colab.research.google.com/notebooks/data_table.ipynb>data table notebook</a>'\n",
       "          + ' to learn more about interactive tables.';\n",
       "        element.innerHTML = '';\n",
       "        dataTable['output_type'] = 'display_data';\n",
       "        await google.colab.output.renderOutput(dataTable, element);\n",
       "        const docLink = document.createElement('div');\n",
       "        docLink.innerHTML = docLinkHtml;\n",
       "        element.appendChild(docLink);\n",
       "      }\n",
       "    </script>\n",
       "  </div>\n",
       "\n",
       "\n",
       "<div id=\"df-b735ff22-249f-4a7c-b0d4-2de780fc67c6\">\n",
       "  <button class=\"colab-df-quickchart\" onclick=\"quickchart('df-b735ff22-249f-4a7c-b0d4-2de780fc67c6')\"\n",
       "            title=\"Suggest charts.\"\n",
       "            style=\"display:none;\">\n",
       "\n",
       "<svg xmlns=\"http://www.w3.org/2000/svg\" height=\"24px\"viewBox=\"0 0 24 24\"\n",
       "     width=\"24px\">\n",
       "    <g>\n",
       "        <path d=\"M19 3H5c-1.1 0-2 .9-2 2v14c0 1.1.9 2 2 2h14c1.1 0 2-.9 2-2V5c0-1.1-.9-2-2-2zM9 17H7v-7h2v7zm4 0h-2V7h2v10zm4 0h-2v-4h2v4z\"/>\n",
       "    </g>\n",
       "</svg>\n",
       "  </button>\n",
       "\n",
       "<style>\n",
       "  .colab-df-quickchart {\n",
       "      --bg-color: #E8F0FE;\n",
       "      --fill-color: #1967D2;\n",
       "      --hover-bg-color: #E2EBFA;\n",
       "      --hover-fill-color: #174EA6;\n",
       "      --disabled-fill-color: #AAA;\n",
       "      --disabled-bg-color: #DDD;\n",
       "  }\n",
       "\n",
       "  [theme=dark] .colab-df-quickchart {\n",
       "      --bg-color: #3B4455;\n",
       "      --fill-color: #D2E3FC;\n",
       "      --hover-bg-color: #434B5C;\n",
       "      --hover-fill-color: #FFFFFF;\n",
       "      --disabled-bg-color: #3B4455;\n",
       "      --disabled-fill-color: #666;\n",
       "  }\n",
       "\n",
       "  .colab-df-quickchart {\n",
       "    background-color: var(--bg-color);\n",
       "    border: none;\n",
       "    border-radius: 50%;\n",
       "    cursor: pointer;\n",
       "    display: none;\n",
       "    fill: var(--fill-color);\n",
       "    height: 32px;\n",
       "    padding: 0;\n",
       "    width: 32px;\n",
       "  }\n",
       "\n",
       "  .colab-df-quickchart:hover {\n",
       "    background-color: var(--hover-bg-color);\n",
       "    box-shadow: 0 1px 2px rgba(60, 64, 67, 0.3), 0 1px 3px 1px rgba(60, 64, 67, 0.15);\n",
       "    fill: var(--button-hover-fill-color);\n",
       "  }\n",
       "\n",
       "  .colab-df-quickchart-complete:disabled,\n",
       "  .colab-df-quickchart-complete:disabled:hover {\n",
       "    background-color: var(--disabled-bg-color);\n",
       "    fill: var(--disabled-fill-color);\n",
       "    box-shadow: none;\n",
       "  }\n",
       "\n",
       "  .colab-df-spinner {\n",
       "    border: 2px solid var(--fill-color);\n",
       "    border-color: transparent;\n",
       "    border-bottom-color: var(--fill-color);\n",
       "    animation:\n",
       "      spin 1s steps(1) infinite;\n",
       "  }\n",
       "\n",
       "  @keyframes spin {\n",
       "    0% {\n",
       "      border-color: transparent;\n",
       "      border-bottom-color: var(--fill-color);\n",
       "      border-left-color: var(--fill-color);\n",
       "    }\n",
       "    20% {\n",
       "      border-color: transparent;\n",
       "      border-left-color: var(--fill-color);\n",
       "      border-top-color: var(--fill-color);\n",
       "    }\n",
       "    30% {\n",
       "      border-color: transparent;\n",
       "      border-left-color: var(--fill-color);\n",
       "      border-top-color: var(--fill-color);\n",
       "      border-right-color: var(--fill-color);\n",
       "    }\n",
       "    40% {\n",
       "      border-color: transparent;\n",
       "      border-right-color: var(--fill-color);\n",
       "      border-top-color: var(--fill-color);\n",
       "    }\n",
       "    60% {\n",
       "      border-color: transparent;\n",
       "      border-right-color: var(--fill-color);\n",
       "    }\n",
       "    80% {\n",
       "      border-color: transparent;\n",
       "      border-right-color: var(--fill-color);\n",
       "      border-bottom-color: var(--fill-color);\n",
       "    }\n",
       "    90% {\n",
       "      border-color: transparent;\n",
       "      border-bottom-color: var(--fill-color);\n",
       "    }\n",
       "  }\n",
       "</style>\n",
       "\n",
       "  <script>\n",
       "    async function quickchart(key) {\n",
       "      const quickchartButtonEl =\n",
       "        document.querySelector('#' + key + ' button');\n",
       "      quickchartButtonEl.disabled = true;  // To prevent multiple clicks.\n",
       "      quickchartButtonEl.classList.add('colab-df-spinner');\n",
       "      try {\n",
       "        const charts = await google.colab.kernel.invokeFunction(\n",
       "            'suggestCharts', [key], {});\n",
       "      } catch (error) {\n",
       "        console.error('Error during call to suggestCharts:', error);\n",
       "      }\n",
       "      quickchartButtonEl.classList.remove('colab-df-spinner');\n",
       "      quickchartButtonEl.classList.add('colab-df-quickchart-complete');\n",
       "    }\n",
       "    (() => {\n",
       "      let quickchartButtonEl =\n",
       "        document.querySelector('#df-b735ff22-249f-4a7c-b0d4-2de780fc67c6 button');\n",
       "      quickchartButtonEl.style.display =\n",
       "        google.colab.kernel.accessAllowed ? 'block' : 'none';\n",
       "    })();\n",
       "  </script>\n",
       "</div>\n",
       "    </div>\n",
       "  </div>\n"
      ],
      "text/plain": [
       "    Image  Number identified - YOLO  Number identifiable - YOLO  \\\n",
       "36      4                        80                          80   \n",
       "13      8                        80                          80   \n",
       "20     28                        80                          80   \n",
       "19     31                        80                          80   \n",
       "6      45                        80                          80   \n",
       "38     57                        80                          80   \n",
       "34     70                        80                          80   \n",
       "4      77                        80                          80   \n",
       "10     93                        80                          80   \n",
       "30     97                        80                          80   \n",
       "28    109                        80                          80   \n",
       "7     115                        80                          80   \n",
       "23    144                        80                          80   \n",
       "26    155                        80                          80   \n",
       "8     172                        80                          80   \n",
       "9     188                        80                          80   \n",
       "25    191                        80                          80   \n",
       "21    193                        80                          80   \n",
       "29    194                        80                          80   \n",
       "15    200                        80                          80   \n",
       "0     208                        80                          80   \n",
       "31    209                        80                          80   \n",
       "5     230                        80                          80   \n",
       "39    242                        80                          80   \n",
       "2     262                        80                          80   \n",
       "14    285                        80                          80   \n",
       "24    286                        80                          80   \n",
       "3     288                        80                          80   \n",
       "27    291                        80                          80   \n",
       "18    297                        80                          80   \n",
       "33    301                        80                          80   \n",
       "1     304                        80                          80   \n",
       "32    310                        80                          80   \n",
       "22    322                        80                          80   \n",
       "11    323                        80                          80   \n",
       "35    324                        80                          80   \n",
       "37    357                        80                          80   \n",
       "17    365                        80                          80   \n",
       "12    371                        80                          80   \n",
       "16    383                        80                          80   \n",
       "\n",
       "    Percentage - YOLO  RMSE_cx - YOLO  RMSE_cy - YOLO  RMSE_c - YOLO  \\\n",
       "36              100.0            0.37            0.10           0.38   \n",
       "13              100.0            0.44            0.12           0.45   \n",
       "20              100.0            0.49            0.07           0.50   \n",
       "19              100.0            0.43            0.12           0.44   \n",
       "6               100.0            0.33            0.13           0.36   \n",
       "38              100.0            0.57            0.11           0.58   \n",
       "34              100.0            0.39            0.10           0.40   \n",
       "4               100.0            0.35            0.10           0.36   \n",
       "10              100.0            0.42            0.09           0.43   \n",
       "30              100.0            0.51            0.09           0.52   \n",
       "28              100.0            0.31            0.07           0.32   \n",
       "7               100.0            0.42            0.13           0.44   \n",
       "23              100.0            0.42            0.11           0.44   \n",
       "26              100.0            0.49            0.11           0.50   \n",
       "8               100.0            0.44            0.15           0.46   \n",
       "9               100.0            0.47            0.12           0.48   \n",
       "25              100.0            0.40            0.07           0.41   \n",
       "21              100.0            0.39            0.11           0.40   \n",
       "29              100.0            0.47            0.08           0.48   \n",
       "15              100.0            0.51            0.15           0.54   \n",
       "0               100.0            0.34            0.14           0.37   \n",
       "31              100.0            0.44            0.13           0.46   \n",
       "5               100.0            0.44            0.12           0.46   \n",
       "39              100.0            0.36            0.10           0.38   \n",
       "2               100.0            0.39            0.19           0.44   \n",
       "14              100.0            0.48            0.18           0.51   \n",
       "24              100.0            0.38            0.09           0.39   \n",
       "3               100.0            0.50            0.18           0.53   \n",
       "27              100.0            0.40            0.13           0.42   \n",
       "18              100.0            0.46            0.09           0.47   \n",
       "33              100.0            0.49            0.12           0.50   \n",
       "1               100.0            0.37            0.10           0.39   \n",
       "32              100.0            0.37            0.11           0.39   \n",
       "22              100.0            0.38            0.06           0.39   \n",
       "11              100.0            0.48            0.10           0.49   \n",
       "35              100.0            0.31            0.14           0.34   \n",
       "37              100.0            0.42            0.10           0.43   \n",
       "17              100.0            0.39            0.08           0.39   \n",
       "12              100.0            0.46            0.11           0.47   \n",
       "16              100.0            0.42            0.11           0.44   \n",
       "\n",
       "    RMSE_sigmax - YOLO  RMSE_sigmay - YOLO  RMSE_sigma - YOLO  \\\n",
       "36                1.62                1.90               2.50   \n",
       "13                1.95                1.73               2.61   \n",
       "20                1.55                1.94               2.48   \n",
       "19                1.52                1.69               2.27   \n",
       "6                 1.45                1.47               2.07   \n",
       "38                1.75                1.64               2.40   \n",
       "34                1.96                1.92               2.74   \n",
       "4                 1.55                1.55               2.19   \n",
       "10                1.43                1.50               2.07   \n",
       "30                1.68                1.64               2.34   \n",
       "28                1.46                1.30               1.96   \n",
       "7                 1.93                1.79               2.63   \n",
       "23                1.56                1.70               2.31   \n",
       "26                1.47                1.73               2.27   \n",
       "8                 1.52                1.83               2.37   \n",
       "9                 1.60                1.95               2.53   \n",
       "25                1.76                1.39               2.24   \n",
       "21                1.35                1.53               2.04   \n",
       "29                1.48                1.76               2.30   \n",
       "15                1.93                1.76               2.62   \n",
       "0                 1.89                1.60               2.47   \n",
       "31                1.83                2.09               2.78   \n",
       "5                 1.68                1.40               2.19   \n",
       "39                1.78                1.79               2.52   \n",
       "2                 1.78                2.02               2.69   \n",
       "14                1.57                1.84               2.42   \n",
       "24                1.34                1.80               2.24   \n",
       "3                 1.81                1.96               2.67   \n",
       "27                1.78                1.68               2.45   \n",
       "18                1.76                2.12               2.75   \n",
       "33                1.79                1.89               2.60   \n",
       "1                 1.83                1.57               2.41   \n",
       "32                1.61                1.43               2.15   \n",
       "22                1.44                1.48               2.07   \n",
       "11                1.73                2.44               2.99   \n",
       "35                1.55                1.86               2.42   \n",
       "37                1.72                1.46               2.26   \n",
       "17                1.73                1.75               2.46   \n",
       "12                1.56                1.75               2.35   \n",
       "16                1.73                2.08               2.71   \n",
       "\n",
       "    MaxE_sigmax - YOLO  MaxE_sigmay - YOLO  MaxE_sigma - YOLO  \\\n",
       "36                9.99                6.61              11.98   \n",
       "13               10.63                7.95              13.28   \n",
       "20               11.94               10.19              15.70   \n",
       "19                8.14                8.93              12.08   \n",
       "6                 6.01                6.37               8.76   \n",
       "38               10.02                5.96              11.66   \n",
       "34                9.91                8.27              12.91   \n",
       "4                 5.48                7.80               9.54   \n",
       "10                7.33                5.59               9.22   \n",
       "30                8.25               10.00              12.97   \n",
       "28                6.89                4.79               8.39   \n",
       "7                 6.94                6.70               9.65   \n",
       "23               10.90                6.16              12.52   \n",
       "26                7.97                7.64              11.05   \n",
       "8                 9.32               10.17              13.80   \n",
       "9                13.92                9.68              16.96   \n",
       "25                8.18                5.65               9.94   \n",
       "21                5.43                6.18               8.22   \n",
       "29                8.89                9.49              13.00   \n",
       "15                8.27               10.44              13.32   \n",
       "0                12.14                9.72              15.55   \n",
       "31                8.60                9.04              12.48   \n",
       "5                 7.74                6.46              10.09   \n",
       "39                9.68                5.74              11.26   \n",
       "2                10.66                6.55              12.51   \n",
       "14                6.60                8.76              10.96   \n",
       "24                5.39                9.82              11.20   \n",
       "3                10.72                7.46              13.06   \n",
       "27                7.16                8.02              10.75   \n",
       "18                8.24                8.21              11.63   \n",
       "33                9.54                6.81              11.72   \n",
       "1                10.01                8.19              12.93   \n",
       "32                6.33                5.27               8.24   \n",
       "22                5.05                5.90               7.76   \n",
       "11                8.24               20.63              22.21   \n",
       "35                8.70                6.86              11.08   \n",
       "37                8.82                4.86              10.08   \n",
       "17                8.52                7.37              11.27   \n",
       "12                6.49                8.27              10.51   \n",
       "16                9.06                7.30              11.63   \n",
       "\n",
       "    RMSE_amplitude - YOLO  RMSEPixel - YOLO  \n",
       "36                  50.19              3.10  \n",
       "13                  50.70              2.91  \n",
       "20                  49.55              2.98  \n",
       "19                  51.23              3.15  \n",
       "6                   54.08              3.14  \n",
       "38                  52.08              3.03  \n",
       "34                  54.93              3.17  \n",
       "4                   47.69              2.96  \n",
       "10                  52.88              2.96  \n",
       "30                  52.53              3.14  \n",
       "28                  45.56              2.80  \n",
       "7                   53.60              3.15  \n",
       "23                  48.95              2.82  \n",
       "26                  51.87              3.11  \n",
       "8                   51.84              2.96  \n",
       "9                   53.12              3.11  \n",
       "25                  48.48              3.30  \n",
       "21                  52.36              2.95  \n",
       "29                  53.29              2.96  \n",
       "15                  55.14              3.35  \n",
       "0                   55.00              3.16  \n",
       "31                  53.98              2.86  \n",
       "5                   48.56              3.33  \n",
       "39                  52.66              3.14  \n",
       "2                   55.18              3.33  \n",
       "14                  53.38              2.89  \n",
       "24                  50.74              2.83  \n",
       "3                   59.61              3.23  \n",
       "27                  56.32              3.34  \n",
       "18                  53.28              3.13  \n",
       "33                  54.07              3.27  \n",
       "1                   51.75              3.32  \n",
       "32                  55.23              3.22  \n",
       "22                  46.53              2.87  \n",
       "11                  54.67              3.81  \n",
       "35                  54.16              3.26  \n",
       "37                  50.83              2.97  \n",
       "17                  48.79              3.18  \n",
       "12                  51.11              3.02  \n",
       "16                  52.37              2.96  "
      ]
     },
     "execution_count": 110,
     "metadata": {},
     "output_type": "execute_result"
    }
   ],
   "source": [
    "# Results\n",
    "pd.DataFrame.from_dict(results).round(2).sort_values(\"Image\")"
   ]
  },
  {
   "cell_type": "code",
   "execution_count": null,
   "metadata": {
    "id": "zMmkqKRKZoIa"
   },
   "outputs": [],
   "source": [
    "# SNAPSHOTS THE RESULTS WITH THE ANNOTATIONS\n",
    "snapshot_folder_path = f\"\"\"../docs/Results/snapshot_v{str(datetime.now().date())}/\"\"\"\n",
    "\n",
    "# Save for Yolo\n",
    "checkpoint_error(\n",
    "    snapshot_folder_path=snapshot_folder_path,\n",
    "    error_dataframe=pd.DataFrame.from_dict(results).sort_values(\"Image\"),\n",
    "    annotation=f\"\"\"Amplitudes estimated using the center directly\\n\n",
    "                 image_path = {\"../docs/Data/Images_T80kenji/\"}\\n\n",
    "                 id_estimation_method = {model.__dict__['ckpt_path']}\\n\n",
    "                 id_images evaluated: {eval_images}\"\"\",\n",
    "    name=\"T80kenjiYOLO\",\n",
    ")"
   ]
  }
 ],
 "metadata": {
  "colab": {
   "authorship_tag": "ABX9TyM5yZUQ8Js6QQcn98AR5nKA",
   "collapsed_sections": [
    "63RLqu9Dhqlc",
    "6F-x3NKN4X1M",
    "GW16atm0LgQb",
    "tIZpjucVaIZb",
    "xniGKI0_3BYE",
    "FrkdtJLKDxLm",
    "N-BlYT_0Skqh",
    "Dwq8JPctow8V",
    "5cek6gJJ8Jl6",
    "mxdCWjL5ye_W",
    "BFGl_AEloFcw",
    "3A7FTCCOX889",
    "l1usTDo1pU1G",
    "OWLN9Rr_pXrZ",
    "OgY58403H8_4",
    "7i0nNDmfnzCv"
   ],
   "provenance": []
  },
  "kernelspec": {
   "display_name": "Python 3",
   "name": "python3"
  },
  "language_info": {
   "name": "python"
  }
 },
 "nbformat": 4,
 "nbformat_minor": 0
}
